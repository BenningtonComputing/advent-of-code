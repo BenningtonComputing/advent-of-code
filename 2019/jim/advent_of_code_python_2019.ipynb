{
 "cells": [
  {
   "cell_type": "markdown",
   "metadata": {},
   "source": [
    "# [Advent of Code 2019](http://adventofcode.com/2019)\n",
    "\n",
    "Jim Mahoney | jimmahoney@bennington.edu | cs.bennington.college | [github](https://github.com/BenningtonComputing/advent-of-code)"
   ]
  },
  {
   "cell_type": "markdown",
   "metadata": {},
   "source": [
    "## Preparations"
   ]
  },
  {
   "cell_type": "code",
   "execution_count": 1,
   "metadata": {},
   "outputs": [],
   "source": [
    "# Some of these are from Peter Norvig's \n",
    "# github.com/norvig/pytudes/blob/master/ipynb/Advent%202017.ipynb\n",
    "\n",
    "import numpy as np\n",
    "from numpy import sin, cos, sqrt, pi, arctan2, degrees, radians\n",
    "import matplotlib.pyplot as plt\n",
    "import matplotlib.image as mpimg\n",
    "from statistics import mean, median, stdev\n",
    "from IPython.core.display import HTML\n",
    "from collections import deque, Counter, OrderedDict, defaultdict\n",
    "from itertools import permutations\n",
    "import subprocess\n",
    "from copy import copy, deepcopy\n",
    "import functools\n",
    "from time import time\n",
    "memoize = functools.lru_cache(None, typed=True)\n",
    "\n",
    "# Download puzzle input files into e.g. puzzle_input/1.txt .\n",
    "def puzzle_input(daynumber):\n",
    "    \"\"\" return the open file for given day \"\"\"\n",
    "    filename = f\"puzzle_inputs/{daynumber}.txt\"\n",
    "    try:\n",
    "        return open(filename)\n",
    "    except FileNotFoundError:\n",
    "        print(f\"Oops - couldn't find '{filename}'\")\n",
    "\n",
    "# -- 2D geometry  --\n",
    "\n",
    "#    Using tuples for points rather than numpy arrays or complex numbers\n",
    "#    keeps integers as integers so grids work without roundoff errors.\n",
    "#    Also with vector operations.\n",
    "def Point(x, y): return (x, y)\n",
    "def X(p): return p[0]\n",
    "def Y(p): return p[1]\n",
    "def dot(p1, p2): return X(p1)*X(p2) + Y(p1)*Y(p2)\n",
    "def manhattan(p): return abs(X(p)) + abs(Y(p))\n",
    "def add(p1, p2): return Point(X(p1) + X(p2), Y(p1) + Y(p2))\n",
    "def subtract(p1, p2): return Point(X(p1) - X(p2), Y(p1) - Y(p2))\n",
    "def scale(s, p): return Point(s * X(p), s * Y(p))\n",
    "#    examples :\n",
    "assert X(Point(3,4))==3 and Y(Point(3,4))==4\n",
    "assert add(Point(1,2), Point(3,4)) == Point(4,6)\n",
    "assert subtract(Point(1,2), Point(3,-1)) == Point(-2,3)\n",
    "assert dot(Point(1,2), Point(10,11)) == 32\n",
    "assert scale(2, Point(3,4)) == Point(6,8)\n",
    "assert manhattan(Point(3,-5)) == 8\n",
    "\n",
    "UP = (0,1)     # traditional euclid geometry conventions\n",
    "RIGHT = (1,0)  # .\n",
    "LEFT = (-1,0)  # .\n",
    "DOWN = (0,-1)  # .\n",
    "turn_right = { UP:RIGHT, RIGHT:DOWN, DOWN:LEFT, LEFT:UP }\n",
    "turn_left = { UP:LEFT, LEFT:DOWN, DOWN:RIGHT, RIGHT:UP }\n",
    "\n",
    "def clockangle(x,y, invert_y=False):\n",
    "    \"\"\" return angle in degrees clockwise from 12:00. \"\"\"\n",
    "    if invert_y: y = -y   # use this when y is row number, increasing downward\n",
    "    angle = 90.0 - degrees(arctan2(y, x))\n",
    "    if angle < 0.0: angle += 360.0\n",
    "    return angle\n",
    "\n",
    "for (x,y,angle) in ((0,1,0.0), (1,1,45.0), (1,0,90.0), (1,-1,135.0), \n",
    "                    (0,-1,180.0), (-1,-1,225.0), (-1,0,270.0), (-1,1,315.0)):\n",
    "    assert clockangle(x,y) == angle, f\"{x},{y},{angle}\"\n",
    "assert clockangle(0, -1, invert_y=True) == 0.0\n",
    "\n",
    "# -- functional utilities\n",
    "\n",
    "def allsame(xs): return len(set(xs))==1\n",
    "def allunique(xs): return len(set(xs))==len(xs)\n",
    "def length(xs): return len(tuple(xs)) # works on filter,map,...\n",
    "identity = lambda x:x\n",
    "def first(xs, default=None): \n",
    "    try:\n",
    "        return (tuple(xs))[0]\n",
    "    except:\n",
    "        return default\n",
    "def nth(xs, n, default=None): \n",
    "    try:\n",
    "        return (tuple(xs))[n]\n",
    "    except:\n",
    "        return default\n",
    "def mapt(f, xs): return tuple(map(f, xs)) # tuple(map())\n",
    "def pairwise(xs): return tuple(zip((tuple(xs))[:-1], (tuple(xs))[1:])) # ((x0,x1), (x1,x2), ...)\n",
    "# -- tests --\n",
    "assert first((1,2))==1\n",
    "assert nth((1,2), 1)==2\n",
    "assert allsame((1,1,1))==True\n",
    "assert allsame((1,1,2))==False\n",
    "assert allunique((1,2,3))==True\n",
    "assert allunique((1,1,2))==False\n",
    "assert mapt(lambda x:2*x, (1,2,3)) == (2,4,6)\n",
    "assert length(filter( lambda x: x<10, range(20))) == 10\n",
    "assert pairwise(range(4)) == ((0,1), (1,2), (2,3))\n",
    "\n",
    "# -- constants --\n",
    "\n",
    "inf = float('inf')\n",
    "assert inf > 1e99\n",
    "\n",
    "def show_png(filename, dpi=200, invert=True, background=0.15):\n",
    "    \"\"\" show a png image \"\"\"\n",
    "    # Using matplot puts it into the notebook\n",
    "    # and in the \"download as html\" single-file \n",
    "    # This also works to display the image in the browser,\n",
    "    # but does not put it into the saved notebook html file.\n",
    "    #display(HTML(\"<img style='filter:invert(80%);' src='file.png'>\"))    \n",
    "    png = mpimg.imread(filename)\n",
    "    height, width = png.shape[0:2]\n",
    "    dpi=200\n",
    "    plt.figure(dpi=dpi, figsize=(width/dpi, height/dpi))\n",
    "    if invert:\n",
    "        png = background + (1.0-background)*(1.0 - png[:,:,:3])\n",
    "    plt.imshow(png)\n",
    "    plt.axis('off')\n",
    "    plt.show()\n",
    "\n",
    "# -- data structures --\n",
    "\n",
    "class Stack:\n",
    "    def __init__(self, values=[]):\n",
    "        self.values = deque(values)\n",
    "    def push(self, value):\n",
    "        return self.values.append(value)\n",
    "    def pop(self):\n",
    "        return self.values.pop()\n",
    "    def __len__(self):\n",
    "        return len(self.values)\n",
    "    def __str__(self):\n",
    "        return f\"Stack({list(self.values)})\"\n",
    "class Queue(Stack):\n",
    "    def pop(self):\n",
    "        return self.values.popleft()\n",
    "    def __str__(self):\n",
    "        return f\"Queue({list(self.values)})\"\n",
    "stack_test = Stack([1,2,3])\n",
    "stack_test.push(4)\n",
    "assert stack_test.pop() == 4\n",
    "assert str(stack_test) == 'Stack([1, 2, 3])'\n",
    "queue_test = Queue([1,2,3])\n",
    "queue_test.push(4)\n",
    "assert queue_test.pop() == 1\n",
    "assert str(queue_test) == 'Queue([2, 3, 4])'\n",
    "\n",
    "def expand(values, index, padding=128):\n",
    "    \"\"\" Modify in place and return the list values[] by appending\n",
    "        zeros to ensure that values[index] is not out of bounds.\n",
    "        An error is raised if index is negative.\n",
    "    \"\"\"\n",
    "    assert index >= 0, f\"Oops: negative index in expand(values, index={index})\"\n",
    "    if index >= len(values):\n",
    "        space_needed = index - len(values) + 1\n",
    "        values.extend([0] * (space_needed + padding))\n",
    "    return values\n",
    "expand_test = [100, 101, 102]\n",
    "assert expand(expand_test, 2, padding=0) == [100, 101, 102]\n",
    "assert expand(expand_test, 5, padding=0) == [100, 101, 102, 0, 0, 0]\n",
    "\n",
    "# -- numerical methods --\n",
    "\n",
    "@memoize\n",
    "def gcd(a, b):\n",
    "    \"\"\" greatest common divisor \"\"\"\n",
    "    # wikipedia.org/wiki/Greatest_common_divisor#Euclid's_algorithm\n",
    "    return a if b == 0 else gcd(b, a % b)\n",
    "assert gcd(10,15) == gcd(15,10) == 5\n",
    "assert gcd(16, 16) == 16 and gcd(16, 12) == 4\n",
    "\n",
    "@memoize\n",
    "def lcm(a, b):\n",
    "    \"\"\" lowest common multiple \"\"\"\n",
    "    # stackoverflow.com/questions/147515/least-common-multiple-for-3-or-more-numbers\n",
    "    return a * b // gcd(a,b)\n",
    "assert lcm(10, 15) == 30\n",
    "assert lcm(24, 16) == 48\n",
    "\n",
    "@memoize\n",
    "def reduce(a, b):\n",
    "    \"\"\" return (aa, bb) with same ratio but no common factors\"\"\"\n",
    "    if a == b == 0:\n",
    "        return (0,0)\n",
    "    _gcd = abs(gcd(a,b))\n",
    "    return (a//_gcd, b//_gcd)\n",
    "assert reduce(24,16) == (3,2)\n",
    "assert reduce(-4,2) == (-2,1)\n",
    "assert reduce(0,0) == (0,0)\n",
    "assert reduce(1,0) == (1,0)\n",
    "assert reduce(0,-1) == (0,-1)"
   ]
  },
  {
   "cell_type": "markdown",
   "metadata": {},
   "source": [
    "---\n",
    "## [Day 1](http://adventofcode.com/2019/day/1) : The Tyranny of the Rocket Equation"
   ]
  },
  {
   "cell_type": "code",
   "execution_count": 2,
   "metadata": {},
   "outputs": [
    {
     "name": "stdout",
     "output_type": "stream",
     "text": [
      "The first few raw lines are : ['85824\\n', '112173\\n', '142065\\n']\n",
      "The number of entries is 100.\n",
      "The first 3 are [85824, 112173, 142065].\n"
     ]
    }
   ],
   "source": [
    "# --- input ---\n",
    "# 85824\n",
    "# 112173\n",
    "# ...\n",
    "\n",
    "day1_raw_lines = puzzle_input(1).readlines()\n",
    "print(f\"The first few raw lines are : {day1_raw_lines[:3]}\")\n",
    "day1 = [int(line.strip()) for line in day1_raw_lines]\n",
    "print(f\"The number of entries is {len(day1)}.\")\n",
    "print(f\"The first 3 are {day1[:3]}.\")"
   ]
  },
  {
   "cell_type": "markdown",
   "metadata": {},
   "source": [
    "### Day 1 Part One"
   ]
  },
  {
   "cell_type": "code",
   "execution_count": 3,
   "metadata": {},
   "outputs": [
    {
     "name": "stdout",
     "output_type": "stream",
     "text": [
      "Day 1 Part 1 is 3453056.\n"
     ]
    }
   ],
   "source": [
    "def calc_fuel(mass):\n",
    "    \"\"\" divide by three, round down, and subtract 2 \"\"\"\n",
    "    return mass // 3 - 2\n",
    "\n",
    "test_masses = (12, 14, 1969, 100756)\n",
    "test_results = (2, 2, 654, 33583)\n",
    "for (mass, result) in zip(test_masses, test_results):\n",
    "    assert result == calc_fuel(mass)\n",
    "\n",
    "day1_part1 = sum(calc_fuel(mass) for mass in day1)\n",
    "print(f\"Day 1 Part 1 is {day1_part1}.\")"
   ]
  },
  {
   "cell_type": "markdown",
   "metadata": {},
   "source": [
    "### Day 1 Part Two"
   ]
  },
  {
   "cell_type": "code",
   "execution_count": 4,
   "metadata": {},
   "outputs": [
    {
     "name": "stdout",
     "output_type": "stream",
     "text": [
      "Day 1 Part 2 is 5176705.\n"
     ]
    }
   ],
   "source": [
    "def total_fuel(mass, accumulated=0, verbose=False):\n",
    "    \"\"\" repeat and accumulate until not positive \"\"\"\n",
    "    if verbose:\n",
    "        print(f\" mass={mass}, accumulated={accumulated}\")\n",
    "    fuel = calc_fuel(mass)\n",
    "    if fuel < 0:\n",
    "        return accumulated\n",
    "    else:\n",
    "        return total_fuel(fuel, accumulated + fuel, verbose=verbose)\n",
    "\n",
    "test_masses_2 = (14, 1969, 100756)\n",
    "test_results_2 = (2, 966, 50346)\n",
    "for (mass, result) in zip(test_masses_2, test_results_2):\n",
    "    total = total_fuel(mass, verbose=False)\n",
    "    #print(f\"-- assert mass={mass}, want={result}, got={total} --\")\n",
    "    assert result == total\n",
    "    \n",
    "day1_part2 = sum(total_fuel(mass) for mass in day1)\n",
    "print(f\"Day 1 Part 2 is {day1_part2}.\")"
   ]
  },
  {
   "cell_type": "markdown",
   "metadata": {},
   "source": [
    "---\n",
    "## [Day 2](http://adventofcode.com/2019/day/2) : 1202 Program Alarm"
   ]
  },
  {
   "cell_type": "code",
   "execution_count": 5,
   "metadata": {},
   "outputs": [
    {
     "name": "stdout",
     "output_type": "stream",
     "text": [
      "The beginning and end of day2_raw is '1,0,0,3,1,' and '9,2,0,14,0'.\n",
      "The 149 integers of day2 are [1, 0, 0, 3, 1, 1 ... 0, 99, 2, 0, 14, 0].\n"
     ]
    }
   ],
   "source": [
    "# -- input --\n",
    "# 1,0,0,3,1,1,2,3,1,3,4,3,1,5,0,3,2,6, ...\n",
    "day2_raw = puzzle_input(2).read().strip()\n",
    "print(f\"The beginning and end of day2_raw is '{day2_raw[:10]}' and '{day2_raw[-10:]}'.\")\n",
    "\n",
    "def parse_intcode(string):\n",
    "    \"Convert '1,2,3' to [1,2,3] \"\n",
    "    return [int(s.strip()) for s in string.split(',')]\n",
    "\n",
    "day2 = parse_intcode(day2_raw)\n",
    "print(f\"The {len(day2)} integers of day2 are {str(day2[:6])[:-1]} ... {str(day2[-6:])[1:]}.\")"
   ]
  },
  {
   "cell_type": "markdown",
   "metadata": {},
   "source": [
    "### Day 2 Part One"
   ]
  },
  {
   "cell_type": "code",
   "execution_count": 6,
   "metadata": {},
   "outputs": [
    {
     "name": "stdout",
     "output_type": "stream",
     "text": [
      "Day 2 Part 1 is 4090689.\n"
     ]
    }
   ],
   "source": [
    "# The state of the machine is defined by (ip, intcode) where\n",
    "#    ip       :  address of next instruction to be executed\n",
    "#    intcode  :  Intcode program i.e. list of integers \n",
    "\n",
    "def addresses(intcodes, ip):\n",
    "    \"\"\" Return the three address (a, b, c) at positions 1,2,3 past ip. \"\"\"\n",
    "    return intcodes[ip+1 : ip+4]\n",
    "\n",
    "def op_add(intcodes, ip):\n",
    "    (a, b, c) = addresses(intcodes, ip)\n",
    "    intcodes[c] = intcodes[a] + intcodes[b]\n",
    "    return (intcodes, ip + 4)\n",
    "\n",
    "def op_multiply(intcodes, ip):\n",
    "    (a, b, c) = addresses(intcodes, ip)\n",
    "    intcodes[c] = intcodes[a] * intcodes[b]\n",
    "    return (intcodes, ip + 4)\n",
    "\n",
    "def op_halt(intcodes, ip):\n",
    "    return (intcodes, -1)   # signal 'finished' with a negative ip.\n",
    "\n",
    "def reset_1202(intcodes):\n",
    "    \"\"\" reset to 1202 program alarm \"\"\"\n",
    "    intcodes[1] = 12\n",
    "    intcodes[2] = 2\n",
    "    return intcodes\n",
    "\n",
    "operations = { 1 : op_add,\n",
    "               2 : op_multiply,\n",
    "              99 : op_halt\n",
    "             }\n",
    "\n",
    "def run(intcodes, ip=0, reset=True):\n",
    "    \"\"\" Execute the instructions in the intcodes. \"\"\"\n",
    "    intcodes = intcodes[:] # work on a copy\n",
    "    ip = 0\n",
    "    if reset:\n",
    "        intcodes = reset_1202(intcodes)\n",
    "    while True:\n",
    "        op = operations[intcodes[ip]]\n",
    "        (intcodes, ip) = op(intcodes, ip)\n",
    "        if ip < 0:\n",
    "            return intcodes\n",
    "\n",
    "test_inputs = ([1,9,10,3,2,3,11,0,99,30,40,50],\n",
    "               [1,0,0,0,99],\n",
    "               [2,3,0,3,99],\n",
    "               [2,4,4,5,99,0],\n",
    "               [1,1,1,4,99,5,6,0,99]\n",
    "              )\n",
    "\n",
    "test_outputs = ([3500,9,10,70, 2,3,11,0, 99, 30,40,50],\n",
    "                [2,0,0,0,99],\n",
    "                [2,3,0,6,99],\n",
    "                [2,4,4,5,99,9801],\n",
    "                [30,1,1,4,2,5,6,0,99]\n",
    "               )\n",
    "\n",
    "for (test_in, test_out) in zip(test_inputs, test_outputs):\n",
    "    assert run(test_in, reset=False) == test_out\n",
    "    \n",
    "day_2_part_1 = run(day2)[0]\n",
    "print(f\"Day 2 Part 1 is {day_2_part_1}.\")"
   ]
  },
  {
   "cell_type": "markdown",
   "metadata": {},
   "source": [
    "### Day 2 Part 2"
   ]
  },
  {
   "cell_type": "code",
   "execution_count": 7,
   "metadata": {},
   "outputs": [
    {
     "name": "stdout",
     "output_type": "stream",
     "text": [
      "Day 2 Part 2 is 7733.\n"
     ]
    }
   ],
   "source": [
    "def run2(*inputs, intcodes=day2):\n",
    "    \"\"\" Run the intcodes code with initial values (noun, verb) \"\"\"\n",
    "    intcodes = intcodes[:]     # Work on a copy, not the original.\n",
    "    assert len(inputs) == 2    # Make sure we have two input values.\n",
    "    intcodes[1:3] = inputs     # Replace intcodes[1] and intcodes[2].\n",
    "    ip = 0                     # Initialize instruction pointer.\n",
    "    while True:\n",
    "        op = operations[intcodes[ip]]           # Get operation at address ip.\n",
    "        (intcodes, ip) = op(intcodes, ip)       # Get new state by doing it.\n",
    "        if ip < 0:                              # Done?\n",
    "            return intcodes[0]\n",
    "\n",
    "assert run2(12, 2) == 4090689                   # Test that this still gives part 1.\n",
    "\n",
    "for noun in range(100):\n",
    "    for verb in range(100):\n",
    "        if run2(noun, verb) == 19690720:            \n",
    "            #print(f\"noun={noun}, verb={verb}\")\n",
    "            print(f\"Day 2 Part 2 is {100*noun+verb}.\")\n",
    "            break"
   ]
  },
  {
   "cell_type": "markdown",
   "metadata": {},
   "source": [
    "---\n",
    "## [Day 3](http://adventofcode.com/2019/day/3) : Crossed Wires"
   ]
  },
  {
   "cell_type": "code",
   "execution_count": 8,
   "metadata": {},
   "outputs": [
    {
     "name": "stdout",
     "output_type": "stream",
     "text": [
      "day3_wire1 : length 1471, starts 'R1005,U370,L' , ends '61,D849,R379'.\n",
      "day3_wire2 : length 1475, starts 'L998,U242,R3' , ends '71,D912,R227'.\n"
     ]
    }
   ],
   "source": [
    "day3_raw = puzzle_input(3).read()\n",
    "#day3_raw\n",
    "(day3_wire1, day3_wire2) = ( wire.strip() for wire in puzzle_input(3).readlines() )\n",
    "print(f\"day3_wire1 : length {len(day3_wire1)}, starts '{day3_wire1[:12]}' , ends '{day3_wire1[-12:]}'.\")\n",
    "print(f\"day3_wire2 : length {len(day3_wire2)}, starts '{day3_wire2[:12]}' , ends '{day3_wire2[-12:]}'.\")"
   ]
  },
  {
   "cell_type": "markdown",
   "metadata": {},
   "source": [
    "### Day 3 Part 1"
   ]
  },
  {
   "cell_type": "code",
   "execution_count": 9,
   "metadata": {},
   "outputs": [
    {
     "name": "stdout",
     "output_type": "stream",
     "text": [
      " . . . . . . . . . . . . .\n",
      " . . . . . . . . . . . . .\n",
      " . . n n n n n n n . . . .\n",
      " . . n . . . . . n . . . .\n",
      " . . n . . m m m X m m . .\n",
      " . . n . . m . . n . m . .\n",
      " . . n . n X n n n . m . .\n",
      " . . n . . m . . . . m . .\n",
      " . . n . . . . . . . m . .\n",
      " . . 0 m m m m m m m m . .\n",
      " . . . . . . . . . . . . .\n",
      " . . . . . . . . . . . . .\n",
      "\n",
      "Day 3 Part 1 answer is 1626.\n"
     ]
    }
   ],
   "source": [
    "directions = {'R': Point(1,0),    # Right\n",
    "              'L': Point(-1,0),   # Left\n",
    "              'U': Point(0,1),    # Up\n",
    "              'D': Point(0,-1)    # Down\n",
    "             }\n",
    "\n",
    "def point_set(wire):\n",
    "    \"\"\" Return set of points that the wire (e.g. 'L23,R10,U10') goes through \"\"\"\n",
    "    result = set()\n",
    "    location = Point(0,0)\n",
    "    for segment in wire.split(','):\n",
    "        direction = directions[segment[0]]\n",
    "        distance = int(segment[1:])\n",
    "        for d in range(distance):\n",
    "            location = add(location, direction)  # Here \"add\" means geometric vector add.\n",
    "            result.add(location)                 # Here \"add\" means append to set.\n",
    "    return result\n",
    "\n",
    "def draw(w1, w2):\n",
    "    \"\"\" Draw two wires \"\"\"\n",
    "    points1 = point_set(w1)\n",
    "    points2 = point_set(w2)\n",
    "    all_points = points1.union(points2)\n",
    "    shared_points = points1.intersection(points2)\n",
    "    xmax = max( X(p) for p in all_points ) + 2\n",
    "    xmin = min( X(p) for p in all_points ) - 2\n",
    "    ymax = max( Y(p) for p in all_points ) + 2\n",
    "    ymin = min( Y(p) for p in all_points ) - 2\n",
    "    origin = Point(0,0)\n",
    "    for y in range(ymax, ymin-1, -1):\n",
    "        for x in range(xmin, xmax+1):\n",
    "            p = Point(x,y)\n",
    "            if p == origin:\n",
    "                symbol = '0'\n",
    "            elif p in shared_points:\n",
    "                symbol = 'X'     # X marks the spot(s)\n",
    "            elif p in points1:\n",
    "                symbol = 'm'\n",
    "            elif p in points2:\n",
    "                symbol = 'n'\n",
    "            else:\n",
    "                symbol = '.'\n",
    "            print(' ' + symbol, end='')\n",
    "        print()\n",
    "\n",
    "draw('R8,U5,L5,D3', 'U7,R6,D4,L4')  # Illustrated in the problem statement.\n",
    "\n",
    "def closest(w1, w2):\n",
    "    \"\"\" Manhatten distance to closest crossing \"\"\"\n",
    "    return min(manhattan(p) for p in point_set(w1).intersection(point_set(w2)))\n",
    "\n",
    "tests = ( ('R8,U5,L5,D3', \n",
    "           'U7,R6,D4,L4',                              6),\n",
    "          ('R75,D30,R83,U83,L12,D49,R71,U7,L72', \n",
    "           'U62,R66,U55,R34,D71,R55,D58,R83',         159),\n",
    "          ('R98,U47,R26,D63,R33,U87,L62,D20,R33,U53,R51', \n",
    "           'U98,R91,D20,R16,D67,R40,U7,R15,U6,R7',    135)\n",
    "        )\n",
    "for (wire1, wire2, answer) in tests:\n",
    "    assert closest(wire1, wire2) == answer\n",
    "\n",
    "print()\n",
    "print(f\"Day 3 Part 1 answer is {closest(day3_wire1, day3_wire2)}.\")"
   ]
  },
  {
   "cell_type": "markdown",
   "metadata": {},
   "source": [
    "### Day 3 Part 2"
   ]
  },
  {
   "cell_type": "code",
   "execution_count": 10,
   "metadata": {},
   "outputs": [
    {
     "name": "stdout",
     "output_type": "stream",
     "text": [
      "Day 3 Part 2 is 27330.\n"
     ]
    }
   ],
   "source": [
    "def point_steps(wire):\n",
    "    \"\"\" Return dict of {point:steps} for a wire (e.g. 'L23,R10,U10') \"\"\"\n",
    "    result = {}\n",
    "    location = Point(0,0)\n",
    "    steps = 0\n",
    "    for segment in wire.split(','):\n",
    "        direction = directions[segment[0]]\n",
    "        distance = int(segment[1:])\n",
    "        for d in range(distance):\n",
    "            steps += 1\n",
    "            location = add(location, direction)\n",
    "            if location not in result:\n",
    "                # only set steps if this is first visit to this location\n",
    "                result[location] = steps\n",
    "    return result\n",
    "\n",
    "def smallest_total(wire1, wire2):\n",
    "    \"\"\" Return smallest sum of steps at an intersection \"\"\"\n",
    "    ps1 = point_steps(wire1)\n",
    "    ps2 = point_steps(wire2)\n",
    "    crossings = set(ps1).intersection(set(ps2))\n",
    "    return min(ps1[point] + ps2[point] for point in crossings)\n",
    "\n",
    "tests2 = ( ('R8,U5,L5,D3', \n",
    "            'U7,R6,D4,L4',                                 30),\n",
    "           ('R75,D30,R83,U83,L12,D49,R71,U7,L72', \n",
    "            'U62,R66,U55,R34,D71,R55,D58,R83',            610),\n",
    "           ('R98,U47,R26,D63,R33,U87,L62,D20,R33,U53,R51', \n",
    "            'U98,R91,D20,R16,D67,R40,U7,R15,U6,R7',       410)\n",
    "         )\n",
    "\n",
    "for (wire1, wire2, answer) in tests2:\n",
    "    assert smallest_total(wire1, wire2) == answer\n",
    "\n",
    "print(f\"Day 3 Part 2 is {smallest_total(day3_wire1, day3_wire2)}.\")"
   ]
  },
  {
   "cell_type": "markdown",
   "metadata": {},
   "source": [
    "---\n",
    "## [Day 4](http://adventofcode.com/2019/day/4) : Secure Container"
   ]
  },
  {
   "cell_type": "code",
   "execution_count": 11,
   "metadata": {},
   "outputs": [
    {
     "name": "stdout",
     "output_type": "stream",
     "text": [
      "The range is 307237 to 769058.\n"
     ]
    }
   ],
   "source": [
    "(day4_low, day4_high) = (int(x) for x in puzzle_input(4).read().strip().split('-'))\n",
    "print(f\"The range is {day4_low} to {day4_high}.\")"
   ]
  },
  {
   "cell_type": "markdown",
   "metadata": {},
   "source": [
    "### Day 4 Part 1"
   ]
  },
  {
   "cell_type": "code",
   "execution_count": 12,
   "metadata": {},
   "outputs": [
    {
     "name": "stdout",
     "output_type": "stream",
     "text": [
      "Day 4 Part 1 is 889.\n"
     ]
    }
   ],
   "source": [
    "def six_digits(x):\n",
    "    \"\"\" Return string of six digits. \"\"\"\n",
    "    return f\"{x:06}\"\n",
    "assert six_digits(3) == '000003'\n",
    "assert six_digits(123456) == '123456'\n",
    "\n",
    "def increasing(digits):\n",
    "    \"\"\" True if the digits are increasing. \"\"\"\n",
    "    for i in range(5):\n",
    "        if int(digits[i]) > int(digits[i+1]):\n",
    "            return False\n",
    "    return True\n",
    "assert increasing('111111') == True\n",
    "assert increasing('223450') == False\n",
    "assert increasing('123789') == True\n",
    "\n",
    "def doubles(digits):\n",
    "    \"\"\" Return number of adjacent doubles. \"\"\"\n",
    "    count = 0\n",
    "    for i in range(5):\n",
    "        if digits[i] == digits[i+1]:\n",
    "            count += 1\n",
    "    return count\n",
    "assert doubles('111111') == 5\n",
    "assert doubles('223450') == 1\n",
    "assert doubles('123789') == 0\n",
    "\n",
    "def doubles_f(digits):\n",
    "    \"\"\" same - functional version \"\"\"\n",
    "    # ... just for fun. ;)\n",
    "    return length(filter(allsame, pairwise(digits)))\n",
    "assert doubles_f('111111') == 5\n",
    "assert doubles_f('223450') == 1\n",
    "assert doubles_f('123789') == 0\n",
    "\n",
    "def valid(x):\n",
    "    digits = six_digits(x)\n",
    "    return increasing(digits) and doubles(digits) > 0\n",
    "\n",
    "tests = ( (111111, True),\n",
    "          (223450, False),\n",
    "          (123789, False)\n",
    "        )\n",
    "for (number, answer) in tests:\n",
    "    assert valid(number) == answer\n",
    "    \n",
    "def how_many(f=valid, low=day4_low, high=day4_high):\n",
    "    count=0\n",
    "    for i in range(low, high+1):\n",
    "        if f(i):\n",
    "            count += 1\n",
    "    return count\n",
    "\n",
    "print(f\"Day 4 Part 1 is {how_many()}.\")"
   ]
  },
  {
   "cell_type": "markdown",
   "metadata": {},
   "source": [
    "### Day 4 Part 2"
   ]
  },
  {
   "cell_type": "code",
   "execution_count": 13,
   "metadata": {},
   "outputs": [
    {
     "name": "stdout",
     "output_type": "stream",
     "text": [
      "Day 4 Part 2 is 589.\n"
     ]
    }
   ],
   "source": [
    "def exactly_two(digits):\n",
    "    \"\"\" Return number of two same (not part of larger sequence). \"\"\"\n",
    "    count = 0\n",
    "    for i in range(5):\n",
    "        if digits[i] == digits[i+1]:\n",
    "            if i-1 >= 0:\n",
    "                if digits[i-1] == digits[i+1]:\n",
    "                    continue\n",
    "            if i+2 <= 5:\n",
    "                if digits[i+2] == digits[i]:\n",
    "                    continue\n",
    "            count += 1\n",
    "    return count\n",
    "assert exactly_two('111333') == 0\n",
    "assert exactly_two('122233') == 1\n",
    "assert exactly_two('112233') == 3\n",
    "\n",
    "def valid2(xs):\n",
    "    digits = six_digits(xs)\n",
    "    return increasing(digits) and exactly_two(digits) > 0\n",
    "\n",
    "tests2 = ( (112233, True),\n",
    "           (123444, False),\n",
    "           (111122, True)\n",
    "        )\n",
    "for (number, answer) in tests2:\n",
    "    assert valid2(number) == answer\n",
    "    \n",
    "print(f\"Day 4 Part 2 is {how_many(f=valid2)}.\")"
   ]
  },
  {
   "cell_type": "markdown",
   "metadata": {},
   "source": [
    "---\n",
    "## [Day 5](http://adventofcode.com/2019/day/5) : Sunny with a Chance of Asteroids"
   ]
  },
  {
   "cell_type": "code",
   "execution_count": 14,
   "metadata": {},
   "outputs": [
    {
     "name": "stdout",
     "output_type": "stream",
     "text": [
      "The beginning and end of day5_raw is '3,225,1,22' and '23,99,226'.\n",
      "The 678 integers of day5 are [3, 225, 1, 225, 6, 6 ... 1, 223, 4, 223, 99, 226].\n"
     ]
    }
   ],
   "source": [
    "# Same format as Day 2.\n",
    "day5_raw = puzzle_input(5).read()\n",
    "print(f\"The beginning and end of day5_raw is '{day5_raw[:10]}' and '{day5_raw[-10:].strip()}'.\")\n",
    "day5 = parse_intcode(day5_raw)\n",
    "print(f\"The {len(day5)} integers of day5 are {str(day5[:6])[:-1]} ... {str(day5[-6:])[1:]}.\")"
   ]
  },
  {
   "cell_type": "markdown",
   "metadata": {},
   "source": [
    "### Day 5 Part 1"
   ]
  },
  {
   "cell_type": "markdown",
   "metadata": {},
   "source": [
    "## - IntcodeMachine - \n",
    "\n",
    "### REFACTORING NOTE\n",
    "\n",
    "The Advent of Code 2019 IntcodeCode machine was first introduced on Day 2. \n",
    "However, I'm not using my Day 2 code in this Day 5.\n",
    "\n",
    "On the other hand, this Day 5 code is what I've carried through, extended,\n",
    "and refactored for the other days that extend the IntcodeMachine - \n",
    "Days 7, 9, 11, 13.\n",
    "\n",
    "So for the full machine definition you must evaluate the cells for all of days 5, 7, 9, 11, 13."
   ]
  },
  {
   "cell_type": "code",
   "execution_count": 115,
   "metadata": {},
   "outputs": [
    {
     "name": "stdout",
     "output_type": "stream",
     "text": [
      "Day 5 Part 1 is 16348437.\n"
     ]
    }
   ],
   "source": [
    "\n",
    "def opcode_modes(instruction):\n",
    "    \"\"\" Return (opcode, (mode_1st, mode_2nd, mode_3rd)) from an instruction \"\"\"\n",
    "    digits = f\"{instruction:05}\"  # five digits e.g. 101 => '00100'\n",
    "    opcode = int(digits[-2:])\n",
    "    modes = (int(digits[-3]), int(digits[-4]), int(digits[-5]))\n",
    "    return (opcode, modes)\n",
    "assert opcode_modes(199) == (99, (1, 0, 0)) # e.g. ABCDE=00199, return (DE (C,B,A))\n",
    "\n",
    "ops = {1:'add', 2:'multiply', 3:'read', 4:'write', 99:'halt',\n",
    "       5:'jmp-if-1', 6:'jmp-if-0', 7:'lt?', 8:'eq?', 9:'base+'}\n",
    "\n",
    "class IntcodeMachine:\n",
    "    \"\"\" The amazing advent of code 2019 machine ... with all the bells and whistles \"\"\"\n",
    "    def __init__(self, code, inputs=None, verbose=False):\n",
    "        self.code = code[:]  # work on a copy of intcodes program\n",
    "        self.ip = 0          # instruction pointer = address into code\n",
    "        self.inputs = [] if inputs == None else inputs[:]\n",
    "        self.in_ptr = 0      # pointer into inputs\n",
    "        self.outputs = []\n",
    "        self.opcode = 0      # placeholder ; set while processing instruction\n",
    "        self.modes = (0,0,0) # ditto\n",
    "        self.base = 0        # relative mode address base (from day 9)\n",
    "        self.running = True\n",
    "        self.step = 0\n",
    "        self.verbose = verbose\n",
    "    def error(self, message):\n",
    "        self.outputs.append('ERROR: ' + message)\n",
    "        self.running = False\n",
    "    def get_code(self, address):\n",
    "        \"\"\" return code[address] \"\"\"\n",
    "        # With expanding memory and address checking.\n",
    "        try:\n",
    "            self.code = expand(self.code, address)\n",
    "            return self.code[address]\n",
    "        except IndexError:\n",
    "            self.error(f\"get code[{address}] ERROR : out of bounds\")\n",
    "            return 0\n",
    "    def set_code(self, address, value):\n",
    "        \"\"\" Put value into code[address] \"\"\"\n",
    "        # With expanding memory and address checking\n",
    "        try:\n",
    "            self.code = expand(self.code, address)\n",
    "            self.code[address] = value\n",
    "        except IndexError:\n",
    "            self.error(f\"set code[{address}]={value} out of bounds\")\n",
    "    def nth_address(self, n):\n",
    "        \"\"\" return n'th parameter as address, including mode variations \"\"\"\n",
    "        parameter = self.get_code(self.ip + n)\n",
    "        mode = self.modes[n - 1]\n",
    "        if mode == 0:         # address mode\n",
    "            return parameter\n",
    "        elif mode == 2:       # relative mode; day 9\n",
    "            return parameter + self.base\n",
    "        else:\n",
    "            # Note that immediate mode (i.e. 1) is illegal here,\n",
    "            # since an \"immediate\" number is a value not an address.\n",
    "            self.error(f\"set_nth_value illegal mode={mode}\")\n",
    "            return None\n",
    "    def nth_value(self, n): \n",
    "        \"\"\" return n'th parameter's value \"\"\"\n",
    "        #assert n in (1, 2)  # Only used for 1st or 2nd param ... I think.\n",
    "        parameter = self.get_code(self.ip + n)\n",
    "        mode = self.modes[n - 1]\n",
    "        if mode == 1:                       # immediate mode\n",
    "            return parameter                \n",
    "        elif mode == 0:                     # address mode\n",
    "            return self.get_code(parameter)\n",
    "        elif mode == 2:                     #  relative mode; day 9\n",
    "            return self.get_code(parameter + self.base)\n",
    "        else:\n",
    "            self.error(f\"nth_value illegal mode={mode}\")\n",
    "            return 0\n",
    "    def set_opcode_modes(self):\n",
    "        \"\"\" Set current opcode and modes from code at ip. \"\"\"\n",
    "        instruction = self.get_code(self.ip)\n",
    "        (self.opcode, self.modes) = opcode_modes(instruction)\n",
    "    def run(self, new_inputs=None):\n",
    "        \"\"\" Run the machine, with an optional list of new inputs. Return new outputs. \"\"\"\n",
    "        self.running = True\n",
    "        len_old_outputs = len(self.outputs)\n",
    "        if new_inputs:\n",
    "            self.inputs.extend(new_inputs)\n",
    "        while self.running:\n",
    "            IM_step(self)\n",
    "        return self.outputs[len_old_outputs:]\n",
    "    def is_halted(self):\n",
    "        \"\"\" True if the last instruction seen was halt.\"\"\"\n",
    "        # Refactored for machine control in Day 11.\n",
    "        # The machine can now be in a running=False is_halted=False \n",
    "        # paused situation if it tries to read the next input but doesn't find it.\n",
    "        return ops[self.opcode] == 'halt'\n",
    "    def next_input(self, new_input):\n",
    "        \"\"\" Send another input into the machine. \"\"\"\n",
    "        self.inputs.append(new_input)\n",
    "    def last_output(self):\n",
    "        \"\"\" Return last output produced by the machine. \"\"\"\n",
    "        return self.outputs[-1]\n",
    "    def state(self):\n",
    "        \"\"\" return string representation of current machine state \"\"\"\n",
    "        # including next instruction and parameters \n",
    "        ip = self.ip\n",
    "        modes = f\"{self.modes[0]},{self.modes[1]},{self.modes[2]}\"\n",
    "        params = f\"{self.get_code(ip+1)},{self.get_code(ip+2)},{self.get_code(ip+3)}\"\n",
    "        return (f\"{self.step}: {ops[self.opcode]}\" \n",
    "                f\" ip={self.ip} base={self.base}\"\n",
    "                f\" modes={modes} params={params}\"\n",
    "                f\" in={self.inputs} out={self.outputs}\" )\n",
    "\n",
    "def IM_add(self):\n",
    "    \"\"\" IntcodeMachine addition operation. \"\"\"\n",
    "    values = (self.nth_value(1), self.nth_value(2))\n",
    "    address = self.nth_address(3)   # parameter 3 is address (mode dependent)\n",
    "    self.set_code(address, values[0] + values[1])\n",
    "    self.ip += 4  # skip past (instruction, param_1, param_2, param_3)\n",
    "    \n",
    "def IM_multiply(self):\n",
    "    \"\"\" IntcodeMachine multiplication operation. \"\"\"\n",
    "    values = (self.nth_value(1), self.nth_value(2))\n",
    "    address = self.nth_address(3)   # parameter 3 is address (mode dependent)\n",
    "    self.set_code(address, values[0] * values[1])\n",
    "    self.ip += 4  # skip past (instruction, param_1, param_2, param_3)\n",
    "    \n",
    "def IM_read(self):\n",
    "    \"\"\" IntcodeMachine read from input; put at address in parameter 1 \"\"\"\n",
    "    address = self.nth_address(1)   # parameter 1, mode dependent\n",
    "    try:\n",
    "        input_value = self.inputs[self.in_ptr]\n",
    "    except IndexError:\n",
    "        # Refactored for Day 11 - a third way to run the machine.\n",
    "        # (See also Day 7 Part 2, which runs 1 input to get 1 output.)\n",
    "        # Tried to read but no input available.\n",
    "        # So stop here, back up the step counter, leave machine state the same,\n",
    "        # ready to try this instruction after more input is added.\n",
    "        self.step -= 1\n",
    "        self.running = False\n",
    "        return\n",
    "    self.set_code(address, input_value)\n",
    "    self.in_ptr += 1    # increment input pointer\n",
    "    self.ip += 2        # skip past (instruction, param_1)\n",
    "    \n",
    "def IM_write(self):\n",
    "    \"\"\" IntcodeMachine append to outputs[] the value given by parameter 1 \"\"\"\n",
    "    value = self.nth_value(1)   # value of parameter 1\n",
    "    self.outputs.append(value)  # write to output\n",
    "    self.ip += 2                # skip past (instruction, param_1)\n",
    "    \n",
    "def IM_halt(self):\n",
    "    self.running = False\n",
    "\n",
    "# Create the IntcodeMachine operator jump table if it isn't already defined.\n",
    "# (The try/except here avoids stomping on a later, fancier version IM_ops \n",
    "# if this cell is evaluated out of order.)\n",
    "try:\n",
    "    IM_ops          # Defined already?\n",
    "except NameError:\n",
    "    IM_ops = {}     # If not, initialize it.\n",
    "    \n",
    "# IntcodeMachine opcodes ... but see also Day 5 Part 2, Day 7, and Day 9.\n",
    "IM_ops[1] = IM_add\n",
    "IM_ops[2] = IM_multiply\n",
    "IM_ops[3] = IM_read\n",
    "IM_ops[4] = IM_write\n",
    "IM_ops[99] = IM_halt\n",
    "\n",
    "def IM_step(self):\n",
    "    \"\"\" Run one step on the IntcodeMachine .\"\"\"\n",
    "    self.set_opcode_modes()\n",
    "    operation = IM_ops[self.opcode]\n",
    "    if self.verbose:\n",
    "        print(self.state())\n",
    "    operation(self)\n",
    "    self.step += 1\n",
    "\n",
    "# First example: an intcode program that copies input[0] to output.\n",
    "assert IntcodeMachine([3,0,4,0,99], [1234, 5678]).run() == [1234]\n",
    "\n",
    "# A second example given in the problem statement.\n",
    "im_example_2 = IntcodeMachine([1002,4,3,4,33], [])\n",
    "im_example_2.run()\n",
    "assert im_example_2.outputs == []\n",
    "assert im_example_2.code == [1002, 4, 3, 4, 99]\n",
    "\n",
    "day5_part1_outputs = IntcodeMachine(day5, [1]).run()\n",
    "day5_part1_diagnostic_tests = day5_part1_outputs[:-1]\n",
    "day5_part1_diagnostic_code = day5_part1_outputs[-1]\n",
    "assert all(output==0 for output in day5_part1_diagnostic_tests)\n",
    "print(f\"Day 5 Part 1 is {day5_part1_diagnostic_code}.\")"
   ]
  },
  {
   "cell_type": "markdown",
   "metadata": {},
   "source": [
    "### Day 5 Part 2"
   ]
  },
  {
   "cell_type": "code",
   "execution_count": 116,
   "metadata": {},
   "outputs": [
    {
     "name": "stdout",
     "output_type": "stream",
     "text": [
      "Day 5 Part 2 is 6959377.\n"
     ]
    }
   ],
   "source": [
    "# more opcodes ...\n",
    "\n",
    "def IM_jump_if(self, test_func):\n",
    "    \"\"\" Set ip to value in 2nd_param if test_func(1st_param). \"\"\"\n",
    "    switch = self.nth_value(1)\n",
    "    address = self.nth_value(2)\n",
    "    if test_func(switch):\n",
    "        self.ip = address  # jump to new address\n",
    "    else:\n",
    "        self.ip += 3       # skip past (opcode, param_1, param_2)\n",
    "    \n",
    "def IM_jump_if_true(self):\n",
    "    \"\"\" Set ip to value in 2nd_param if 1st_param is nonzero. \"\"\"\n",
    "    IM_jump_if(self, lambda s: s != 0)\n",
    "\n",
    "def IM_jump_if_false(self):\n",
    "    \"\"\" Set ip to value in 2nd_param if 1st_param is zero. \"\"\"\n",
    "    IM_jump_if(self, lambda s: s == 0)\n",
    "\n",
    "def IM_1_or_0_if(self, comparison):\n",
    "    \"\"\" Store 1 at 3rd_param address if comparison(1st_param, 2nd_param), \n",
    "        store 0 otherwise. \"\"\"\n",
    "    (switch1, switch2) = (self.nth_value(1), self.nth_value(2))\n",
    "    address = self.nth_address(3)\n",
    "    if comparison(switch1, switch2):\n",
    "        self.set_code(address, 1)\n",
    "    else:\n",
    "        self.set_code(address, 0)\n",
    "    self.ip += 4  # skip past opcode + 3 parameters\n",
    "    \n",
    "def IM_less_than(self):\n",
    "    \"\"\" Store 1 at 2nd_param address if 1st_param < 2nd_param, \n",
    "        store 0 otherwise \"\"\"\n",
    "    IM_1_or_0_if(self, lambda a,b: a<b)\n",
    "\n",
    "def IM_equals(self):\n",
    "    \"\"\" Store 1 at 2nd_param address if 1st_param == 2nd_param, \n",
    "        store 0 otherwise \"\"\"\n",
    "    IM_1_or_0_if(self, lambda a,b: a==b)\n",
    "\n",
    "# add more opcodes to the IntcodeMachine    \n",
    "    \n",
    "IM_ops[5] = IM_jump_if_true\n",
    "IM_ops[6] = IM_jump_if_false\n",
    "IM_ops[7] = IM_less_than\n",
    "IM_ops[8] = IM_equals\n",
    "    \n",
    "# ... and more tests.\n",
    "\n",
    "tests = ( ([3,9,8,9,10,9,4,9,99,-1,8], 8, 1),   # input 8, position\n",
    "          ([3,9,8,9,10,9,4,9,99,-1,8], 9, 0),   # input not 8, position\n",
    "          ([3,3,1108,-1,8,3,4,3,99],   8, 1),   # input 8, immediate\n",
    "          ([3,3,1107,-1,8,3,4,3,99],   8, 0),   # input not 8, immediate\n",
    "          ([3,12,6,12,15,1,13,14,13,4,13,99,-1,0,1,9], 0, 0), # jump position\n",
    "          ([3,12,6,12,15,1,13,14,13,4,13,99,-1,0,1,9], 1, 1), # jump position\n",
    "          ([3,3,1105,-1,9,1101,0,0,12,4,12,99,1], 0, 0),   # jump immediate\n",
    "          ([3,3,1105,-1,9,1101,0,0,12,4,12,99,1], 1, 1),   # jump immediate\n",
    "          ([3,21,1008,21,8,20,1005,20,22,107,8,21,20,1006,20,31,\n",
    "            1106,0,36,98,0,0,1002,21,125,20,4,20,1105,1,46,104,\n",
    "            999,1105,1,46,1101,1000,1,20,4,20,1105,1,46,98,99], 5, 999),    # below 8\n",
    "           ([3,21,1008,21,8,20,1005,20,22,107,8,21,20,1006,20,31,\n",
    "            1106,0,36,98,0,0,1002,21,125,20,4,20,1105,1,46,104,\n",
    "            999,1105,1,46,1101,1000,1,20,4,20,1105,1,46,98,99], 8, 1000),   # equal to 8\n",
    "           ([3,21,1008,21,8,20,1005,20,22,107,8,21,20,1006,20,31,\n",
    "            1106,0,36,98,0,0,1002,21,125,20,4,20,1105,1,46,104,\n",
    "            999,1105,1,46,1101,1000,1,20,4,20,1105,1,46,98,99], 11, 1001)   # greater than 8\n",
    "        )\n",
    "\n",
    "for (intcode, in_value, out_value) in tests:\n",
    "    assert IntcodeMachine(intcode, [in_value]).run() == [out_value], (intcode, out_value)\n",
    "\n",
    "#(intcode, in_value, out_value) = tests[4]\n",
    "#assert IntcodeMachine(intcode, [in_value]).run() == [out_value], (intcode, out_value)\n",
    "\n",
    "day5_part2_outputs = IntcodeMachine(day5, [5]).run()\n",
    "assert len(day5_part2_outputs) == 1\n",
    "print(f\"Day 5 Part 2 is {day5_part2_outputs[0]}.\")"
   ]
  },
  {
   "cell_type": "markdown",
   "metadata": {},
   "source": [
    "---\n",
    "## [Day 6](http://adventofcode.com/2019/day/6) : Universal Orbit Map"
   ]
  },
  {
   "cell_type": "code",
   "execution_count": 117,
   "metadata": {},
   "outputs": [
    {
     "name": "stdout",
     "output_type": "stream",
     "text": [
      "Puzzle input has 985 edges; first three are (['PJK', 'X3G'], ['ZM3', 'JGN'], ['YYF', '614']).\n",
      "The example has 11 edges; first three are (['COM', 'B'], ['B', 'C'], ['C', 'D']). \n"
     ]
    }
   ],
   "source": [
    "day6_raw = puzzle_input(6).readlines()\n",
    "def parse_day6(lines):\n",
    "    return tuple(line.strip().split(')') for line in lines)\n",
    "day6 = parse_day6(day6_raw)\n",
    "# Each line of the puzzle input is a directed edge in a tree.\n",
    "print(f\"Puzzle input has {len(day6)} edges; \", end='')\n",
    "print(f\"first three are {day6[:3]}.\")\n",
    "\n",
    "example6 = parse_day6(\"COM)B\\nB)C\\nC)D\\nD)E\\nE)F\\nB)G\\nG)H\\nD)I\\nE)J\\nJ)K\\nK)L\".split('\\n'))\n",
    "print(f\"The example has {len(example6)} edges; first three are {example6[:3]}. \")"
   ]
  },
  {
   "cell_type": "code",
   "execution_count": 118,
   "metadata": {},
   "outputs": [
    {
     "data": {
      "image/png": "[encoded data removed]",
      "text/plain": [
       "<Figure size 931x203 with 1 Axes>"
      ]
     },
     "metadata": {
      "needs_background": "light"
     },
     "output_type": "display_data"
    }
   ],
   "source": [
    "def make_graph_png(name, edges, graphtype='digraph', direction='LR'):\n",
    "    \"\"\" Create graph spec name.dot and graph image name.png using graphviz \"\"\"\n",
    "    # command line : \"dot -Tpng day6.dot > day6.png \"\n",
    "    filename = name + '.dot'\n",
    "    with open(filename, 'w') as graphviz:\n",
    "        graphviz.write(f'{graphtype} {{\\n rankdir=\"{direction}\"; \\n')\n",
    "        for (a,b) in edges:\n",
    "            graphviz.write(f' \"{a}\" -> \"{b}\"; \\n')\n",
    "        graphviz.write('}\\n')\n",
    "    dot_command = f\"dot -Tpng {filename} > {name}.png\"\n",
    "    dot_result = subprocess.run(dot_command, shell=True, \n",
    "                                stdout=subprocess.PIPE, stderr=subprocess.PIPE)\n",
    "    if dot_result.returncode != 0:\n",
    "        print(f\"subprocess.run({dot_command})\")\n",
    "        print(f\"  stdout: '{dot_result.stdout}'\")\n",
    "        print(f\"  stdout: '{dot_result.stdout}'\")\n",
    "make_graph_png(name='day6', edges=day6)  # day6.png is too big to show here.\n",
    "make_graph_png(name='day6_example', edges=example6)\n",
    "show_png('day6_example.png')    "
   ]
  },
  {
   "cell_type": "markdown",
   "metadata": {},
   "source": [
    "### Day 6 Part 1"
   ]
  },
  {
   "cell_type": "code",
   "execution_count": 119,
   "metadata": {},
   "outputs": [
    {
     "name": "stdout",
     "output_type": "stream",
     "text": [
      "example <Tree root='COM' len=12 at 0x7fb931292730> has 42 orbits.\n",
      "\n",
      "Day 6 Part 1 is 106065.\n"
     ]
    }
   ],
   "source": [
    "class Node:\n",
    "    \"\"\" node in a tree \"\"\"\n",
    "    def __init__(self, name):\n",
    "        self.name = name\n",
    "        self.mom = None\n",
    "        self.kids = []\n",
    "    def __repr__(self):\n",
    "        return f\"Node('{self.name}'')\"\n",
    "    def neighbors(self):\n",
    "        if self.mom:\n",
    "            return self.kids + [self.mom]\n",
    "        else:\n",
    "            return self.kids\n",
    "\n",
    "class Tree:\n",
    "    \"\"\" tree of nodes \"\"\"\n",
    "    def __init__(self, edges):\n",
    "        self._nodes = {}  # {name:node}\n",
    "        for (mom_name, kid_name) in edges:\n",
    "            node_mom = self.get_node(mom_name)\n",
    "            node_kid = self.get_node(kid_name)\n",
    "            node_kid.mom = node_mom\n",
    "            node_mom.kids.append(node_kid)\n",
    "        self.root = next(filter(lambda node: node.mom==None, self.nodes()))\n",
    "    def __repr__(self):\n",
    "        return f\"<Tree root='{self.root.name}' len={len(self)} at {hex(id(self))}>\"\n",
    "    def __len__(self):\n",
    "        return len(self._nodes)\n",
    "    def nodes(self):\n",
    "        return self._nodes.values()\n",
    "    def get_node(self, name):\n",
    "        \"\"\" get or create Node(name) & put into  name_node dict \"\"\"\n",
    "        node = self._nodes.get(name, None)\n",
    "        if not node:\n",
    "            node = Node(name)\n",
    "            self._nodes[name] = node\n",
    "        return node        \n",
    "\n",
    "def set_orbits(tree, node=None):\n",
    "    \"\"\" recursively set orbit values in nodes, top to bottom depth-first \"\"\"\n",
    "    if not node:\n",
    "        node = tree.root\n",
    "        node.orbits = 0\n",
    "    else:\n",
    "        node.orbits = node.mom.orbits + 1\n",
    "    for node in node.kids:\n",
    "        set_orbits(tree, node)\n",
    "\n",
    "def total_orbits(tree):\n",
    "    set_orbits(tree)\n",
    "    return sum(node.orbits for node in tree.nodes())\n",
    "\n",
    "example_tree = Tree(example6)\n",
    "print('example', example_tree, 'has', total_orbits(example_tree), 'orbits.\\n')\n",
    "\n",
    "day6_tree = Tree(day6)\n",
    "print(f\"Day 6 Part 1 is {total_orbits(day6_tree)}.\")"
   ]
  },
  {
   "cell_type": "markdown",
   "metadata": {},
   "source": [
    "### Day 6 Part 2"
   ]
  },
  {
   "cell_type": "code",
   "execution_count": 120,
   "metadata": {},
   "outputs": [
    {
     "data": {
      "image/png": "[encoded data removed]",
      "text/plain": [
       "<Figure size 940x239 with 1 Axes>"
      ]
     },
     "metadata": {
      "needs_background": "light"
     },
     "output_type": "display_data"
    }
   ],
   "source": [
    "example6b = parse_day6(\"COM)B,B)C,C)D,D)E,E)F,B)G,G)H,D)I,E)J,J)K,K)L,K)YOU,I)SAN\".split(','))\n",
    "make_graph_png(name='day6_example_b', edges=example6b)\n",
    "show_png('day6_example_b.png')   "
   ]
  },
  {
   "cell_type": "code",
   "execution_count": 121,
   "metadata": {},
   "outputs": [
    {
     "name": "stdout",
     "output_type": "stream",
     "text": [
      "Day 6 Part 2 answer is 253.\n"
     ]
    }
   ],
   "source": [
    "def graph_distance(tree, node1, node2=None):\n",
    "    \"\"\" Return shortest distance from node1 to node2,\n",
    "        or just update all node.distance shortest to node1 \"\"\"\n",
    "    for node in tree.nodes():\n",
    "        node.distance = inf\n",
    "        node.back = None    # node backwards towards node1\n",
    "    fringe = Queue([node1])\n",
    "    while fringe:\n",
    "        node = fringe.pop()\n",
    "        #print(f\"looking at '{node}'\")\n",
    "        previous_distance = node.back.distance if node.back else -1\n",
    "        node.distance = previous_distance + 1\n",
    "        if node == node2:\n",
    "            break\n",
    "        for neighbor in node.neighbors():\n",
    "            if neighbor.distance > node.distance:\n",
    "                fringe.push(neighbor)\n",
    "                neighbor.back = node\n",
    "    if node2:\n",
    "        return node2.distance\n",
    "\n",
    "b_tree = Tree(example6b)\n",
    "g = b_tree.get_node('G')\n",
    "d = b_tree.get_node('D')\n",
    "j = b_tree.get_node('J')\n",
    "assert graph_distance(b_tree, g, d) == 3\n",
    "assert graph_distance(b_tree, g, j) == 5\n",
    "\n",
    "(you_orbit, san_orbit) = (day6_tree.get_node(name).mom for name in ('YOU', 'SAN'))\n",
    "print(f\"Day 6 Part 2 answer is {graph_distance(day6_tree, you_orbit, san_orbit)}.\")"
   ]
  },
  {
   "cell_type": "markdown",
   "metadata": {},
   "source": [
    "---\n",
    "## [Day 7](http://adventofcode.com/2019/day/7) : Amplification Circuit"
   ]
  },
  {
   "cell_type": "code",
   "execution_count": 122,
   "metadata": {},
   "outputs": [
    {
     "name": "stdout",
     "output_type": "stream",
     "text": [
      "The day 7 input starts with '3,8,1001,8,10,8,105' and has \n",
      "size 515, min 0, max 99999, start [3, 8, 1001, 8], end [9, 4, 9, 99].\n"
     ]
    }
   ],
   "source": [
    "# Another IntcodeMachine problem; see Day 2 & 5\n",
    "day7_raw = puzzle_input(7).readline().strip()\n",
    "day7 = parse_intcode(day7_raw)\n",
    "print(f\"The day 7 input starts with '{day7_raw[:19]}' and has \")\n",
    "print(f\"size {len(day7)}, min {min(day7)}, max {max(day7)}, start {day7[:4]}, end {day7[-4:]}.\")"
   ]
  },
  {
   "cell_type": "markdown",
   "metadata": {},
   "source": [
    "### Day 7 Part 1"
   ]
  },
  {
   "cell_type": "code",
   "execution_count": 123,
   "metadata": {},
   "outputs": [
    {
     "name": "stdout",
     "output_type": "stream",
     "text": [
      "Day 7 Part 1 is 440880.\n"
     ]
    }
   ],
   "source": [
    "\n",
    "def amplifier(intcode, phases):\n",
    "    \"\"\" Given an intcode machine and phases e.g. (1,2,3,4,0) , return the last output \"\"\"\n",
    "    #  phases is a permutation of (0,1,2,3,4)\n",
    "    #  buffer[0] = 0 ; buffer[5] is the last output and \"to thrusters\" value\n",
    "    #    (phases[0], buffer[0]) -> A amp[0] -> buffer[1]\n",
    "    #    (phases[1], buffer[1]) -> B amp[1] -> buffer[2]\n",
    "    #    (phases[2], buffer[2]) -> C amp[2] -> buffer[3]\n",
    "    #    (phases[3], buffer[3]) -> D amp[3] -> buffer[4]\n",
    "    #    (phases[4], buffer[4]) -> E amp[4] -> buffer[5]\n",
    "    buffer = [0]*6\n",
    "    for i in range(5):\n",
    "        machine_input = (phases[i], buffer[i])\n",
    "        buffer[i+1] = IntcodeMachine(intcode, machine_input).run()[0]\n",
    "    return buffer[5]\n",
    "\n",
    "tests = ( ([3,15,3,16,1002,16,10,16,1,16,15,15,4,15,99,0,0], (4,3,2,1,0), 43210),\n",
    "          ([3,23,3,24,1002,24,10,24,1002,23,-1,23,\n",
    "            101,5,23,23,1,24,23,23,4,23,99,0,0], (0,1,2,3,4), 54321),\n",
    "          ([3,31,3,32,1002,32,10,32,1001,31,-2,31,1007,31,0,33,\n",
    "            1002,33,7,33,1,33,31,31,1,32,31,31,4,31,99,0,0,0], (1,0,4,3,2), 65210)\n",
    "        )\n",
    "for (machine, phase, result) in tests:\n",
    "    assert amplifier(machine, phase) == result\n",
    "\n",
    "def max_amplifier(machine):\n",
    "    \"\"\" return maximum amplifier() result from all phase permutations \"\"\"\n",
    "    return max(amplifier(machine, phases) for phases in permutations((0,1,2,3,4)))\n",
    "\n",
    "for (machine, _, result) in tests:\n",
    "    assert max_amplifier(machine) == result\n",
    "    \n",
    "print(f\"Day 7 Part 1 is {max_amplifier(day7)}.\")"
   ]
  },
  {
   "cell_type": "markdown",
   "metadata": {},
   "source": [
    "### Day 7 Part 2"
   ]
  },
  {
   "cell_type": "code",
   "execution_count": 124,
   "metadata": {},
   "outputs": [
    {
     "name": "stdout",
     "output_type": "stream",
     "text": [
      "Day 7 Part 2 is 3745599.\n"
     ]
    }
   ],
   "source": [
    "\n",
    "def IM_run_in_out(self, new_input):\n",
    "    \"\"\" given one new input, return next new output \"\"\"\n",
    "    # A new way to run an IntcodeMachine (see day 2 & day 5).\n",
    "    # This version sends in one new input, and stops when a new output is produced,\n",
    "    # leaving the machine in a \"suspended but still running\" state.\n",
    "    # ADDED FOR DAY 7 WORK\n",
    "    self.inputs = self.inputs + [new_input]\n",
    "    old_output_size = len(self.outputs)\n",
    "    while self.running and (len(self.outputs) == old_output_size):\n",
    "        IM_step(self)\n",
    "    return self.outputs[-1]\n",
    "\n",
    "def loop_amplifier(intcode, phases):\n",
    "    \"\"\" Continue to run the machines, each output to the next input, until halt. \"\"\"\n",
    "    machines = [IntcodeMachine(intcode, [phases[m]]) for m in range(5)]\n",
    "    signal = 0\n",
    "    while True:\n",
    "        for m in range(5):\n",
    "            signal = IM_run_in_out(machines[m], signal)\n",
    "        if not machines[4].running:\n",
    "            return signal\n",
    "\n",
    "examples_b = ( ([3,26,1001,26,-4,26,3,27,1002,27,2,27,1,27,26,\n",
    "                 27,4,27,1001,28,-1,28,1005,28,6,99,0,0,5], (9, 8, 7, 6, 5), 139629729),\n",
    "               ([3,52,1001,52,-5,52,3,53,1,52,56,54,1007,54,5,55,1005,55,26,1001,54,\n",
    "                 -5,54,1105,1,12,1,53,54,53,1008,54,0,55,1001,55,1,55,2,53,55,53,4,\n",
    "                 53,1001,56,-1,56,1005,56,6,99,0,0,0,0,10], (9,7,8,5,6), 18216)\n",
    "             )\n",
    "for (code, phases, result) in examples_b:\n",
    "    assert loop_amplifier(code, phases) == result\n",
    "\n",
    "def max_loop_amplifier(machine):\n",
    "    \"\"\" return maximum loop_amplifier() result from all phase permutations \"\"\"\n",
    "    return max(loop_amplifier(machine, phases) for phases in permutations((5, 6, 7, 8, 9)))\n",
    "\n",
    "print(f\"Day 7 Part 2 is {max_loop_amplifier(day7)}.\")"
   ]
  },
  {
   "cell_type": "markdown",
   "metadata": {},
   "source": [
    "---\n",
    "## [Day 8](http://adventofcode.com/2019/day/8) : Space Image Format"
   ]
  },
  {
   "cell_type": "code",
   "execution_count": 125,
   "metadata": {},
   "outputs": [
    {
     "name": "stdout",
     "output_type": "stream",
     "text": [
      "Input is a long string of digits, length 15000, max 2, min 0.\n",
      "First 10 are (2, 1, 1, 2, 0, 2, 1, 2, 1, 2); last 10 are (1, 1, 1, 1, 2, 2, 2, 1, 1, 0).\n"
     ]
    }
   ],
   "source": [
    "day8_raw = puzzle_input(8).read().strip()\n",
    "def parse_day8(string):\n",
    "    return mapt(int, string)\n",
    "day8 = parse_day8(day8_raw)\n",
    "print(f\"Input is a long string of digits, length {len(day8)}, max {max(day8)}, min {min(day8)}.\")\n",
    "print(f\"First 10 are {day8[:10]}; last 10 are {day8[-10:]}.\")"
   ]
  },
  {
   "cell_type": "markdown",
   "metadata": {},
   "source": [
    "### Day 8 Part 1"
   ]
  },
  {
   "cell_type": "code",
   "execution_count": 126,
   "metadata": {},
   "outputs": [
    {
     "name": "stdout",
     "output_type": "stream",
     "text": [
      "image shape (layer, row, column) is (100, 6, 25)\n",
      "so layer 0 is \n",
      "[[2 1 1 2 0 2 1 2 1 2 2 2 2 2 2 2 2 2 2 2 1 2 2 2 2]\n",
      " [1 2 2 2 2 2 0 2 0 2 2 2 2 2 2 2 2 2 2 2 1 2 2 2 2]\n",
      " [1 2 2 0 2 2 2 2 2 2 2 2 2 2 2 2 2 2 2 2 2 2 2 2 2]\n",
      " [2 0 2 2 2 2 2 2 2 2 2 2 2 2 2 1 2 2 1 2 1 0 2 2 2]\n",
      " [2 2 2 1 2 2 2 2 2 2 2 2 2 2 2 1 2 2 1 2 2 2 2 2 2]\n",
      " [2 2 1 0 2 2 2 2 0 2 2 1 2 2 2 2 2 2 2 0 1 2 2 2 2]].\n",
      "and layer 99 is \n",
      "[[0 0 2 2 1 1 2 2 1 0 0 2 0 1 0 1 0 2 1 2 1 1 1 0 2]\n",
      " [0 1 0 0 0 0 0 0 0 1 1 2 0 0 1 1 2 1 0 0 0 0 2 2 0]\n",
      " [1 2 2 0 1 1 2 1 0 2 2 0 1 1 0 1 0 0 1 2 0 0 0 0 2]\n",
      " [2 2 2 2 0 2 2 0 2 2 1 2 0 0 2 2 0 1 2 2 1 1 1 0 2]\n",
      " [0 2 0 0 0 1 0 2 0 0 1 2 0 2 0 0 0 2 0 0 1 0 0 1 0]\n",
      " [2 1 2 1 0 0 0 2 2 0 1 0 0 1 0 1 1 1 1 2 2 2 1 1 0]].\n"
     ]
    }
   ],
   "source": [
    "width = 25\n",
    "height = 6\n",
    "pixels = len(day8) // (width*height)\n",
    "# 'C' is \"C\" order, last index fastest i.e. [layer, row, column]\n",
    "image = np.array(day8).reshape(pixels, height, width)\n",
    "print(f\"image shape (layer, row, column) is {image.shape}\")\n",
    "print(f\"so layer 0 is \\n{image[0,:,:]}.\")\n",
    "print(f\"and layer 99 is \\n{image[99,:,:]}.\")"
   ]
  },
  {
   "cell_type": "code",
   "execution_count": 127,
   "metadata": {},
   "outputs": [
    {
     "name": "stdout",
     "output_type": "stream",
     "text": [
      "Day 8 Part 1 is 1935.\n"
     ]
    }
   ],
   "source": [
    "counts = tuple(Counter(image[i,:,:].flatten()) for i in range(100))\n",
    "zero_counts = tuple(c[0] for c in counts)\n",
    "i = zero_counts.index(min(zero_counts))\n",
    "print(f\"Day 8 Part 1 is {counts[i][1] * counts[i][2]}.\")"
   ]
  },
  {
   "cell_type": "markdown",
   "metadata": {},
   "source": [
    "### Day 8 Part 2"
   ]
  },
  {
   "cell_type": "code",
   "execution_count": 128,
   "metadata": {},
   "outputs": [
    {
     "name": "stdout",
     "output_type": "stream",
     "text": [
      "[[0 1 1 0 0 1 1 1 1 0 1 0 0 0 0 1 0 0 1 0 1 0 0 0 0]\n",
      " [1 0 0 1 0 1 0 0 0 0 1 0 0 0 0 1 0 0 1 0 1 0 0 0 0]\n",
      " [1 0 0 0 0 1 1 1 0 0 1 0 0 0 0 1 0 0 1 0 1 0 0 0 0]\n",
      " [1 0 0 0 0 1 0 0 0 0 1 0 0 0 0 1 0 0 1 0 1 0 0 0 0]\n",
      " [1 0 0 1 0 1 0 0 0 0 1 0 0 0 0 1 0 0 1 0 1 0 0 0 0]\n",
      " [0 1 1 0 0 1 0 0 0 0 1 1 1 1 0 0 1 1 0 0 1 1 1 1 0]]\n"
     ]
    },
    {
     "data": {
      "image/png": "[encoded data removed]",
      "text/plain": [
       "<Figure size 432x288 with 1 Axes>"
      ]
     },
     "metadata": {
      "needs_background": "light"
     },
     "output_type": "display_data"
    }
   ],
   "source": [
    "def color(stack):\n",
    "    \"\"\" return color of stack of pixels \"\"\"\n",
    "    # return first element that isn't 2.\n",
    "    for pixel in stack:\n",
    "        if pixel != 2:\n",
    "            return pixel\n",
    "assert color((0,1,2,0)) == 0\n",
    "assert color((2,1,2,0)) == 1\n",
    "\n",
    "final = np.zeros((height, width), int)\n",
    "for row in range(height):\n",
    "    for col in range(width):\n",
    "        final[row, col] = color(image[:,row,col])\n",
    "print(final)\n",
    "plt.imshow(final);"
   ]
  },
  {
   "cell_type": "markdown",
   "metadata": {},
   "source": [
    "---\n",
    "## [Day 9](http://adventofcode.com/2019/day/9) : Sensor Boost"
   ]
  },
  {
   "cell_type": "code",
   "execution_count": 129,
   "metadata": {},
   "outputs": [
    {
     "name": "stdout",
     "output_type": "stream",
     "text": [
      "The day 9 input starts with '1102,34463338,34463' and has \n",
      "size 973, min -34, max 34463338, start [1102, 34463338, 34463338, 63], end [-3, 2105, 1, 0].\n"
     ]
    }
   ],
   "source": [
    "# Another IntcodeMachine problem; see Day 2, 5, 7\n",
    "day9_raw = puzzle_input(9).readline().strip()\n",
    "day9 = parse_intcode(day9_raw)\n",
    "print(f\"The day 9 input starts with '{day9_raw[:19]}' and has \")\n",
    "print(f\"size {len(day9)}, min {min(day9)}, max {max(day9)}, start {day9[:4]}, end {day9[-4:]}.\")"
   ]
  },
  {
   "cell_type": "markdown",
   "metadata": {},
   "source": [
    "### Day 9 Part 1"
   ]
  },
  {
   "cell_type": "code",
   "execution_count": 130,
   "metadata": {},
   "outputs": [
    {
     "name": "stdout",
     "output_type": "stream",
     "text": [
      "Day 9 Part 1 is 2427443564 in 208 steps.\n"
     ]
    }
   ],
   "source": [
    "# To add these new \"relative mode\" features\n",
    "# and arbitrary machine length, I backtracked \n",
    "# and refactored the IntcodeMachine class in day 5 parts 1 & 2.\n",
    "# Then I re-ran all the cells to make sure the old tests passed.\n",
    "#\n",
    "# Here's the additional code needed in addition to the refactoring.\n",
    "\n",
    "def IM_adjust_base(self):\n",
    "    \"\"\" Change the relative address base \"\"\"\n",
    "    self.base += self.nth_value(1)\n",
    "    self.ip += 2       # skip past (opcode, param_1)\n",
    "\n",
    "IM_ops[9] = IM_adjust_base\n",
    "\n",
    "# -- tests --\n",
    "\n",
    "quine = [109,1,204,-1,1001,100,1,100,1008,100,16,101,1006,101,0,99]\n",
    "assert IntcodeMachine(quine).run() == quine\n",
    "\n",
    "sixteen_digits = [1102,34915192,34915192,7,4,7,99,0]\n",
    "assert len(str(IntcodeMachine(sixteen_digits).run()[0])) == 16\n",
    "\n",
    "assert IntcodeMachine([104,1125899906842624,99]).run() == [1125899906842624]\n",
    "\n",
    "# -- BOOST program --\n",
    "\n",
    "boost1 = IntcodeMachine(day9, [1])\n",
    "boost1_out = boost1.run()\n",
    "assert len(boost1_out) == 1\n",
    "\n",
    "print(f\"Day 9 Part 1 is {boost1_out[0]} in {boost1.step} steps.\")"
   ]
  },
  {
   "cell_type": "markdown",
   "metadata": {},
   "source": [
    "### Day 9 Part 2"
   ]
  },
  {
   "cell_type": "code",
   "execution_count": 131,
   "metadata": {},
   "outputs": [
    {
     "name": "stdout",
     "output_type": "stream",
     "text": [
      "Day 9 Part 2 is 87221 ... in 371206 steps.\n"
     ]
    }
   ],
   "source": [
    "\"You now have a complete Intcode computer.\"\n",
    "\n",
    "boost2 = IntcodeMachine(day9, [2])\n",
    "print(f\"Day 9 Part 2 is {boost2.run()[0]} ... in {boost2.step} steps.\")"
   ]
  },
  {
   "cell_type": "code",
   "execution_count": 132,
   "metadata": {},
   "outputs": [
    {
     "name": "stdout",
     "output_type": "stream",
     "text": [
      "0: multiply ip=0 base=0 modes=1,1,0 params=34463338,34463338,63 in=[1] out=[]\n",
      "1: lt? ip=4 base=0 modes=0,1,0 params=63,34463338,63 in=[1] out=[]\n",
      "2: jmp-if-1 ip=8 base=0 modes=0,1,0 params=63,53,1102 in=[1] out=[]\n",
      "3: multiply ip=11 base=0 modes=1,1,0 params=1,3,1000 in=[1] out=[]\n",
      "4: base+ ip=15 base=0 modes=1,0,0 params=988,209,12 in=[1] out=[]\n",
      "5: base+ ip=17 base=988 modes=2,0,0 params=12,9,1000 in=[1] out=[]\n",
      "6: base+ ip=19 base=991 modes=0,0,0 params=1000,209,6 in=[1] out=[]\n",
      "7: base+ ip=21 base=994 modes=2,0,0 params=6,209,3 in=[1] out=[]\n",
      "8: base+ ip=23 base=997 modes=2,0,0 params=3,203,0 in=[1] out=[]\n",
      "9: read ip=25 base=1000 modes=2,0,0 params=0,1008,1000 in=[1] out=[]\n",
      "10: eq? ip=27 base=1000 modes=0,1,0 params=1000,1,63 in=[1] out=[]\n",
      "11: jmp-if-1 ip=31 base=1000 modes=0,1,0 params=63,65,1008 in=[1] out=[]\n",
      "12: multiply ip=65 base=1000 modes=1,1,0 params=26,1,1005 in=[1] out=[]\n",
      "13: add ip=69 base=1000 modes=1,1,0 params=0,24,1019 in=[1] out=[]\n",
      "14: multiply ip=73 base=1000 modes=1,1,0 params=1,32,1007 in=[1] out=[]\n",
      "15: add ip=77 base=1000 modes=1,1,0 params=0,704,1027 in=[1] out=[]\n",
      "16: multiply ip=81 base=1000 modes=1,1,0 params=0,1,1020 in=[1] out=[]\n",
      "17: add ip=85 base=1000 modes=1,1,0 params=0,348,1029 in=[1] out=[]\n",
      "18: multiply ip=89 base=1000 modes=1,1,0 params=28,1,1002 in=[1] out=[]\n",
      "19: add ip=93 base=1000 modes=1,1,0 params=34,0,1016 in=[1] out=[]\n",
      "20: multiply ip=97 base=1000 modes=1,1,0 params=29,1,1008 in=[1] out=[]\n",
      "21: multiply ip=101 base=1000 modes=1,1,0 params=1,30,1013 in=[1] out=[]\n",
      "22: multiply ip=105 base=1000 modes=1,1,0 params=25,1,1012 in=[1] out=[]\n",
      "23: add ip=109 base=1000 modes=1,1,0 params=0,33,1009 in=[1] out=[]\n",
      "24: multiply ip=113 base=1000 modes=1,1,0 params=1,37,1001 in=[1] out=[]\n",
      "25: add ip=117 base=1000 modes=1,1,0 params=31,0,1017 in=[1] out=[]\n",
      "26: add ip=121 base=1000 modes=1,1,0 params=245,0,1022 in=[1] out=[]\n",
      "27: multiply ip=125 base=1000 modes=1,1,0 params=39,1,1000 in=[1] out=[]\n",
      "28: add ip=129 base=1000 modes=1,1,0 params=27,0,1011 in=[1] out=[]\n",
      "29: multiply ip=133 base=1000 modes=1,1,0 params=770,1,1025 in=[1] out=[]\n",
      "30: add ip=137 base=1000 modes=1,1,0 params=0,22,1015 in=[1] out=[]\n",
      "31: multiply ip=141 base=1000 modes=1,1,0 params=1,1,1021 in=[1] out=[]\n",
      "32: add ip=145 base=1000 modes=1,1,0 params=711,0,1026 in=[1] out=[]\n",
      "33: add ip=149 base=1000 modes=1,1,0 params=20,0,1004 in=[1] out=[]\n",
      "34: add ip=153 base=1000 modes=1,1,0 params=0,23,1018 in=[1] out=[]\n",
      "35: add ip=157 base=1000 modes=1,1,0 params=242,0,1023 in=[1] out=[]\n",
      "36: multiply ip=161 base=1000 modes=1,1,0 params=21,1,1003 in=[1] out=[]\n",
      "37: add ip=165 base=1000 modes=1,1,0 params=38,0,1010 in=[1] out=[]\n",
      "38: add ip=169 base=1000 modes=1,1,0 params=0,35,1014 in=[1] out=[]\n",
      "39: add ip=173 base=1000 modes=1,1,0 params=0,36,1006 in=[1] out=[]\n",
      "40: add ip=177 base=1000 modes=1,1,0 params=0,357,1028 in=[1] out=[]\n",
      "41: multiply ip=181 base=1000 modes=1,1,0 params=1,775,1024 in=[1] out=[]\n",
      "42: base+ ip=185 base=1000 modes=1,0,0 params=-3,2102,1 in=[1] out=[]\n",
      "43: multiply ip=187 base=997 modes=1,2,0 params=1,9,63 in=[1] out=[]\n",
      "44: eq? ip=191 base=997 modes=0,1,0 params=63,36,63 in=[1] out=[]\n",
      "45: jmp-if-1 ip=195 base=997 modes=0,1,0 params=63,203,4 in=[1] out=[]\n",
      "46: add ip=203 base=997 modes=0,1,0 params=64,1,64 in=[1] out=[]\n",
      "47: multiply ip=207 base=997 modes=0,1,0 params=64,2,64 in=[1] out=[]\n",
      "48: base+ ip=211 base=997 modes=1,0,0 params=8,21101,40 in=[1] out=[]\n",
      "49: add ip=213 base=1005 modes=1,1,2 params=40,0,5 in=[1] out=[]\n",
      "50: eq? ip=217 base=1005 modes=0,1,0 params=1010,41,63 in=[1] out=[]\n",
      "51: jmp-if-1 ip=221 base=1005 modes=0,1,0 params=63,227,1106 in=[1] out=[]\n",
      "52: jmp-if-0 ip=224 base=1005 modes=1,1,0 params=0,233,4 in=[1] out=[]\n",
      "53: multiply ip=233 base=1005 modes=0,1,0 params=64,2,64 in=[1] out=[]\n",
      "54: base+ ip=237 base=1005 modes=1,0,0 params=16,2105,1 in=[1] out=[]\n",
      "55: jmp-if-1 ip=239 base=1021 modes=1,2,0 params=1,2,1105 in=[1] out=[]\n",
      "56: jmp-if-1 ip=242 base=1021 modes=1,1,0 params=1,251,4 in=[1] out=[]\n",
      "57: multiply ip=251 base=1021 modes=0,1,0 params=64,2,64 in=[1] out=[]\n",
      "58: base+ ip=255 base=1021 modes=1,0,0 params=1,21107,41 in=[1] out=[]\n",
      "59: lt? ip=257 base=1022 modes=1,1,2 params=41,40,-4 in=[1] out=[]\n",
      "60: jmp-if-1 ip=261 base=1022 modes=0,1,0 params=1018,271,1001 in=[1] out=[]\n",
      "61: add ip=264 base=1022 modes=0,1,0 params=64,1,64 in=[1] out=[]\n",
      "62: jmp-if-1 ip=268 base=1022 modes=1,1,0 params=1,273,4 in=[1] out=[]\n",
      "63: multiply ip=273 base=1022 modes=0,1,0 params=64,2,64 in=[1] out=[]\n",
      "64: base+ ip=277 base=1022 modes=1,0,0 params=-18,1207,0 in=[1] out=[]\n",
      "65: lt? ip=279 base=1004 modes=2,1,0 params=0,21,63 in=[1] out=[]\n",
      "66: jmp-if-1 ip=283 base=1004 modes=0,1,0 params=63,295,4 in=[1] out=[]\n",
      "67: multiply ip=295 base=1004 modes=0,1,0 params=64,2,64 in=[1] out=[]\n",
      "68: base+ ip=299 base=1004 modes=1,0,0 params=-3,1207,0 in=[1] out=[]\n",
      "69: lt? ip=301 base=1001 modes=2,1,0 params=0,36,63 in=[1] out=[]\n",
      "70: jmp-if-1 ip=305 base=1001 modes=0,1,0 params=63,311,1105 in=[1] out=[]\n",
      "71: jmp-if-1 ip=308 base=1001 modes=1,1,0 params=1,317,4 in=[1] out=[]\n",
      "72: multiply ip=317 base=1001 modes=0,1,0 params=64,2,64 in=[1] out=[]\n",
      "73: base+ ip=321 base=1001 modes=1,0,0 params=6,2108,20 in=[1] out=[]\n",
      "74: eq? ip=323 base=1007 modes=1,2,0 params=20,-3,63 in=[1] out=[]\n",
      "75: jmp-if-1 ip=327 base=1007 modes=0,1,0 params=63,339,4 in=[1] out=[]\n",
      "76: multiply ip=339 base=1007 modes=0,1,0 params=64,2,64 in=[1] out=[]\n",
      "77: base+ ip=343 base=1007 modes=1,0,0 params=28,2106,0 in=[1] out=[]\n",
      "78: jmp-if-0 ip=345 base=1035 modes=1,2,0 params=0,-7,4 in=[1] out=[]\n",
      "79: multiply ip=357 base=1035 modes=0,1,0 params=64,2,64 in=[1] out=[]\n",
      "80: base+ ip=361 base=1035 modes=1,0,0 params=-18,1206,4 in=[1] out=[]\n",
      "81: jmp-if-0 ip=363 base=1017 modes=2,1,0 params=4,373,1001 in=[1] out=[]\n",
      "82: add ip=366 base=1017 modes=0,1,0 params=64,1,64 in=[1] out=[]\n",
      "83: jmp-if-1 ip=370 base=1017 modes=1,1,0 params=1,375,4 in=[1] out=[]\n",
      "84: multiply ip=375 base=1017 modes=0,1,0 params=64,2,64 in=[1] out=[]\n",
      "85: base+ ip=379 base=1017 modes=1,0,0 params=-6,2107,31 in=[1] out=[]\n",
      "86: lt? ip=381 base=1011 modes=1,2,0 params=31,-4,63 in=[1] out=[]\n",
      "87: jmp-if-1 ip=385 base=1011 modes=0,1,0 params=63,397,4 in=[1] out=[]\n",
      "88: multiply ip=397 base=1011 modes=0,1,0 params=64,2,64 in=[1] out=[]\n",
      "89: base+ ip=401 base=1011 modes=1,0,0 params=1,21102,42 in=[1] out=[]\n",
      "90: multiply ip=403 base=1012 modes=1,1,2 params=42,1,-1 in=[1] out=[]\n",
      "91: eq? ip=407 base=1012 modes=0,1,0 params=1011,39,63 in=[1] out=[]\n",
      "92: jmp-if-1 ip=411 base=1012 modes=0,1,0 params=63,421,1001 in=[1] out=[]\n",
      "93: add ip=414 base=1012 modes=0,1,0 params=64,1,64 in=[1] out=[]\n",
      "94: jmp-if-0 ip=418 base=1012 modes=1,1,0 params=0,423,4 in=[1] out=[]\n",
      "95: multiply ip=423 base=1012 modes=0,1,0 params=64,2,64 in=[1] out=[]\n",
      "96: base+ ip=427 base=1012 modes=1,0,0 params=-2,2108,26 in=[1] out=[]\n",
      "97: eq? ip=429 base=1010 modes=1,2,0 params=26,-2,63 in=[1] out=[]\n",
      "98: jmp-if-1 ip=433 base=1010 modes=0,1,0 params=63,439,1106 in=[1] out=[]\n",
      "99: jmp-if-0 ip=436 base=1010 modes=1,1,0 params=0,445,4 in=[1] out=[]\n",
      "100: multiply ip=445 base=1010 modes=0,1,0 params=64,2,64 in=[1] out=[]\n",
      "101: base+ ip=449 base=1010 modes=1,0,0 params=6,21102,43 in=[1] out=[]\n",
      "102: multiply ip=451 base=1016 modes=1,1,2 params=43,1,-5 in=[1] out=[]\n",
      "103: eq? ip=455 base=1016 modes=0,1,0 params=1011,43,63 in=[1] out=[]\n",
      "104: jmp-if-1 ip=459 base=1016 modes=0,1,0 params=63,467,4 in=[1] out=[]\n",
      "105: add ip=467 base=1016 modes=0,1,0 params=64,1,64 in=[1] out=[]\n",
      "106: multiply ip=471 base=1016 modes=0,1,0 params=64,2,64 in=[1] out=[]\n",
      "107: base+ ip=475 base=1016 modes=1,0,0 params=6,21101,44 in=[1] out=[]\n",
      "108: add ip=477 base=1022 modes=1,1,2 params=44,0,-3 in=[1] out=[]\n",
      "109: eq? ip=481 base=1022 modes=0,1,0 params=1019,44,63 in=[1] out=[]\n",
      "110: jmp-if-1 ip=485 base=1022 modes=0,1,0 params=63,493,4 in=[1] out=[]\n",
      "111: add ip=493 base=1022 modes=0,1,0 params=64,1,64 in=[1] out=[]\n",
      "112: multiply ip=497 base=1022 modes=0,1,0 params=64,2,64 in=[1] out=[]\n",
      "113: base+ ip=501 base=1022 modes=1,0,0 params=-9,1206,7 in=[1] out=[]\n",
      "114: jmp-if-0 ip=503 base=1013 modes=2,1,0 params=7,511,4 in=[1] out=[]\n",
      "115: add ip=511 base=1013 modes=0,1,0 params=64,1,64 in=[1] out=[]\n",
      "116: multiply ip=515 base=1013 modes=0,1,0 params=64,2,64 in=[1] out=[]\n",
      "117: base+ ip=519 base=1013 modes=1,0,0 params=14,1205,-7 in=[1] out=[]\n",
      "118: jmp-if-1 ip=521 base=1027 modes=2,1,0 params=-7,531,1001 in=[1] out=[]\n",
      "119: add ip=524 base=1027 modes=0,1,0 params=64,1,64 in=[1] out=[]\n",
      "120: jmp-if-0 ip=528 base=1027 modes=1,1,0 params=0,533,4 in=[1] out=[]\n",
      "121: multiply ip=533 base=1027 modes=0,1,0 params=64,2,64 in=[1] out=[]\n",
      "122: base+ ip=537 base=1027 modes=1,0,0 params=-27,1201,0 in=[1] out=[]\n",
      "123: add ip=539 base=1000 modes=2,1,0 params=0,0,63 in=[1] out=[]\n",
      "124: eq? ip=543 base=1000 modes=0,1,0 params=63,39,63 in=[1] out=[]\n",
      "125: jmp-if-1 ip=547 base=1000 modes=0,1,0 params=63,555,4 in=[1] out=[]\n",
      "126: add ip=555 base=1000 modes=0,1,0 params=64,1,64 in=[1] out=[]\n",
      "127: multiply ip=559 base=1000 modes=0,1,0 params=64,2,64 in=[1] out=[]\n",
      "128: base+ ip=563 base=1000 modes=1,0,0 params=10,2101,0 in=[1] out=[]\n",
      "129: add ip=565 base=1010 modes=1,2,0 params=0,-5,63 in=[1] out=[]\n",
      "130: eq? ip=569 base=1010 modes=0,1,0 params=63,24,63 in=[1] out=[]\n",
      "131: jmp-if-1 ip=573 base=1010 modes=0,1,0 params=63,583,1001 in=[1] out=[]\n",
      "132: add ip=576 base=1010 modes=0,1,0 params=64,1,64 in=[1] out=[]\n",
      "133: jmp-if-1 ip=580 base=1010 modes=1,1,0 params=1,585,4 in=[1] out=[]\n",
      "134: multiply ip=585 base=1010 modes=0,1,0 params=64,2,64 in=[1] out=[]\n",
      "135: base+ ip=589 base=1010 modes=1,0,0 params=-11,2107,21 in=[1] out=[]\n",
      "136: lt? ip=591 base=999 modes=1,2,0 params=21,5,63 in=[1] out=[]\n",
      "137: jmp-if-1 ip=595 base=999 modes=0,1,0 params=63,601,1105 in=[1] out=[]\n",
      "138: jmp-if-1 ip=598 base=999 modes=1,1,0 params=1,607,4 in=[1] out=[]\n",
      "139: multiply ip=607 base=999 modes=0,1,0 params=64,2,64 in=[1] out=[]\n",
      "140: base+ ip=611 base=999 modes=1,0,0 params=10,1208,0 in=[1] out=[]\n",
      "141: eq? ip=613 base=1009 modes=2,1,0 params=0,36,63 in=[1] out=[]\n",
      "142: jmp-if-1 ip=617 base=1009 modes=0,1,0 params=63,627,1001 in=[1] out=[]\n",
      "143: add ip=620 base=1009 modes=0,1,0 params=64,1,64 in=[1] out=[]\n",
      "144: jmp-if-0 ip=624 base=1009 modes=1,1,0 params=0,629,4 in=[1] out=[]\n",
      "145: multiply ip=629 base=1009 modes=0,1,0 params=64,2,64 in=[1] out=[]\n",
      "146: base+ ip=633 base=1009 modes=1,0,0 params=15,21108,45 in=[1] out=[]\n",
      "147: eq? ip=635 base=1024 modes=1,1,2 params=45,45,-9 in=[1] out=[]\n",
      "148: jmp-if-1 ip=639 base=1024 modes=0,1,0 params=1015,647,4 in=[1] out=[]\n",
      "149: add ip=647 base=1024 modes=0,1,0 params=64,1,64 in=[1] out=[]\n",
      "150: multiply ip=651 base=1024 modes=0,1,0 params=64,2,64 in=[1] out=[]\n",
      "151: base+ ip=655 base=1024 modes=1,0,0 params=-19,2101,0 in=[1] out=[]\n",
      "152: add ip=657 base=1005 modes=1,2,0 params=0,-4,63 in=[1] out=[]\n",
      "153: eq? ip=661 base=1005 modes=0,1,0 params=63,37,63 in=[1] out=[]\n",
      "154: jmp-if-1 ip=665 base=1005 modes=0,1,0 params=63,677,4 in=[1] out=[]\n",
      "155: multiply ip=677 base=1005 modes=0,1,0 params=64,2,64 in=[1] out=[]\n",
      "156: base+ ip=681 base=1005 modes=1,0,0 params=22,1205,-6 in=[1] out=[]\n",
      "157: jmp-if-1 ip=683 base=1027 modes=2,1,0 params=-6,695,4 in=[1] out=[]\n",
      "158: multiply ip=695 base=1027 modes=0,1,0 params=64,2,64 in=[1] out=[]\n",
      "159: base+ ip=699 base=1027 modes=1,0,0 params=-10,2106,0 in=[1] out=[]\n",
      "160: jmp-if-0 ip=701 base=1017 modes=1,2,0 params=0,10,1001 in=[1] out=[]\n",
      "161: add ip=704 base=1017 modes=0,1,0 params=64,1,64 in=[1] out=[]\n",
      "162: jmp-if-1 ip=708 base=1017 modes=1,1,0 params=1,713,4 in=[1] out=[]\n",
      "163: multiply ip=713 base=1017 modes=0,1,0 params=64,2,64 in=[1] out=[]\n",
      "164: base+ ip=717 base=1017 modes=1,0,0 params=-9,1201,-8 in=[1] out=[]\n",
      "165: add ip=719 base=1008 modes=2,1,0 params=-8,0,63 in=[1] out=[]\n",
      "166: eq? ip=723 base=1008 modes=0,1,0 params=63,36,63 in=[1] out=[]\n",
      "167: jmp-if-1 ip=727 base=1008 modes=0,1,0 params=63,733,1105 in=[1] out=[]\n",
      "168: jmp-if-1 ip=730 base=1008 modes=1,1,0 params=1,739,4 in=[1] out=[]\n",
      "169: multiply ip=739 base=1008 modes=0,1,0 params=64,2,64 in=[1] out=[]\n",
      "170: base+ ip=743 base=1008 modes=1,0,0 params=7,21107,46 in=[1] out=[]\n",
      "171: lt? ip=745 base=1015 modes=1,1,2 params=46,47,0 in=[1] out=[]\n",
      "172: jmp-if-1 ip=749 base=1015 modes=0,1,0 params=1015,757,4 in=[1] out=[]\n",
      "173: add ip=757 base=1015 modes=0,1,0 params=64,1,64 in=[1] out=[]\n",
      "174: multiply ip=761 base=1015 modes=0,1,0 params=64,2,64 in=[1] out=[]\n",
      "175: base+ ip=765 base=1015 modes=1,0,0 params=14,2105,1 in=[1] out=[]\n",
      "176: jmp-if-1 ip=767 base=1029 modes=1,2,0 params=1,-5,4 in=[1] out=[]\n",
      "177: add ip=775 base=1029 modes=0,1,0 params=64,1,64 in=[1] out=[]\n",
      "178: multiply ip=779 base=1029 modes=0,1,0 params=64,2,64 in=[1] out=[]\n",
      "179: base+ ip=783 base=1029 modes=1,0,0 params=-34,2102,1 in=[1] out=[]\n",
      "180: multiply ip=785 base=995 modes=1,2,0 params=1,6,63 in=[1] out=[]\n",
      "181: eq? ip=789 base=995 modes=0,1,0 params=63,39,63 in=[1] out=[]\n",
      "182: jmp-if-1 ip=793 base=995 modes=0,1,0 params=63,799,1105 in=[1] out=[]\n",
      "183: jmp-if-1 ip=796 base=995 modes=1,1,0 params=1,805,4 in=[1] out=[]\n",
      "184: multiply ip=805 base=995 modes=0,1,0 params=64,2,64 in=[1] out=[]\n",
      "185: base+ ip=809 base=995 modes=1,0,0 params=25,21108,47 in=[1] out=[]\n",
      "186: eq? ip=811 base=1020 modes=1,1,2 params=47,49,-4 in=[1] out=[]\n",
      "187: jmp-if-1 ip=815 base=1020 modes=0,1,0 params=1016,825,1001 in=[1] out=[]\n",
      "188: add ip=818 base=1020 modes=0,1,0 params=64,1,64 in=[1] out=[]\n",
      "189: jmp-if-0 ip=822 base=1020 modes=1,1,0 params=0,827,4 in=[1] out=[]\n",
      "190: multiply ip=827 base=1020 modes=0,1,0 params=64,2,64 in=[1] out=[]\n",
      "191: base+ ip=831 base=1020 modes=1,0,0 params=-6,1208,-8 in=[1] out=[]\n",
      "192: eq? ip=833 base=1014 modes=2,1,0 params=-8,36,63 in=[1] out=[]\n",
      "193: jmp-if-1 ip=837 base=1014 modes=0,1,0 params=63,845,4 in=[1] out=[]\n",
      "194: add ip=845 base=1014 modes=0,1,0 params=64,1,64 in=[1] out=[]\n",
      "195: multiply ip=849 base=1014 modes=0,1,0 params=64,2,64 in=[1] out=[]\n",
      "196: base+ ip=853 base=1014 modes=1,0,0 params=-10,1202,2 in=[1] out=[]\n",
      "197: multiply ip=855 base=1004 modes=2,1,0 params=2,1,63 in=[1] out=[]\n",
      "198: eq? ip=859 base=1004 modes=0,1,0 params=63,36,63 in=[1] out=[]\n",
      "199: jmp-if-1 ip=863 base=1004 modes=0,1,0 params=63,875,4 in=[1] out=[]\n",
      "200: multiply ip=875 base=1004 modes=0,1,0 params=64,2,64 in=[1] out=[]\n",
      "201: base+ ip=879 base=1004 modes=1,0,0 params=-5,1202,10 in=[1] out=[]\n",
      "202: multiply ip=881 base=999 modes=2,1,0 params=10,1,63 in=[1] out=[]\n",
      "203: eq? ip=885 base=999 modes=0,1,0 params=63,30,63 in=[1] out=[]\n",
      "204: jmp-if-1 ip=889 base=999 modes=0,1,0 params=63,895,1106 in=[1] out=[]\n",
      "205: jmp-if-0 ip=892 base=999 modes=1,1,0 params=0,901,4 in=[1] out=[]\n",
      "206: write ip=901 base=999 modes=0,0,0 params=64,99,21101 in=[1] out=[]\n",
      "207: halt ip=903 base=999 modes=0,0,0 params=21101,27,0 in=[1] out=[2427443564]\n"
     ]
    },
    {
     "data": {
      "text/plain": [
       "[2427443564]"
      ]
     },
     "execution_count": 132,
     "metadata": {},
     "output_type": "execute_result"
    }
   ],
   "source": [
    "# boost 1 verbose ... decompiled, as it were.\n",
    "IntcodeMachine(day9, [1], verbose=True).run()"
   ]
  },
  {
   "cell_type": "markdown",
   "metadata": {},
   "source": [
    "---\n",
    "## [Day 10](http://adventofcode.com/2019/day/10) : Monitoring Station"
   ]
  },
  {
   "cell_type": "code",
   "execution_count": 133,
   "metadata": {},
   "outputs": [
    {
     "name": "stdout",
     "output_type": "stream",
     "text": [
      "The start of day10_raw is\n",
      ".###..#......###..#...#\n",
      "#.#..#.##..###..#...#.#\n",
      "#. \n",
      "\n"
     ]
    }
   ],
   "source": [
    "day10_raw = puzzle_input(10).read().strip()\n",
    "\n",
    "print(\"The start of day10_raw is\")\n",
    "print(day10_raw[:50], \"\\n\")"
   ]
  },
  {
   "cell_type": "code",
   "execution_count": 134,
   "metadata": {},
   "outputs": [
    {
     "name": "stdout",
     "output_type": "stream",
     "text": [
      "Number of satellites in day 10 is 309.\n"
     ]
    }
   ],
   "source": [
    "def to_points(string):\n",
    "    \"\"\" Turn e.g. '#.#\\n..#\\n' into a set of (x,y) points. \"\"\"\n",
    "    points = set()\n",
    "    lines = string.strip().split('\\n')\n",
    "    _n_rows = len(lines)\n",
    "    _n_cols = len(lines[0])\n",
    "    for row in range(_n_rows):\n",
    "        for column in range(_n_cols):\n",
    "            if lines[row][column] == '#':\n",
    "                x = column           # x positive to right\n",
    "                y = row             # y positive DOWN (... is what they're using in the problem)\n",
    "                points.add((x,y))\n",
    "    return points\n",
    "day10_points = to_points(day10_raw)\n",
    "print(f\"Number of satellites in day 10 is {len(day10_points)}.\")"
   ]
  },
  {
   "cell_type": "markdown",
   "metadata": {},
   "source": [
    "### Day 10 Part 1"
   ]
  },
  {
   "cell_type": "code",
   "execution_count": 135,
   "metadata": {},
   "outputs": [],
   "source": [
    "# Given a satellite (i.e. # mark) S1, for every other satellite S2 \n",
    "# there is a vector S1 -> S2 giving its direction. There is at \n",
    "# least one satellite in that direction (S2) and there can be no\n",
    "# more than one, since the first one in that direction blocks the others.\n",
    "#\n",
    "# Therefore counting the number visible is the same as counting the number\n",
    "# of unique directions, where the length of the direction doesn't matter.\n",
    "# \n",
    "# So first treat each direction as a fraction (a,b) and reduce it\n",
    "# to its simplest form, then put 'em into a set. The number visible \n",
    "# is then just the size of the set.\n",
    "\n",
    "def direction(p2, p1):\n",
    "    \"\"\" return direction to p2 from p1 in reduced form. \"\"\"\n",
    "    return reduce(*subtract(p2, p1))\n",
    "assert direction((20,20), (10,10)) == (1, 1)\n",
    "assert direction((5,6), (-5,21)) == (2, -3)\n",
    "\n",
    "def count_visible(point, points):\n",
    "    \"\"\" return number of points p visible from given point \"\"\"\n",
    "    directions = set()\n",
    "    for p in points:\n",
    "        heading = direction(p, point)\n",
    "        if heading != (0, 0):  # can't be visible from yourself\n",
    "            directions.add(direction(point, p))\n",
    "    return len(directions)\n",
    "\n",
    "def most_visible(raw):\n",
    "    \"\"\" return (point, n_visible) for point with highest visibility to others \"\"\"\n",
    "    points = to_points(raw)\n",
    "    best = ((None, None), -1)\n",
    "    for p in points:\n",
    "        n_visible = count_visible(p, points)\n",
    "        if n_visible > best[1]:\n",
    "            best = (p, n_visible)\n",
    "    return best\n"
   ]
  },
  {
   "cell_type": "code",
   "execution_count": 136,
   "metadata": {},
   "outputs": [],
   "source": [
    "tests = (\n",
    "(\"\"\"\n",
    ".#..#\n",
    ".....\n",
    "#####\n",
    "....#\n",
    "...##\n",
    "\"\"\", 3,4, 8),\n",
    "    \n",
    "(\"\"\"\n",
    "......#.#.\n",
    "#..#.#....\n",
    "..#######.\n",
    ".#.#.###..\n",
    ".#..#.....\n",
    "..#....#.#\n",
    "#..#....#.\n",
    ".##.#..###\n",
    "##...#..#.\n",
    ".#....####\n",
    "\"\"\", 5, 8, 33),\n",
    "    \n",
    "(\"\"\"\n",
    "#.#...#.#.\n",
    ".###....#.\n",
    ".#....#...\n",
    "##.#.#.#.#\n",
    "....#.#.#.\n",
    ".##..###.#\n",
    "..#...##..\n",
    "..##....##\n",
    "......#...\n",
    ".####.###.\n",
    "\"\"\", 1, 2, 35),\n",
    "\n",
    "(\"\"\"\n",
    ".#..#..###\n",
    "####.###.#\n",
    "....###.#.\n",
    "..###.##.#\n",
    "##.##.#.#.\n",
    "....###..#\n",
    "..#.#..#.#\n",
    "#..#.#.###\n",
    ".##...##.#\n",
    ".....#.#..\n",
    "\"\"\", 6, 3, 41),\n",
    "    \n",
    "(\"\"\"\n",
    ".#..##.###...#######\n",
    "##.############..##.\n",
    ".#.######.########.#\n",
    ".###.#######.####.#.\n",
    "#####.##.#.##.###.##\n",
    "..#####..#.#########\n",
    "####################\n",
    "#.####....###.#.#.##\n",
    "##.#################\n",
    "#####.##.###..####..\n",
    "..######..##.#######\n",
    "####.##.####...##..#\n",
    ".#####..#.######.###\n",
    "##...#.##########...\n",
    "#.##########.#######\n",
    ".####.#.###.###.#.##\n",
    "....##.##.###..#####\n",
    ".#.#.###########.###\n",
    "#.#.#.#####.####.###\n",
    "###.##.####.##.#..##\n",
    "\"\"\", 11, 13, 210)\n",
    ")\n",
    "\n",
    "for (grid, x, y, count) in tests:\n",
    "    assert most_visible(grid) == ((x,y), count)\n",
    "    \n",
    "# Passed all tests."
   ]
  },
  {
   "cell_type": "code",
   "execution_count": 137,
   "metadata": {},
   "outputs": [
    {
     "name": "stdout",
     "output_type": "stream",
     "text": [
      "Station position is (19, 11).\n",
      "Day 10 Part 1 (number visible from there) is 230.\n"
     ]
    }
   ],
   "source": [
    "(station, count) = most_visible(day10_raw)\n",
    "print(f\"Station position is {station}.\")\n",
    "print(f\"Day 10 Part 1 (number visible from there) is {count}.\")"
   ]
  },
  {
   "cell_type": "markdown",
   "metadata": {},
   "source": [
    "### Day 10 Part 2"
   ]
  },
  {
   "cell_type": "code",
   "execution_count": 138,
   "metadata": {},
   "outputs": [],
   "source": [
    "# Given station position, store information for other satellites in a dict\n",
    "#   { direction : (x1,y2), (x2,y2), ... }\n",
    "# Then sort directions by clockangle, and sort points by distance to station.\n",
    "\n",
    "def laser_order(station, raw_map):\n",
    "    \"\"\" return [(x1,y1), (x2,y2), ...]  coords of zapped satellites in order \"\"\"\n",
    "    satellites = {}                 #  { heading : [(distance, point), (distance, point), ... }\n",
    "    points = to_points(raw_map)\n",
    "    for p in points:\n",
    "        heading = direction(p, station)\n",
    "        if heading != (0, 0):  # only looking at other satellites, not this one\n",
    "            angle = clockangle(*heading, invert_y=True)\n",
    "            key = angle\n",
    "            if not key in satellites:\n",
    "                satellites[key] = []\n",
    "            vector = subtract(p, station)\n",
    "            distance = dot(vector, vector)\n",
    "            satellites[key].append((distance, p))\n",
    "    for key in satellites:\n",
    "        satellites[key] = sorted(satellites[key])\n",
    "    by_angle = sorted([(angle, data) for (angle, data) in satellites.items()])\n",
    "    just_data = [data for (angle, data) in by_angle]\n",
    "    zap_order = []\n",
    "    while True:\n",
    "        maybe_done = True\n",
    "        for i in range(len(just_data)):\n",
    "            data = just_data[i]\n",
    "            try:\n",
    "                (distance, pt) = data.pop(0)\n",
    "                zap_order.append(pt)\n",
    "                maybe_done = False\n",
    "            except IndexError:\n",
    "                pass\n",
    "        if maybe_done:\n",
    "            break\n",
    "    return {i+1:zap_order[i] for i in range(len(zap_order))}\n",
    "\n",
    "if False:\n",
    "    example_X = \"\"\"\n",
    ".#....#####...#..\n",
    "##...##.#####..##\n",
    "##...#...#.#####.\n",
    "..#.....#...###..\n",
    "..#.#.....#....##\n",
    "\"\"\"\n",
    "    best_X = (8,3)\n",
    "    # By inspection, this looks like it is consistent with the answers given.\n",
    "    print(\"(station, visible) for example_X is \", most_visible(example_X))\n",
    "    print(\"number of satellites in example_X is \", len(to_points(example_X)))\n",
    "    print(laser_order(best_X, example_X))\n",
    "\n",
    "example_big = \"\"\"\n",
    ".#..##.###...#######\n",
    "##.############..##.\n",
    ".#.######.########.#\n",
    ".###.#######.####.#.\n",
    "#####.##.#.##.###.##\n",
    "..#####..#.#########\n",
    "####################\n",
    "#.####....###.#.#.##\n",
    "##.#################\n",
    "#####.##.###..####..\n",
    "..######..##.#######\n",
    "####.##.####...##..#\n",
    ".#####..#.######.###\n",
    "##...#.##########...\n",
    "#.##########.#######\n",
    ".####.#.###.###.#.##\n",
    "....##.##.###..#####\n",
    ".#.#.###########.###\n",
    "#.#.#.#####.####.###\n",
    "###.##.####.##.#..##\n",
    "\"\"\"\n",
    "best_big = (11, 13)\n",
    "test_big = (\n",
    "  (  1, (11, 12)),     # The 1st asteroid to be vaporized is at 11,12.\n",
    "  (  2, (12,  1)),     # The 2nd asteroid to be vaporized is at 12,1.\n",
    "  (  3, (12,  2)),     # The 3rd asteroid to be vaporized is at 12,2.\n",
    "  ( 10, (12,  8)),     # The 10th asteroid to be vaporized is at 12,8.\n",
    "  ( 20, (16,  0)),     # The 20th asteroid to be vaporized is at 16,0.\n",
    "  ( 50, (16,  9)),     # The 50th asteroid to be vaporized is at 16,9.\n",
    "  (100, (10, 16)),     # The 100th asteroid to be vaporized is at 10,16.\n",
    "  (199, ( 9,  6)),     # The 199th asteroid to be vaporized is at 9,6.\n",
    "  (200, ( 8,  2)),     # The 200th asteroid to be vaporized is at 8,2.\n",
    "  (201, (10,  9)),     # The 201st asteroid to be vaporized is at 10,9.\n",
    "  (299, (11,  1))      # The 299th and final asteroid to be vaporized is at 11,1.\n",
    ")\n",
    "\n",
    "large_result = laser_order(best_big, example_big)\n",
    "for (nth, point) in test_big:\n",
    "    assert large_result[nth] == point\n",
    "\n",
    "# -- passed tests --"
   ]
  },
  {
   "cell_type": "code",
   "execution_count": 139,
   "metadata": {},
   "outputs": [
    {
     "name": "stdout",
     "output_type": "stream",
     "text": [
      "Day 10 Part 2 is 1205.\n"
     ]
    }
   ],
   "source": [
    "def bet_value(pt):\n",
    "    return 100 * pt[0] + pt[1]\n",
    "\n",
    "zap_order = laser_order(station, day10_raw)\n",
    "print(f\"Day 10 Part 2 is {bet_value(zap_order[200])}.\")"
   ]
  },
  {
   "cell_type": "markdown",
   "metadata": {},
   "source": [
    "---\n",
    "## [Day 11](http://adventofcode.com/2019/day/11) : Space Police"
   ]
  },
  {
   "cell_type": "code",
   "execution_count": 140,
   "metadata": {},
   "outputs": [
    {
     "name": "stdout",
     "output_type": "stream",
     "text": [
      "The day 11 input starts with '3,8,1005,8,336,1106' and has \n",
      "size 658, min -5, max 937151013780, start [3, 8, 1005, 8], end [-5, 2105, 1, 0].\n"
     ]
    }
   ],
   "source": [
    "# Yet another IntcodeMachine problem; see Day 2 & 5, 7, 9.\n",
    "day11_raw = puzzle_input(11).readline().strip()\n",
    "day11 = parse_intcode(day11_raw)\n",
    "print(f\"The day 11 input starts with '{day11_raw[:19]}' and has \")\n",
    "print(f\"size {len(day11)}, min {min(day11)}, max {max(day11)}, start {day11[:4]}, end {day11[-4:]}.\")"
   ]
  },
  {
   "cell_type": "markdown",
   "metadata": {},
   "source": [
    "### Day 11 Part 1"
   ]
  },
  {
   "cell_type": "code",
   "execution_count": 141,
   "metadata": {},
   "outputs": [
    {
     "name": "stdout",
     "output_type": "stream",
     "text": [
      " start\n",
      ".......\n",
      ".......\n",
      ".......\n",
      "...^...\n",
      ".......\n",
      ".......\n",
      ".......\n",
      "\n",
      " number colored is 1\n",
      ".......\n",
      ".......\n",
      ".......\n",
      "..<#...\n",
      ".......\n",
      ".......\n",
      ".......\n",
      "\n",
      " number colored is 2\n",
      "........\n",
      "........\n",
      "........\n",
      "....#...\n",
      "...v....\n",
      "........\n",
      "........\n",
      "\n",
      " number colored is 3\n",
      "........\n",
      "........\n",
      "........\n",
      "....#...\n",
      "...#>...\n",
      "........\n",
      "........\n",
      "........\n",
      "\n",
      " number colored is 4\n",
      "........\n",
      "........\n",
      "........\n",
      "....^...\n",
      "...##...\n",
      "........\n",
      "........\n",
      "........\n",
      "\n",
      " number colored is 4\n",
      "........\n",
      "........\n",
      "........\n",
      ".....>..\n",
      "...##...\n",
      "........\n",
      "........\n",
      "........\n",
      "\n",
      " number colored is 5\n",
      ".........\n",
      ".........\n",
      ".....^...\n",
      ".....#...\n",
      "...##....\n",
      ".........\n",
      ".........\n",
      ".........\n",
      "\n",
      " number colored is 6\n",
      ".........\n",
      ".........\n",
      ".........\n",
      "....<#...\n",
      ".....#...\n",
      "...##....\n",
      ".........\n",
      ".........\n",
      ".........\n",
      "\n"
     ]
    }
   ],
   "source": [
    "_unpainted_ = 0     # At first I thought this should be distinguished from black.\n",
    "_black_ = 0\n",
    "_white_ = 1\n",
    "_turning = { 0: turn_left, 1: turn_right }  # see Preperations at top of this notebook.\n",
    "robot_style = {UP:'^', RIGHT:'>', DOWN:'v', LEFT:'<'}\n",
    "color_map = {_unpainted_:'.', _black_:'.', _white_:'#'}\n",
    "\n",
    "class HullPaintingRobot:\n",
    "    # Using euclidean geometry conventions :  \n",
    "    #     y      (increasing y is up)\n",
    "    #     |\n",
    "    #     --> x  (increasing x is right)\n",
    "    # Rather than storing the panel map as a matrix, \n",
    "    # I'm just storing painted panels as a dict {(x,y):color} .\n",
    "    def __init__(self, code):\n",
    "        self.brain = IntcodeMachine(code, [])\n",
    "        self.inputs = []\n",
    "        self.outputs = []\n",
    "        self.heading = UP\n",
    "        self.position = (0,0)\n",
    "        self.panels = {}        # {(x,y):color} for painted panels\n",
    "        self.border = 3         # distance around edges when printing panel map\n",
    "    def move(self):\n",
    "        self.position = add(self.position, self.heading)\n",
    "    def paint(self, color):\n",
    "        self.panels[self.position] = color\n",
    "    def turn(self, direction):\n",
    "        self.heading = _turning[direction][self.heading]\n",
    "    def run(self):\n",
    "        i_steps = 0\n",
    "        max_steps = 10000\n",
    "        while True:\n",
    "            self.brain.next_input(self.panel_color())        # send color to brain\n",
    "            self.brain.run()\n",
    "            (color, right_or_left) = self.brain.outputs[-2:] # get last two outputs\n",
    "            self.paint(color)\n",
    "            self.turn(right_or_left)\n",
    "            self.move()\n",
    "            i_steps += 1\n",
    "            if self.brain.is_halted():\n",
    "                return\n",
    "            if i_steps > max_steps:\n",
    "                print(f\"OOPS : steps exceeded max={max_steps}.\")\n",
    "                return\n",
    "            if False:\n",
    "                print(f\"inputs = {self.brain.inputs}.\")\n",
    "                print(f\"outputs = {self.brain.outputs}.\")\n",
    "                print(f\"last_op = {self.brain.opcode}.\")\n",
    "                print(self.hull())\n",
    "    def test_run(self, outputs):\n",
    "        \"\"\" run the example \"\"\"\n",
    "        i = 0\n",
    "        while i < len(outputs):\n",
    "            self.paint(outputs[i])\n",
    "            self.turn(outputs[i+1])\n",
    "            self.move()\n",
    "            i += 2\n",
    "            print(f\" number colored is {self.count_panels_painted()}\")\n",
    "            print(self.hull())\n",
    "    def _edge(self, index, minmax):\n",
    "        \"\"\" return distance from center to one of the panel edges \"\"\"\n",
    "        extra = -self.border if minmax == min else self.border\n",
    "        return extra + (0 if not self.panels else minmax(p[index] for p in self.panels))\n",
    "    def left_edge(self): return self._edge(0, min)\n",
    "    def right_edge(self): return self._edge(0, max)\n",
    "    def bottom_edge(self): return self._edge(1, min)\n",
    "    def top_edge(self): return self._edge(1, max)\n",
    "    def count_panels_painted(self): return len(self.panels)\n",
    "    def panel_color(self, point=None):\n",
    "        \"\"\" Return color of panel \"\"\"\n",
    "        if point==None:\n",
    "            point = self.position\n",
    "        return self.panels[point] if point in self.panels else _unpainted_\n",
    "    def hull(self):\n",
    "        \"\"\" return printable hull map \"\"\"\n",
    "        result = ''\n",
    "        for y in range(self.top_edge(), self.bottom_edge()-1, -1): # high to low\n",
    "            for x in range(self.left_edge(), self.right_edge()+1):\n",
    "                if (x,y) == self.position:\n",
    "                    result += robot_style[self.heading]\n",
    "                else:\n",
    "                    result += color_map[self.panel_color((x,y))]\n",
    "            result += '\\n'\n",
    "        return result\n",
    "\n",
    "if True:\n",
    "    # run test \n",
    "    testbot = HullPaintingRobot([])\n",
    "    print(' start')\n",
    "    print(testbot.hull())\n",
    "    testbot.test_run([1,0, 0,0, 1,0, 1,0, 0,1, 1,0, 1,0])"
   ]
  },
  {
   "cell_type": "code",
   "execution_count": 142,
   "metadata": {},
   "outputs": [
    {
     "name": "stdout",
     "output_type": "stream",
     "text": [
      "..............................................................\n",
      "..............................................................\n",
      "..............................................................\n",
      "..................................##..........................\n",
      "..................................#.###.......................\n",
      ".................................#.##.#.......................\n",
      "...............................#..#.#.#.......................\n",
      "...............................#######.#......................\n",
      "...........................####.#.#...##......................\n",
      "...........................#..##.....#........................\n",
      "..........................#.##.#..##.##.......................\n",
      "...................##..##.####................................\n",
      "................###.#..####..##....#..#.##....................\n",
      ".................#.#.##.#....###.#.#######....................\n",
      "................##.#.####.#...#...####..#.....................\n",
      ".................#.###..###..####.#.##.####...................\n",
      "...............##..####.#.#......##...###.#...................\n",
      "..............###.#.......##.#.#...###.#......................\n",
      ".......##....###.###.#..#.##.####..#####.#....................\n",
      "......#.#....#...##..###..#..#.#####....#.....................\n",
      ".....#..#...#.....##.##..#...#.##.#.#..#......................\n",
      ".....#..#.#.#..#.#..##.#..####.##.#..##.......................\n",
      "......#.#####..#.#....##..###..###............................\n",
      ".......##.#..##..#..###..##.###...............................\n",
      ".......#.##.##...##..###..#.#.................................\n",
      "......####....##.##.#.######.#................................\n",
      "........#.####.#.....####...##................................\n",
      "...####..#..###.#.#.#.##.##...#...............................\n",
      "....##....#.#.#..#..##..###.###...............................\n",
      "...##..##.....#.#####....###.#................................\n",
      "....#..#.#####..#.......#.###.................................\n",
      ".......###.#.#....####..#..#.#................................\n",
      ".......#...#....##..#....###..................................\n",
      ".......######.##.#......##.###................................\n",
      "....##.##....#..#.#.####....#.................................\n",
      ".....##.#####..###.....###.#..................................\n",
      "....#.#.##.##.#...#.#.#####...................................\n",
      ".....###.##....#...#.#.##.....................................\n",
      ".....####....#.##.#.#.#######.................................\n",
      "........#..#####.#....#.###.#.................................\n",
      ".........#.#..#.#..##...##.##.................................\n",
      "........####.#....#..#..##.#..................................\n",
      ".......#.#..###.#.#.##..#####.................................\n",
      ".......###.....#.##...#.###...................................\n",
      ".........#.#...###..#.##......................................\n",
      ".........#.#...##...##........................................\n",
      "..........#.#.#.#.....##......................................\n",
      "...........#.#..#..#.#.#......................................\n",
      ".............##.#####..#......................................\n",
      "............#....####..#......................................\n",
      "...........####.....#.#.......................................\n",
      "...........#.##..###.##.......................................\n",
      "...........#...#.....##..##...................................\n",
      "..............##.##.#.#.##....................................\n",
      "...........#.###...#.#######..................................\n",
      "..................###.##..##..#...............................\n",
      "...................##....######...............................\n",
      "..................#.#....##.##................................\n",
      "...................#..#.####.....##...........................\n",
      "................#.##.#####.......##.####.....#....#...........\n",
      ".............##..#.##..###.##......#....#..#...#.##...........\n",
      ".............##.#.###......##...##.#...#.#...#.#..#...........\n",
      ".............#.#.#...##..#.......####..###.#.###..#...........\n",
      "............#.#.#..#..##...........####..##.#...#.............\n",
      "............#..#.####.#..#...##.#..####.###.#..##.#...........\n",
      ".............##.###.#####....####.#..##.###.#..#..............\n",
      "................##.####..##..#..#.####.#...##.#....##..#..#...\n",
      ".................#..#....##..#.#...#..##..###.#.####.##.###...\n",
      ".............#...#####........##..####...####.....###....#....\n",
      ".............##......##.......##.....#.####...#.#....##.#.....\n",
      "..............#......#......#..#...#.######.#.####.##.##......\n",
      "................#.#.##.....#.##.#.#...#....#.###..####........\n",
      "................##.........##.#....#..##..##..##.#.#..........\n",
      "................#####.#.##...#.##....###........##..#...#.....\n",
      ".................#....#..#.#..##.#..##...#....####..###.#.....\n",
      ".................###.##..#.....#..#.#####.###..##.............\n",
      "..................########.#.##.#...#..####.#.................\n",
      ".................#.###.#...####.....###....###.#..............\n",
      "..................####..###..#.#..#.##..###....#..............\n",
      "...................##.###....###.#####.#######................\n",
      "....................##.#.##...###.###.##.###..................\n",
      ".....................###...#.###..#....##.....................\n",
      "........................#.#.#.###...#.#.#.###.................\n",
      ".........................##..#..#.....##......................\n",
      ".......................#.#.##.##......####....................\n",
      "........................###.#.........#.#.....................\n",
      ".........................#..#.................................\n",
      ".........................###.#................................\n",
      "...................#####..#.#.#...............................\n",
      "..................###...###.#.#...............................\n",
      "........................#.##.#................................\n",
      "...............####.##.#..###.................................\n",
      "................##..#.#..#..#.................................\n",
      "...............##.....#...###.................................\n",
      "................#.#..###.##.#.................................\n",
      "..................##...#.##..#................................\n",
      "..................####.#...###................................\n",
      "..................#.#..<#.#...................................\n",
      "........................####..................................\n",
      ".........................##...................................\n",
      "........................####..................................\n",
      "..........................##..................................\n",
      "........................####..................................\n",
      ".........................##...................................\n",
      "..............................................................\n",
      "..............................................................\n",
      "..............................................................\n",
      "\n",
      "Day 11 Part 1 is 2018.\n"
     ]
    }
   ],
   "source": [
    "hubbot = HullPaintingRobot(day11)\n",
    "hubbot.run()\n",
    "print(hubbot.hull())\n",
    "print(f\"Day 11 Part 1 is {hubbot.count_panels_painted()}.\")"
   ]
  },
  {
   "cell_type": "markdown",
   "metadata": {},
   "source": [
    "### Day 11 Part 2"
   ]
  },
  {
   "cell_type": "code",
   "execution_count": 143,
   "metadata": {},
   "outputs": [
    {
     "name": "stdout",
     "output_type": "stream",
     "text": [
      ".................................................\n",
      ".................................................\n",
      ".................................................\n",
      ".....##..###..####.#..#.###..#..#.###..###.......\n",
      "....#..#.#..#.#....#.#..#..#.#.#..#..#.#..#......\n",
      "....#..#.#..#.###..##...#..#.##...###..#..#......\n",
      "....####.###..#....#.#..###..#.#..#..#.###.......\n",
      "....#..#.#....#....#.#..#.#..#.#..#..#.#.#..>....\n",
      "....#..#.#....#....#..#.#..#.#..#.###..#..#......\n",
      ".................................................\n",
      ".................................................\n",
      ".................................................\n",
      "\n"
     ]
    }
   ],
   "source": [
    "hubbot2 = HullPaintingRobot(day11)\n",
    "hubbot2.panels = {(0,0):_white_}    # start on a white panel\n",
    "hubbot2.run()\n",
    "print(hubbot2.hull())"
   ]
  },
  {
   "cell_type": "markdown",
   "metadata": {},
   "source": [
    "Day 11 Part 2 is APFKRKBR ."
   ]
  },
  {
   "cell_type": "markdown",
   "metadata": {},
   "source": [
    "---\n",
    "## [Day 12](http://adventofcode.com/2019/day/12) : The N-Body Problem"
   ]
  },
  {
   "cell_type": "code",
   "execution_count": 144,
   "metadata": {},
   "outputs": [
    {
     "name": "stdout",
     "output_type": "stream",
     "text": [
      "The day12_raw input is\n",
      "'<x=12, y=0, z=-15>\\n<x=-8, y=-5, z=-10>\\n<x=7, y=-17, z=1>\\n<x=2, y=-11, z=-6>\\n'\n"
     ]
    },
    {
     "data": {
      "text/plain": [
       "[(12, 0, -15), (-8, -5, -10), (7, -17, 1), (2, -11, -6)]"
      ]
     },
     "execution_count": 144,
     "metadata": {},
     "output_type": "execute_result"
    }
   ],
   "source": [
    "day12_raw = puzzle_input(12).read()\n",
    "print(\"The day12_raw input is\") \n",
    "print(repr(day12_raw))\n",
    "\n",
    "def parse_day12(string):\n",
    "    result = []\n",
    "    lines = string.strip().split('\\n') # ['<x=.., y=..>', '', '']\n",
    "    for line in lines:      # '<x=.., y=..', z=..>'\n",
    "        for char in ('<', '>', 'x', 'y', ' ', 'z', '='):\n",
    "            line = line.replace(char, '')     # '..,..,..'\n",
    "        (x,y,z) = (int(digits) for digits in line.split(','))\n",
    "        result.append((x,y,z))\n",
    "    return result\n",
    "\n",
    "parse_day12(day12_raw)"
   ]
  },
  {
   "cell_type": "markdown",
   "metadata": {},
   "source": [
    "### Day 12 Part 1"
   ]
  },
  {
   "cell_type": "code",
   "execution_count": 145,
   "metadata": {},
   "outputs": [],
   "source": [
    "def cmp(a,b): return (a>b)-(a<b)\n",
    "# Mentioned at docs.python.org/3.0/whatsnew/3.0.html \n",
    "# as a replacement for Python 2's cmp().\n",
    "assert cmp(5,3) == 1   # one if first is bigger\n",
    "assert cmp(4,4) == 0\n",
    "assert cmp(3,5) == -1  # negative one if second is bigger\n",
    "\n",
    "class Moon:\n",
    "    def __init__(self, r, v=(0,0,0)):\n",
    "        self.r = list(r)\n",
    "        self.v = list(v)\n",
    "    def __repr__(self):\n",
    "        return f\"Moon(({self.r[0]},{self.r[1]},{self.r[2]}), ({self.v[0]},{self.v[1]},{self.v[2]}))\"\n",
    "    def accelerate(self, other):\n",
    "        for i in range(3):\n",
    "            self.v[i] += cmp(other.r[i], self.r[i])\n",
    "    def move(self):\n",
    "        for i in range(3):\n",
    "            self.r[i] += self.v[i]\n",
    "    def energy(self):\n",
    "        potential = sum(mapt(abs, self.r))\n",
    "        kinetic = sum(mapt(abs, self.v))\n",
    "        return potential * kinetic\n",
    "        \n",
    "def make_moons(raw_string):\n",
    "    four_triples = parse_day12(raw_string)\n",
    "    return tuple(Moon(r) for r in four_triples)\n",
    "\n",
    "def step(moons):\n",
    "    n = len(moons)\n",
    "    for i in range(n):\n",
    "        for j in range(n):\n",
    "            if i != j:\n",
    "                moons[i].accelerate(moons[j])\n",
    "    for i in range(n):\n",
    "        moons[i].move()\n",
    "\n",
    "def total_energy(moons):\n",
    "    return sum((m.energy() for m in moons))"
   ]
  },
  {
   "cell_type": "code",
   "execution_count": 146,
   "metadata": {},
   "outputs": [
    {
     "name": "stdout",
     "output_type": "stream",
     "text": [
      "after 0 steps energy = 0.\n",
      "(Moon((-1,0,2), (0,0,0)), Moon((2,-10,-7), (0,0,0)), Moon((4,-8,8), (0,0,0)), Moon((3,5,-1), (0,0,0)))\n",
      "\n",
      "after 10 steps energy = 179.\n",
      "(Moon((2,1,-3), (-3,-2,1)), Moon((1,-8,0), (-1,1,3)), Moon((3,-6,1), (3,2,-3)), Moon((2,0,4), (1,-1,-1)))\n"
     ]
    }
   ],
   "source": [
    "example12_raw = \"\"\"\n",
    "<x=-1, y=0, z=2>\n",
    "<x=2, y=-10, z=-7>\n",
    "<x=4, y=-8, z=8>\n",
    "<x=3, y=5, z=-1>\n",
    "\"\"\"\n",
    "example12 = make_moons(example12_raw)\n",
    "print(f\"after 0 steps energy = {total_energy(example12)}.\")\n",
    "print(example12)\n",
    "print()\n",
    "\n",
    "for tick in range(10):\n",
    "    step(example12)\n",
    "print(f\"after 10 steps energy = {total_energy(example12)}.\")\n",
    "print(example12)\n"
   ]
  },
  {
   "cell_type": "code",
   "execution_count": 147,
   "metadata": {},
   "outputs": [
    {
     "name": "stdout",
     "output_type": "stream",
     "text": [
      "Day 12 Part 1 is 7636.\n"
     ]
    }
   ],
   "source": [
    "day12 = make_moons(day12_raw)\n",
    "for tick in range(1000):\n",
    "    step(day12)\n",
    "print(f\"Day 12 Part 1 is {total_energy(day12)}.\")"
   ]
  },
  {
   "cell_type": "markdown",
   "metadata": {},
   "source": [
    "### Day 12 Part 2"
   ]
  },
  {
   "cell_type": "code",
   "execution_count": 148,
   "metadata": {},
   "outputs": [
    {
     "data": {
      "text/plain": [
       "2772"
      ]
     },
     "execution_count": 148,
     "metadata": {},
     "output_type": "execute_result"
    }
   ],
   "source": [
    "def signature(moons):\n",
    "    return str(moons)\n",
    "\n",
    "example12 = make_moons(example12_raw)\n",
    "start_sig = signature(example12)\n",
    "ticks = 0\n",
    "while True:\n",
    "    ticks += 1\n",
    "    step(example12)\n",
    "    if signature(example12) == start_sig:\n",
    "        break\n",
    "ticks\n",
    "\n",
    "# for the small example, this works fine :"
   ]
  },
  {
   "cell_type": "code",
   "execution_count": 149,
   "metadata": {},
   "outputs": [],
   "source": [
    "\n",
    "if False:\n",
    "    # Naive approach for full problem ... too slow.\n",
    "    day12 = make_moons(day12_raw)\n",
    "    start_sig_12 = signature(day12)\n",
    "    ticks = 0\n",
    "    while True:\n",
    "        ticks += 1\n",
    "        step(day12)\n",
    "        if signature(day12) == start_sig_12:\n",
    "            break\n",
    "            \n",
    "    print(ticks)\n",
    "# First idea : to repeat it does need to cycle back to the beginning\n",
    "# since the process is deterministic and reversible.\n",
    "# That I got on my own.\n",
    "\n",
    "# But to speed the whole thing way faster felt like numbe theory\n",
    "# ... I looked at some of the published solutions.\n",
    "#\n",
    "# The idea is that each of the (x,y,z) dimensions are independent.\n",
    "# Therefore (a) Find period(x), period(y), period(z) separately.\n",
    "# Then find least common multiple of those three numbers.\n",
    "# \n",
    "# I probably could have figured that out on my own ... probably. ;)\n"
   ]
  },
  {
   "cell_type": "code",
   "execution_count": 150,
   "metadata": {},
   "outputs": [
    {
     "name": "stdout",
     "output_type": "stream",
     "text": [
      "The periods in the three directions are (161428, 193052, 144624).\n",
      "Elapsed seconds is 2.03 sec.\n",
      "\n",
      "Day 11 Part 2 is their least common multiple 281691380235984.\n"
     ]
    }
   ],
   "source": [
    "start_time = time()\n",
    "\n",
    "class OneDim:\n",
    "    def __init__(self, moons, axis):\n",
    "        self.rs = [m.r[axis] for m in moons]\n",
    "        self.vs = [m.v[axis] for m in moons]\n",
    "        self.n = len(self.rs)\n",
    "    def gravity(self):\n",
    "        for i in range(self.n):\n",
    "            for j in range(i):\n",
    "                compare = cmp(self.rs[j], self.rs[i])\n",
    "                self.vs[i] += compare\n",
    "                self.vs[j] -= compare\n",
    "    def move(self):\n",
    "        for i in range(self.n):\n",
    "            self.rs[i] += self.vs[i]\n",
    "    def period(self):\n",
    "        start_rs = self.rs[:]\n",
    "        start_vs = self.vs[:]\n",
    "        t = 0\n",
    "        while True:\n",
    "            t += 1\n",
    "            self.gravity()\n",
    "            self.move()\n",
    "            if self.rs == start_rs and self.vs == start_vs:\n",
    "                break\n",
    "        return t\n",
    "\n",
    "# Three dimensions one at a time.\n",
    "(a, b, c) = (OneDim(make_moons(day12_raw), i) for i in range(3))\n",
    "# Find the period for each\n",
    "(ap, bp, cp) = (a.period(), b.period(), c.period())\n",
    "answer_12_2 = lcm(ap, lcm(bp, cp))\n",
    "\n",
    "print(f\"The periods in the three directions are {(ap, bp, cp)}.\")\n",
    "print(f\"Elapsed seconds is {time() - start_time:.3} sec.\")\n",
    "print()\n",
    "print(f\"Day 11 Part 2 is their least common multiple {answer_12_2}.\")\n"
   ]
  },
  {
   "cell_type": "markdown",
   "metadata": {},
   "source": [
    "---\n",
    "## [Day 13](http://adventofcode.com/2019/day/13) : Care Package"
   ]
  },
  {
   "cell_type": "code",
   "execution_count": 160,
   "metadata": {},
   "outputs": [
    {
     "name": "stdout",
     "output_type": "stream",
     "text": [
      "The day 13 input starts with '1,380,379,385,1008,' and has \n",
      "size 2236, min -8, max 224642, start [1, 380, 379, 385], end [92, 77, 18, 224642].\n"
     ]
    }
   ],
   "source": [
    "# Yet another IntcodeMachine problem; see Day 2 & 5, 7, 9, 11.\n",
    "\n",
    "def get_intcode(day):\n",
    "    # Should have done this earlier ....\n",
    "    raw = puzzle_input(day).readline().strip()\n",
    "    code = parse_intcode(raw)\n",
    "    print(f\"The day 13 input starts with '{raw[:19]}' and has \")\n",
    "    print(f\"size {len(code)}, min {min(code)}, max {max(code)}, \" \n",
    "          f\"start {code[:4]}, end {code[-4:]}.\")\n",
    "    return code\n",
    "\n",
    "day13 = get_intcode(13)"
   ]
  },
  {
   "cell_type": "markdown",
   "metadata": {},
   "source": [
    "### Day 13 Part 1"
   ]
  },
  {
   "cell_type": "code",
   "execution_count": 257,
   "metadata": {},
   "outputs": [
    {
     "name": "stdout",
     "output_type": "stream",
     "text": [
      "######################################\n",
      "#                                    #\n",
      "# . .     .. . .. ..  . . ..... . .  #\n",
      "# ..  .  .. .. .. .   .... .... .  . #\n",
      "#  .... .. .. ..  .. ...... .. .  .  #\n",
      "#   ..........   ..  .. .... .. .. . #\n",
      "#  ..  ..   ... . . ...   .  .  . .  #\n",
      "# .  ..   . .. .  . .... .....    .  #\n",
      "#  .   .    ....  .   .. .  ..  .. . #\n",
      "# . .    .    .. ...  ..  ..         #\n",
      "#  . ..   . .. . ... .   ..  . . ..  #\n",
      "# ...   ..   . .. ..... . ... ..   . #\n",
      "# ..  .  . . . .     . .. ..   .     #\n",
      "# ... ..   .. .. ..  .   ....  ....  #\n",
      "#   .   .. ..  . .. .  . .    .  ..  #\n",
      "#                                    #\n",
      "#                o                   #\n",
      "#                                    #\n",
      "#                                    #\n",
      "#                  =                 #\n",
      "#                                    #\n",
      "00000000001111111111222222222233333333\n",
      "01234567890123456789012345678901234567\n",
      "score=0  ball=(17, 16)  paddle=(19, 19)\n",
      "\n",
      "Day 13 Part 1 is 228.\n"
     ]
    }
   ],
   "source": [
    "symbols = {0: ' ',  # empty\n",
    "           1: '#',  # wall\n",
    "           2: '.',  # block\n",
    "           3: '=',  # paddle\n",
    "           4: 'o'   # ball\n",
    "          }\n",
    "(EMPTY, WALL, BLOCK, PADDLE, BALL) = (0, 1, 2, 3, 4)\n",
    "(JOY_RIGHT, JOY_LEFT, JOY_CENTER) = (1, -1, 0)\n",
    "XY_SCORE = (-1,0)\n",
    "\n",
    "class Arcade:\n",
    "    # matrix coords : \n",
    "    #     y is column, 0 at top, increasing down\n",
    "    #     x is row, 0 at left, increases right\n",
    "    #     So (x,y) = (0,0) is top left.\n",
    "    def __init__(self, code, quarters=False):\n",
    "        self.code = code\n",
    "        if quarters: self.code[0] = 2\n",
    "        self.machine = IntcodeMachine(code)\n",
    "        self.tiles = {}\n",
    "        self.border = 1\n",
    "        self.ball = None    # (x,y) position of ball\n",
    "        self.paddle = None  # (x,y) position of paddle\n",
    "        self.score = 0\n",
    "        self.v_ball = None\n",
    "        self.last_count = inf\n",
    "        self.scores = []\n",
    "    def run(self, joystick=None, verbose=False, updates=False, auto=False):\n",
    "        max_steps = 10000\n",
    "        steps = 0\n",
    "        while True:\n",
    "            if updates:\n",
    "                this_count = self.count()\n",
    "                if this_count != self.last_count:\n",
    "                    print(f\"{steps} blocks={this_count} score={self.score}\")\n",
    "                    self.scores.append((this_count, self.score))\n",
    "                self.last_count = this_count\n",
    "            steps += 1\n",
    "            if steps > max_steps:\n",
    "                print(f\"Hit max steps {max_steps}.\")\n",
    "                return            \n",
    "            # joystick = -1, 0, 1 position of joystick\n",
    "            if joystick != None:\n",
    "                new_outputs = self.machine.run([joystick])\n",
    "            else:\n",
    "                new_outputs = self.machine.run()\n",
    "            i = 0\n",
    "            while i < len(new_outputs):\n",
    "                (x,y,tile) = new_outputs[i:i+3]\n",
    "                self.tiles[(x,y)] = tile\n",
    "                if tile == BALL:\n",
    "                    if self.ball:\n",
    "                        self.v_ball = x - self.ball[0] # (this_x - last_x); +1 => righward\n",
    "                    self.ball = (x,y)\n",
    "                    if verbose: \n",
    "                        print(f\"ball at {self.ball}   blocks={self.count()} score={self.score}\")\n",
    "                if tile == PADDLE:\n",
    "                    self.paddle = (x,y)\n",
    "                    if verbose: \n",
    "                        print(f\"paddle at {self.paddle}  blocks={self.count()} score={self.score}\")\n",
    "                if (x,y) == XY_SCORE:\n",
    "                    self.score = tile\n",
    "                i += 3\n",
    "            if self.machine.is_halted():\n",
    "                if updates:\n",
    "                    print(f\"Halted with blocks={self.count()} score={self.score}.\")\n",
    "                return\n",
    "            if auto:\n",
    "                # Try to keep the paddle directly under the ball,\n",
    "                # by moving joystick in the same direction ball is moving\n",
    "                # if the ball isn't moving towards the paddle.\n",
    "                # --- try 1 --\n",
    "                #if self.paddle and self.ball and self.v_ball:\n",
    "                #    if X(self.ball) >= X(self.paddle) and self.v_ball == 1:\n",
    "                #        joystick = 1\n",
    "                #    elif X(self.ball) <= X(self.paddle) and self.v_ball == -1:\n",
    "                #        joystick = -1\n",
    "                #    else:\n",
    "                #        joystick = 0\n",
    "                joystick = self.v_ball\n",
    "            else:\n",
    "                return\n",
    "    def symbol(self, xy):\n",
    "        return symbols[self.tiles[xy]] if xy in self.tiles else symbols[0]\n",
    "    def _edge(self, index, minmax):\n",
    "        \"\"\" return distance from center to one of the panel edges \"\"\"\n",
    "        extra = -self.border if minmax == min else self.border\n",
    "        return extra + (0 if not self.tiles else minmax(p[index] for p in self.tiles))\n",
    "    def count(self, what=BLOCK):\n",
    "        count = 0\n",
    "        for xy in self.tiles:\n",
    "            if self.tiles[xy] == what:\n",
    "                count += 1\n",
    "        return count\n",
    "    def left_edge(self): return self._edge(0, min)\n",
    "    def right_edge(self): return self._edge(0, max)\n",
    "    def bottom_edge(self): return self._edge(1, max)\n",
    "    def top_edge(self): return self._edge(1, min)\n",
    "    def screen(self):\n",
    "        \"\"\" return printable string of tiles on a grid \"\"\"\n",
    "        result = ''\n",
    "        for y in range(self.bottom_edge()):\n",
    "            for x in range(self.right_edge()):\n",
    "                if (x,y) != XY_SCORE:\n",
    "                    result += self.symbol((x,y))\n",
    "            result +='\\n'\n",
    "        for x in range(self.right_edge()):\n",
    "            result += f\"{x:02}\"[-2]\n",
    "        result += '\\n'\n",
    "        for x in range(self.right_edge()):\n",
    "            result += str(x)[-1]\n",
    "        result += '\\n'\n",
    "        result += f\"score={self.score}  ball={self.ball}  paddle={self.paddle}\\n\"\n",
    "        return result\n",
    "        \n",
    "arcade = Arcade(day13)\n",
    "arcade.run()\n",
    "print(arcade.screen())\n",
    "print(f\"Day 13 Part 1 is {arcade.count(BLOCK)}.\")"
   ]
  },
  {
   "cell_type": "markdown",
   "metadata": {},
   "source": [
    "### Day 13 Part 2"
   ]
  },
  {
   "cell_type": "code",
   "execution_count": 258,
   "metadata": {},
   "outputs": [
    {
     "name": "stdout",
     "output_type": "stream",
     "text": [
      "ball at (17, 16)   blocks=228 score=0\n",
      "paddle at (19, 19)  blocks=228 score=0\n",
      "paddle at (20, 19)  blocks=228 score=0\n",
      "ball at (18, 17)   blocks=228 score=0\n",
      "ball at (19, 18)   blocks=228 score=0\n",
      "ball at (18, 17)   blocks=228 score=0\n",
      "ball at (17, 16)   blocks=228 score=0\n",
      "ball at (16, 15)   blocks=228 score=0\n",
      "ball at (17, 16)   blocks=227 score=85\n",
      "ball at (18, 17)   blocks=227 score=85\n",
      "ball at (19, 18)   blocks=227 score=85\n",
      "ball at (18, 17)   blocks=227 score=85\n",
      "ball at (17, 16)   blocks=227 score=85\n",
      "ball at (16, 15)   blocks=227 score=85\n",
      "ball at (15, 14)   blocks=227 score=85\n",
      "ball at (14, 15)   blocks=226 score=127\n",
      "ball at (13, 16)   blocks=226 score=127\n",
      "ball at (12, 17)   blocks=226 score=127\n",
      "ball at (11, 18)   blocks=226 score=127\n",
      "ball at (10, 19)   blocks=226 score=127\n",
      "ball at (9, 20)   blocks=226 score=127\n",
      "  halted is True\n"
     ]
    }
   ],
   "source": [
    "# Time to play the game.\n",
    "\n",
    "bcade = Arcade(day13, quarters=True)\n",
    "bcade.machine.inputs.extend([1] + [0]*20)  # Some trial & error joystick movements, just thinking\n",
    "bcade.run(verbose=True)                    # Run until inputs exhausted or missed ball.\n",
    "print(\"  halted is\", bcade.machine.is_halted())\n",
    "\n",
    "# Putting the paddle at x=20 manages to keep the ball in play twice.\n",
    "# Looks like the ball is moving at 45deg angle, and paddle moves at same speed."
   ]
  },
  {
   "cell_type": "code",
   "execution_count": 259,
   "metadata": {},
   "outputs": [
    {
     "name": "stdout",
     "output_type": "stream",
     "text": [
      "0 blocks=0 score=0\n",
      "1 blocks=228 score=0\n",
      "3 blocks=227 score=21\n",
      "9 blocks=226 score=106\n",
      "17 blocks=224 score=230\n",
      "26 blocks=223 score=272\n",
      "33 blocks=222 score=311\n",
      "40 blocks=221 score=325\n",
      "47 blocks=220 score=340\n",
      "55 blocks=218 score=463\n",
      "65 blocks=215 score=630\n",
      "66 blocks=214 score=672\n",
      "67 blocks=213 score=761\n",
      "75 blocks=212 score=802\n",
      "84 blocks=209 score=937\n",
      "86 blocks=207 score=1063\n",
      "90 blocks=206 score=1130\n",
      "97 blocks=205 score=1174\n",
      "103 blocks=204 score=1244\n",
      "109 blocks=203 score=1289\n",
      "116 blocks=202 score=1344\n",
      "127 blocks=201 score=1348\n",
      "128 blocks=200 score=1430\n",
      "132 blocks=199 score=1498\n",
      "150 blocks=198 score=1515\n",
      "153 blocks=196 score=1592\n",
      "154 blocks=195 score=1593\n",
      "156 blocks=194 score=1657\n",
      "176 blocks=193 score=1727\n",
      "197 blocks=191 score=1819\n",
      "219 blocks=190 score=1886\n",
      "242 blocks=188 score=1953\n",
      "267 blocks=187 score=1956\n",
      "268 blocks=185 score=2011\n",
      "270 blocks=183 score=2051\n",
      "274 blocks=181 score=2189\n",
      "278 blocks=180 score=2216\n",
      "282 blocks=179 score=2308\n",
      "287 blocks=178 score=2394\n",
      "293 blocks=176 score=2487\n",
      "300 blocks=175 score=2494\n",
      "301 blocks=174 score=2551\n",
      "302 blocks=173 score=2575\n",
      "305 blocks=172 score=2607\n",
      "306 blocks=171 score=2671\n",
      "307 blocks=170 score=2676\n",
      "309 blocks=169 score=2714\n",
      "311 blocks=168 score=2730\n",
      "313 blocks=166 score=2909\n",
      "314 blocks=165 score=2960\n",
      "315 blocks=164 score=2976\n",
      "316 blocks=163 score=3013\n",
      "318 blocks=162 score=3046\n",
      "321 blocks=161 score=3062\n",
      "325 blocks=160 score=3157\n",
      "331 blocks=159 score=3219\n",
      "338 blocks=158 score=3278\n",
      "345 blocks=157 score=3339\n",
      "355 blocks=156 score=3411\n",
      "366 blocks=154 score=3438\n",
      "370 blocks=152 score=3492\n",
      "372 blocks=150 score=3573\n",
      "375 blocks=149 score=3612\n",
      "386 blocks=148 score=3617\n",
      "397 blocks=147 score=3628\n",
      "409 blocks=146 score=3640\n",
      "422 blocks=145 score=3666\n",
      "435 blocks=144 score=3725\n",
      "449 blocks=141 score=3895\n",
      "460 blocks=140 score=3947\n",
      "485 blocks=139 score=4032\n",
      "512 blocks=137 score=4089\n",
      "513 blocks=136 score=4181\n",
      "549 blocks=135 score=4237\n",
      "588 blocks=133 score=4317\n",
      "628 blocks=132 score=4371\n",
      "669 blocks=129 score=4497\n",
      "670 blocks=127 score=4637\n",
      "672 blocks=125 score=4724\n",
      "674 blocks=124 score=4796\n",
      "676 blocks=123 score=4841\n",
      "679 blocks=121 score=4972\n",
      "686 blocks=120 score=5035\n",
      "694 blocks=119 score=5054\n",
      "696 blocks=118 score=5148\n",
      "697 blocks=117 score=5241\n",
      "701 blocks=116 score=5289\n",
      "706 blocks=114 score=5425\n",
      "712 blocks=113 score=5490\n",
      "714 blocks=112 score=5558\n",
      "716 blocks=111 score=5636\n",
      "719 blocks=109 score=5694\n",
      "760 blocks=108 score=5740\n",
      "801 blocks=107 score=5801\n",
      "844 blocks=106 score=5812\n",
      "888 blocks=105 score=5875\n",
      "889 blocks=104 score=5957\n",
      "935 blocks=103 score=6002\n",
      "982 blocks=102 score=6038\n",
      "1031 blocks=100 score=6058\n",
      "1082 blocks=99 score=6076\n",
      "1083 blocks=97 score=6234\n",
      "1084 blocks=96 score=6297\n",
      "1085 blocks=95 score=6304\n",
      "1086 blocks=94 score=6321\n",
      "1088 blocks=93 score=6368\n",
      "1091 blocks=92 score=6450\n",
      "1092 blocks=90 score=6525\n",
      "1093 blocks=89 score=6543\n",
      "1094 blocks=88 score=6595\n",
      "1097 blocks=87 score=6688\n",
      "1112 blocks=86 score=6729\n",
      "1128 blocks=85 score=6782\n",
      "1129 blocks=83 score=6905\n",
      "1131 blocks=82 score=6971\n",
      "1134 blocks=81 score=7059\n",
      "1135 blocks=80 score=7060\n",
      "1137 blocks=79 score=7097\n",
      "1140 blocks=76 score=7314\n",
      "1144 blocks=75 score=7367\n",
      "1149 blocks=74 score=7447\n",
      "1150 blocks=73 score=7473\n",
      "1157 blocks=72 score=7474\n",
      "1164 blocks=71 score=7525\n",
      "1171 blocks=70 score=7599\n",
      "1178 blocks=69 score=7694\n",
      "1186 blocks=68 score=7756\n",
      "1202 blocks=66 score=7858\n",
      "1234 blocks=64 score=7956\n",
      "1267 blocks=62 score=7989\n",
      "1300 blocks=61 score=7997\n",
      "1334 blocks=60 score=8040\n",
      "1369 blocks=58 score=8053\n",
      "1370 blocks=56 score=8168\n",
      "1371 blocks=55 score=8239\n",
      "1373 blocks=54 score=8303\n",
      "1378 blocks=53 score=8315\n",
      "1383 blocks=52 score=8369\n",
      "1392 blocks=51 score=8464\n",
      "1407 blocks=48 score=8539\n",
      "1438 blocks=47 score=8583\n",
      "1490 blocks=46 score=8646\n",
      "1546 blocks=45 score=8734\n",
      "1556 blocks=44 score=8799\n",
      "1566 blocks=43 score=8808\n",
      "1577 blocks=42 score=8843\n",
      "1594 blocks=40 score=8946\n",
      "1595 blocks=39 score=8994\n",
      "1597 blocks=37 score=9008\n",
      "1603 blocks=36 score=9085\n",
      "1611 blocks=35 score=9088\n",
      "1647 blocks=34 score=9112\n",
      "1684 blocks=33 score=9194\n",
      "1686 blocks=32 score=9269\n",
      "1748 blocks=31 score=9291\n",
      "1812 blocks=30 score=9355\n",
      "1890 blocks=29 score=9442\n",
      "2045 blocks=28 score=9531\n",
      "2202 blocks=27 score=9547\n",
      "2371 blocks=26 score=9561\n",
      "2552 blocks=25 score=9649\n",
      "2564 blocks=24 score=9723\n",
      "2587 blocks=23 score=9725\n",
      "2612 blocks=22 score=9795\n",
      "2638 blocks=20 score=9884\n",
      "2682 blocks=19 score=9949\n",
      "2726 blocks=18 score=9967\n",
      "2771 blocks=17 score=10007\n",
      "2772 blocks=16 score=10067\n",
      "2780 blocks=15 score=10111\n",
      "2791 blocks=14 score=10142\n",
      "2809 blocks=13 score=10206\n",
      "2821 blocks=12 score=10276\n",
      "2836 blocks=11 score=10313\n",
      "2899 blocks=10 score=10320\n",
      "2922 blocks=9 score=10353\n",
      "2945 blocks=8 score=10444\n",
      "2970 blocks=7 score=10500\n",
      "3039 blocks=6 score=10540\n",
      "3136 blocks=5 score=10549\n",
      "3260 blocks=4 score=10574\n",
      "3399 blocks=3 score=10652\n",
      "3617 blocks=2 score=10660\n",
      "3842 blocks=1 score=10678\n",
      "Halted with blocks=0 score=10776.\n",
      "\n",
      "Day 13 Part 2 is 10776.\n"
     ]
    }
   ],
   "source": [
    "# Ended up with a very simple automatic algorithm: \n",
    "# Just set the paddle joystick to the ball velocity, +1 or -1.\n",
    "# This works after the ball is in the correct initial alignment,\n",
    "# which I just did with some trial and error ... that's the [0,0,0,1] initial joystick nudges.\n",
    "\n",
    "c_cade = Arcade(day13, quarters=True)\n",
    "c_cade.machine.inputs.extend([0,0,0,1])   # Get paddle started off OK.\n",
    "\n",
    "# -- Run until inputs exhausted or missed ball.\n",
    "# auto => Try to adjust position of paddle automatically.\n",
    "#\n",
    "#c_cade.run(verbose=True, auto=True)      # Print all paddle & ball changes, for initial analysis.\n",
    "#c_cade.run(auto=True)                     # Run quietly.\n",
    "\n",
    "c_cade.run(updates=True, auto=True)       # Print score changes after each block destroyed.\n",
    "\n",
    "print(f\"\\nDay 13 Part 2 is {c_cade.score}.\")"
   ]
  },
  {
   "cell_type": "code",
   "execution_count": 302,
   "metadata": {},
   "outputs": [
    {
     "data": {
      "image/png": "[encoded data removed]",
      "text/plain": [
       "<Figure size 660x440 with 1 Axes>"
      ]
     },
     "metadata": {},
     "output_type": "display_data"
    }
   ],
   "source": [
    "# I'm curious as to whether the scoring formula could be deduced\n",
    "# ... but apparently not.\n",
    "\n",
    "# (blocks destroyed, score)\n",
    "c_cade.scores.append([0, 10776])\n",
    "bs = np.array(c_cade.scores[1:])\n",
    "destroyed = bs[0,0] - bs[:,0] # ;print(destroyed)\n",
    "scores = bs[:,1] # ; print(scores)\n",
    "\n",
    "plt.figure(dpi=220, figsize=(3, 2))\n",
    "plt.xlabel('blocks destroyed')\n",
    "plt.ylabel('score')\n",
    "plt.style.use('dark_background')\n",
    "plt.plot(destroyed, scores)\n",
    "plt.show()"
   ]
  },
  {
   "cell_type": "markdown",
   "metadata": {},
   "source": [
    "I may implement a python terminal curses version of this arcade game, just to see it in action. With or without user keyboard input."
   ]
  },
  {
   "cell_type": "markdown",
   "metadata": {},
   "source": [
    "---\n",
    "## [Day 14](http://adventofcode.com/2019/day/14) : Space Stoichiometry"
   ]
  },
  {
   "cell_type": "code",
   "execution_count": null,
   "metadata": {},
   "outputs": [],
   "source": []
  },
  {
   "cell_type": "code",
   "execution_count": null,
   "metadata": {},
   "outputs": [],
   "source": []
  },
  {
   "cell_type": "code",
   "execution_count": null,
   "metadata": {},
   "outputs": [],
   "source": []
  },
  {
   "cell_type": "code",
   "execution_count": null,
   "metadata": {},
   "outputs": [],
   "source": []
  }
 ],
 "metadata": {
  "kernelspec": {
   "display_name": "Python 3",
   "language": "python",
   "name": "python3"
  },
  "language_info": {
   "codemirror_mode": {
    "name": "ipython",
    "version": 3
   },
   "file_extension": ".py",
   "mimetype": "text/x-python",
   "name": "python",
   "nbconvert_exporter": "python",
   "pygments_lexer": "ipython3",
   "version": "3.8.4"
  }
 },
 "nbformat": 4,
 "nbformat_minor": 2
}
