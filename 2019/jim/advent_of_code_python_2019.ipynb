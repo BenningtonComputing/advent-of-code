{
 "cells": [
  {
   "cell_type": "markdown",
   "metadata": {},
   "source": [
    "# [Advent of Code 2019](http://adventofcode.com/2019)\n",
    "\n",
    "\n",
    "Jim Mahoney | jimmahoney@bennington.edu | cs.bennington.college"
   ]
  },
  {
   "cell_type": "markdown",
   "metadata": {},
   "source": [
    "## Preparations"
   ]
  },
  {
   "cell_type": "code",
   "execution_count": 1,
   "metadata": {},
   "outputs": [],
   "source": [
    "# Some of these are from Peter Norvig's \n",
    "# github.com/norvig/pytudes/blob/master/ipynb/Advent%202017.ipynb\n",
    "\n",
    "import numpy as np\n",
    "from numpy import sin, cos, sqrt, pi\n",
    "import matplotlib.pyplot as plt\n",
    "import matplotlib.image as mpimg\n",
    "from statistics import mean, median, stdev\n",
    "from IPython.core.display import HTML\n",
    "import subprocess\n",
    "\n",
    "# Download puzzle input files into e.g. puzzle_input/1.txt .\n",
    "def puzzle_input(daynumber):\n",
    "    \"\"\" return the open file for given day \"\"\"\n",
    "    filename = f\"puzzle_inputs/{daynumber}.txt\"\n",
    "    try:\n",
    "        return open(filename)\n",
    "    except FileNotFoundError:\n",
    "        print(f\"Oops - couldn't find '{filename}'\")\n",
    "\n",
    "# -- 2D points with vector operations  --\n",
    "\n",
    "#    Using tuples rather than numpy arrays or complex numbers\n",
    "#    keeps integers as integers so grids work without roundoff errors.\n",
    "def point(x, y): return (x, y)\n",
    "def X(p): return p[0]\n",
    "def Y(p): return p[1]\n",
    "def dot(p1, p2): return X(p1)*X(p2) + Y(p1)*Y(p2)\n",
    "def length(p):return sqrt(dot(p, p))\n",
    "def manhattan(p): return abs(X(p)) + abs(Y(p))\n",
    "def add(p1, p2): return point(X(p1) + X(p2), Y(p1) + Y(p2))\n",
    "def scale(s, p): return point(s * X(p), s * Y(p))\n",
    "#    examples :\n",
    "assert X(point(3,4))==3 and Y(point(3,4))==4\n",
    "assert add(point(1,2), point(3,4)) == point(4,6)\n",
    "assert dot(point(1,2), point(10,11)) == 32\n",
    "assert scale(2, point(3,4)) == point(6,8)\n",
    "assert length(point(3,4)) == 5\n",
    "assert manhattan(point(3,-5)) == 8\n",
    "\n",
    "# -- functional utilities\n",
    "\n",
    "def allsame(xs): return len(set(xs))==1\n",
    "def allunique(xs): return len(set(xs))==len(xs)\n",
    "def length(xs): return len(tuple(xs)) # works on filter,map,...\n",
    "identity = lambda x:x\n",
    "def first(xs, default=None): \n",
    "    try:\n",
    "        return (tuple(xs))[0]\n",
    "    except:\n",
    "        return default\n",
    "def nth(xs, n, default=None): \n",
    "    try:\n",
    "        return (tuple(xs))[n]\n",
    "    except:\n",
    "        return default\n",
    "def mapt(f, xs): return tuple(map(f, xs)) # tuple(map())\n",
    "def pairwise(xs): return tuple(zip((tuple(xs))[:-1], (tuple(xs))[1:])) # ((x0,x1), (x1,x2), ...)\n",
    "# -- tests --\n",
    "assert first((1,2))==1\n",
    "assert nth((1,2), 1)==2\n",
    "assert allsame((1,1,1))==True\n",
    "assert allsame((1,1,2))==False\n",
    "assert allunique((1,2,3))==True\n",
    "assert allunique((1,1,2))==False\n",
    "assert mapt(lambda x:2*x, (1,2,3)) == (2,4,6)\n",
    "assert length(filter( lambda x: x<10, range(20))) == 10\n",
    "assert pairwise(range(4)) == ((0,1), (1,2), (2,3))\n",
    "\n",
    "# -- constants --\n",
    "\n",
    "inf = float('inf')\n",
    "assert inf > 1e99\n",
    "\n",
    "def show_png(filename, dpi=200, invert=True, background=0.15):\n",
    "    \"\"\" show a png image \"\"\"\n",
    "    # Using matplot puts it into the notebook\n",
    "    # and in the \"download as html\" single-file \n",
    "    # This also works to display the image in the browser,\n",
    "    # but does not put it into the saved notebook html file.\n",
    "    #display(HTML(\"<img style='filter:invert(80%);' src='file.png'>\"))    \n",
    "    png = mpimg.imread(filename)\n",
    "    height, width = png.shape[0:2]\n",
    "    dpi=200\n",
    "    plt.figure(dpi=dpi, figsize=(width/dpi, height/dpi))\n",
    "    if invert:\n",
    "        png = background + (1.0-background)*(1.0 - png[:,:,:3])\n",
    "    plt.imshow(png)\n",
    "    plt.axis('off')\n",
    "    plt.show()\n"
   ]
  },
  {
   "cell_type": "markdown",
   "metadata": {},
   "source": [
    "---\n",
    "## [Day 1](http://adventofcode.com/2019/day/1) : The Tyranny of the Rocket Equation"
   ]
  },
  {
   "cell_type": "code",
   "execution_count": 2,
   "metadata": {},
   "outputs": [
    {
     "name": "stdout",
     "output_type": "stream",
     "text": [
      "The first few raw lines are : ['85824\\n', '112173\\n', '142065\\n']\n",
      "The number of entries is 100.\n",
      "The first 3 are [85824, 112173, 142065].\n"
     ]
    }
   ],
   "source": [
    "# --- input ---\n",
    "# 85824\n",
    "# 112173\n",
    "# ...\n",
    "\n",
    "day1_raw_lines = puzzle_input(1).readlines()\n",
    "print(f\"The first few raw lines are : {day1_raw_lines[:3]}\")\n",
    "day1 = [int(line.strip()) for line in day1_raw_lines]\n",
    "print(f\"The number of entries is {len(day1)}.\")\n",
    "print(f\"The first 3 are {day1[:3]}.\")"
   ]
  },
  {
   "cell_type": "markdown",
   "metadata": {},
   "source": [
    "### Day 1 Part One"
   ]
  },
  {
   "cell_type": "code",
   "execution_count": 3,
   "metadata": {},
   "outputs": [
    {
     "name": "stdout",
     "output_type": "stream",
     "text": [
      "Day 1 Part 1 is 3453056.\n"
     ]
    }
   ],
   "source": [
    "def calc_fuel(mass):\n",
    "    \"\"\" divide by three, round down, and subtract 2 \"\"\"\n",
    "    return mass // 3 - 2\n",
    "\n",
    "test_masses = (12, 14, 1969, 100756)\n",
    "test_results = (2, 2, 654, 33583)\n",
    "for (mass, result) in zip(test_masses, test_results):\n",
    "    assert result == calc_fuel(mass)\n",
    "\n",
    "day1_part1 = sum([calc_fuel(mass) for mass in day1])        \n",
    "print(f\"Day 1 Part 1 is {day1_part1}.\")"
   ]
  },
  {
   "cell_type": "markdown",
   "metadata": {},
   "source": [
    "### Day 1 Part Two"
   ]
  },
  {
   "cell_type": "code",
   "execution_count": 4,
   "metadata": {},
   "outputs": [
    {
     "name": "stdout",
     "output_type": "stream",
     "text": [
      "Day 1 Part 2 is 5176705.\n"
     ]
    }
   ],
   "source": [
    "def total_fuel(mass, accumulated=0, verbose=False):\n",
    "    \"\"\" repeat and accumulate until not positive \"\"\"\n",
    "    if verbose:\n",
    "        print(f\" mass={mass}, accumulated={accumulated}\")\n",
    "    fuel = calc_fuel(mass)\n",
    "    if fuel < 0:\n",
    "        return accumulated\n",
    "    else:\n",
    "        return total_fuel(fuel, accumulated + fuel, verbose=verbose)\n",
    "\n",
    "test_masses_2 = (14, 1969, 100756)\n",
    "test_results_2 = (2, 966, 50346)\n",
    "for (mass, result) in zip(test_masses_2, test_results_2):\n",
    "    total = total_fuel(mass, verbose=False)\n",
    "    #print(f\"-- assert mass={mass}, want={result}, got={total} --\")\n",
    "    assert result == total\n",
    "    \n",
    "day1_part2 = sum([total_fuel(mass) for mass in day1])        \n",
    "print(f\"Day 1 Part 2 is {day1_part2}.\")"
   ]
  },
  {
   "cell_type": "markdown",
   "metadata": {},
   "source": [
    "---\n",
    "## [Day 2](http://adventofcode.com/2019/day/2) : 1202 Program Alarm"
   ]
  },
  {
   "cell_type": "code",
   "execution_count": 5,
   "metadata": {},
   "outputs": [
    {
     "name": "stdout",
     "output_type": "stream",
     "text": [
      "The beginning and end of day2_raw is '1,0,0,3,1,' and ',2,0,14,0'.\n",
      "The 149 integers of day2 are [1, 0, 0, 3, 1, 1 ... 0, 99, 2, 0, 14, 0].\n"
     ]
    }
   ],
   "source": [
    "# -- input --\n",
    "# 1,0,0,3,1,1,2,3,1,3,4,3,1,5,0,3,2,6, ...\n",
    "day2_raw = puzzle_input(2).read()\n",
    "print(f\"The beginning and end of day2_raw is '{day2_raw[:10]}' and '{day2_raw[-10:].strip()}'.\")\n",
    "day2 = [int(s.strip()) for s in day2_raw.split(',')]\n",
    "print(f\"The {len(day2)} integers of day2 are {str(day2[:6])[:-1]} ... {str(day2[-6:])[1:]}.\")"
   ]
  },
  {
   "cell_type": "markdown",
   "metadata": {},
   "source": [
    "### Day 2 Part One"
   ]
  },
  {
   "cell_type": "code",
   "execution_count": 6,
   "metadata": {},
   "outputs": [
    {
     "name": "stdout",
     "output_type": "stream",
     "text": [
      "Day 2 Part 1 is 4090689.\n"
     ]
    }
   ],
   "source": [
    "# The state of the machine is defined by (ip, intcode) where\n",
    "#    ip       :  address of next instruction to be executed\n",
    "#    intcode  :  Intcode program i.e. list of integers \n",
    "\n",
    "def addresses(intcodes, ip):\n",
    "    \"\"\" Return the three address (a, b, c) at positions 1,2,3 past ip. \"\"\"\n",
    "    return intcodes[ip+1 : ip+4]\n",
    "\n",
    "def op_add(intcodes, ip):\n",
    "    (a, b, c) = addresses(intcodes, ip)\n",
    "    intcodes[c] = intcodes[a] + intcodes[b]\n",
    "    return (intcodes, ip + 4)\n",
    "\n",
    "def op_multiply(intcodes, ip):\n",
    "    (a, b, c) = addresses(intcodes, ip)\n",
    "    intcodes[c] = intcodes[a] * intcodes[b]\n",
    "    return (intcodes, ip + 4)\n",
    "\n",
    "def op_halt(intcodes, ip):\n",
    "    return (intcodes, -1)   # signal 'finished' with a negative ip.\n",
    "\n",
    "def reset_1202(intcodes):\n",
    "    \"\"\" reset to 1202 program alarm \"\"\"\n",
    "    intcodes[1] = 12\n",
    "    intcodes[2] = 2\n",
    "    return intcodes\n",
    "\n",
    "operations = { 1 : op_add,\n",
    "               2 : op_multiply,\n",
    "              99 : op_halt\n",
    "             }\n",
    "\n",
    "def run(intcodes, ip=0, reset=True):\n",
    "    \"\"\" Execute the instructions in the intcodes. \"\"\"\n",
    "    intcodes = intcodes[:] # work on a copy\n",
    "    ip = 0\n",
    "    if reset:\n",
    "        intcodes = reset_1202(intcodes)\n",
    "    while True:\n",
    "        op = operations[intcodes[ip]]\n",
    "        (intcodes, ip) = op(intcodes, ip)\n",
    "        if ip < 0:\n",
    "            return intcodes\n",
    "\n",
    "test_inputs = ([1,9,10,3,2,3,11,0,99,30,40,50],\n",
    "               [1,0,0,0,99],\n",
    "               [2,3,0,3,99],\n",
    "               [2,4,4,5,99,0],\n",
    "               [1,1,1,4,99,5,6,0,99]\n",
    "              )\n",
    "\n",
    "test_outputs = ([3500,9,10,70, 2,3,11,0, 99, 30,40,50],\n",
    "                [2,0,0,0,99],\n",
    "                [2,3,0,6,99],\n",
    "                [2,4,4,5,99,9801],\n",
    "                [30,1,1,4,2,5,6,0,99]\n",
    "               )\n",
    "\n",
    "for (test_in, test_out) in zip(test_inputs, test_outputs):\n",
    "    assert run(test_in, reset=False) == test_out\n",
    "    \n",
    "day_2_part_1 = run(day2)[0]\n",
    "print(f\"Day 2 Part 1 is {day_2_part_1}.\")"
   ]
  },
  {
   "cell_type": "markdown",
   "metadata": {},
   "source": [
    "### Day 2 Part 2"
   ]
  },
  {
   "cell_type": "code",
   "execution_count": 7,
   "metadata": {},
   "outputs": [
    {
     "name": "stdout",
     "output_type": "stream",
     "text": [
      "Day 2 Part 2 is 7733.\n"
     ]
    }
   ],
   "source": [
    "def run2(*inputs, intcodes=day2):\n",
    "    \"\"\" Run the intcodes code with initial values (noun, verb) \"\"\"\n",
    "    intcodes = intcodes[:]     # Work on a copy, not the original.\n",
    "    assert len(inputs) == 2    # Make sure we have two input values.\n",
    "    intcodes[1:3] = inputs     # Replace intcodes[1] and intcodes[2].\n",
    "    ip = 0                     # Initialize instruction pointer.\n",
    "    while True:\n",
    "        op = operations[intcodes[ip]]           # Get operation at address ip.\n",
    "        (intcodes, ip) = op(intcodes, ip)       # Get new state by doing it.\n",
    "        if ip < 0:                              # Done?\n",
    "            return intcodes[0]\n",
    "\n",
    "assert run2(12, 2) == 4090689                   # Test that this still gives part 1.\n",
    "\n",
    "for noun in range(100):\n",
    "    for verb in range(100):\n",
    "        if run2(noun, verb) == 19690720:            \n",
    "            #print(f\"noun={noun}, verb={verb}\")\n",
    "            print(f\"Day 2 Part 2 is {100*noun+verb}.\")\n",
    "            break"
   ]
  },
  {
   "cell_type": "markdown",
   "metadata": {},
   "source": [
    "---\n",
    "## [Day 3](http://adventofcode.com/2019/day/3) : Crossed Wires"
   ]
  },
  {
   "cell_type": "code",
   "execution_count": 8,
   "metadata": {},
   "outputs": [
    {
     "name": "stdout",
     "output_type": "stream",
     "text": [
      "day3_wire1 : length 1471, starts 'R1005,U370,L' , ends '61,D849,R379'.\n",
      "day3_wire2 : length 1475, starts 'L998,U242,R3' , ends '71,D912,R227'.\n"
     ]
    }
   ],
   "source": [
    "day3_raw = puzzle_input(3).read()\n",
    "#day3_raw\n",
    "(day3_wire1, day3_wire2) = ( wire.strip() for wire in puzzle_input(3).readlines() )\n",
    "print(f\"day3_wire1 : length {len(day3_wire1)}, starts '{day3_wire1[:12]}' , ends '{day3_wire1[-12:]}'.\")\n",
    "print(f\"day3_wire2 : length {len(day3_wire2)}, starts '{day3_wire2[:12]}' , ends '{day3_wire2[-12:]}'.\")"
   ]
  },
  {
   "cell_type": "markdown",
   "metadata": {},
   "source": [
    "### Day 3 Part 1"
   ]
  },
  {
   "cell_type": "code",
   "execution_count": 9,
   "metadata": {},
   "outputs": [
    {
     "name": "stdout",
     "output_type": "stream",
     "text": [
      " . . . . . . . . . . . . .\n",
      " . . . . . . . . . . . . .\n",
      " . . n n n n n n n . . . .\n",
      " . . n . . . . . n . . . .\n",
      " . . n . . m m m X m m . .\n",
      " . . n . . m . . n . m . .\n",
      " . . n . n X n n n . m . .\n",
      " . . n . . m . . . . m . .\n",
      " . . n . . . . . . . m . .\n",
      " . . 0 m m m m m m m m . .\n",
      " . . . . . . . . . . . . .\n",
      " . . . . . . . . . . . . .\n",
      "\n",
      "Day 3 Part 1 answer is 1626.\n"
     ]
    }
   ],
   "source": [
    "directions = {'R': point(1,0),    # Right\n",
    "              'L': point(-1,0),   # Left\n",
    "              'U': point(0,1),    # Up\n",
    "              'D': point(0,-1)    # Down\n",
    "             }\n",
    "\n",
    "def point_set(wire):\n",
    "    \"\"\" Return set of points that the wire (e.g. 'L23,R10,U10') goes through \"\"\"\n",
    "    result = set()\n",
    "    location = point(0,0)\n",
    "    for segment in wire.split(','):\n",
    "        direction = directions[segment[0]]\n",
    "        distance = int(segment[1:])\n",
    "        for d in range(distance):\n",
    "            location = add(location, direction)  # Here \"add\" means geometric vector add.\n",
    "            result.add(location)                 # Here \"add\" means append to set.\n",
    "    return result\n",
    "\n",
    "def draw(w1, w2):\n",
    "    \"\"\" Draw two wires \"\"\"\n",
    "    points1 = point_set(w1)\n",
    "    points2 = point_set(w2)\n",
    "    all_points = points1.union(points2)\n",
    "    shared_points = points1.intersection(points2)\n",
    "    xmax = max( X(p) for p in all_points ) + 2\n",
    "    xmin = min( X(p) for p in all_points ) - 2\n",
    "    ymax = max( Y(p) for p in all_points ) + 2\n",
    "    ymin = min( Y(p) for p in all_points ) - 2\n",
    "    origin = point(0,0)\n",
    "    for y in range(ymax, ymin-1, -1):\n",
    "        for x in range(xmin, xmax+1):\n",
    "            p = point(x,y)\n",
    "            if p == origin:\n",
    "                symbol = '0'\n",
    "            elif p in shared_points:\n",
    "                symbol = 'X'     # X marks the spot(s)\n",
    "            elif p in points1:\n",
    "                symbol = 'm'\n",
    "            elif p in points2:\n",
    "                symbol = 'n'\n",
    "            else:\n",
    "                symbol = '.'\n",
    "            print(' ' + symbol, end='')\n",
    "        print()\n",
    "\n",
    "draw('R8,U5,L5,D3', 'U7,R6,D4,L4')  # Illustrated in the problem statement.\n",
    "\n",
    "def closest(w1, w2):\n",
    "    \"\"\" Manhatten distance to closest crossing \"\"\"\n",
    "    return min(manhattan(p) for p in point_set(w1).intersection(point_set(w2)))\n",
    "\n",
    "tests = ( ('R8,U5,L5,D3', \n",
    "           'U7,R6,D4,L4',                              6),\n",
    "          ('R75,D30,R83,U83,L12,D49,R71,U7,L72', \n",
    "           'U62,R66,U55,R34,D71,R55,D58,R83',         159),\n",
    "          ('R98,U47,R26,D63,R33,U87,L62,D20,R33,U53,R51', \n",
    "           'U98,R91,D20,R16,D67,R40,U7,R15,U6,R7',    135)\n",
    "        )\n",
    "for (wire1, wire2, answer) in tests:\n",
    "    assert closest(wire1, wire2) == answer\n",
    "\n",
    "print()\n",
    "print(f\"Day 3 Part 1 answer is {closest(day3_wire1, day3_wire2)}.\")"
   ]
  },
  {
   "cell_type": "markdown",
   "metadata": {},
   "source": [
    "### Day 3 Part 2"
   ]
  },
  {
   "cell_type": "code",
   "execution_count": 10,
   "metadata": {},
   "outputs": [
    {
     "name": "stdout",
     "output_type": "stream",
     "text": [
      "Day 3 Part 2 is 27330.\n"
     ]
    }
   ],
   "source": [
    "def point_steps(wire):\n",
    "    \"\"\" Return dict of {point:steps} for a wire (e.g. 'L23,R10,U10') \"\"\"\n",
    "    result = {}\n",
    "    location = point(0,0)\n",
    "    steps = 0\n",
    "    for segment in wire.split(','):\n",
    "        direction = directions[segment[0]]\n",
    "        distance = int(segment[1:])\n",
    "        for d in range(distance):\n",
    "            steps += 1\n",
    "            location = add(location, direction)\n",
    "            if location not in result:\n",
    "                # only set steps if this is first visit to this location\n",
    "                result[location] = steps\n",
    "    return result\n",
    "\n",
    "def smallest_total(wire1, wire2):\n",
    "    \"\"\" Return smallest sum of steps at an intersection \"\"\"\n",
    "    ps1 = point_steps(wire1)\n",
    "    ps2 = point_steps(wire2)\n",
    "    crossings = set(ps1).intersection(set(ps2))\n",
    "    return min(ps1[point] + ps2[point] for point in crossings)\n",
    "\n",
    "tests2 = ( ('R8,U5,L5,D3', \n",
    "            'U7,R6,D4,L4',                                 30),\n",
    "           ('R75,D30,R83,U83,L12,D49,R71,U7,L72', \n",
    "            'U62,R66,U55,R34,D71,R55,D58,R83',            610),\n",
    "           ('R98,U47,R26,D63,R33,U87,L62,D20,R33,U53,R51', \n",
    "            'U98,R91,D20,R16,D67,R40,U7,R15,U6,R7',       410)\n",
    "         )\n",
    "\n",
    "for (wire1, wire2, answer) in tests2:\n",
    "    assert smallest_total(wire1, wire2) == answer\n",
    "\n",
    "print(f\"Day 3 Part 2 is {smallest_total(day3_wire1, day3_wire2)}.\")"
   ]
  },
  {
   "cell_type": "markdown",
   "metadata": {},
   "source": [
    "---\n",
    "## [Day 4](http://adventofcode.com/2019/day/4) : Secure Container"
   ]
  },
  {
   "cell_type": "code",
   "execution_count": 11,
   "metadata": {},
   "outputs": [
    {
     "name": "stdout",
     "output_type": "stream",
     "text": [
      "The range is 307237 to 769058.\n"
     ]
    }
   ],
   "source": [
    "(day4_low, day4_high) = (int(x) for x in puzzle_input(4).read().strip().split('-'))\n",
    "print(f\"The range is {day4_low} to {day4_high}.\")"
   ]
  },
  {
   "cell_type": "markdown",
   "metadata": {},
   "source": [
    "### Day 4 Part 1"
   ]
  },
  {
   "cell_type": "code",
   "execution_count": 12,
   "metadata": {},
   "outputs": [
    {
     "name": "stdout",
     "output_type": "stream",
     "text": [
      "Day 4 Part 1 is 889.\n"
     ]
    }
   ],
   "source": [
    "def six_digits(x):\n",
    "    \"\"\" Return string of six digits. \"\"\"\n",
    "    return f\"{x:06}\"\n",
    "assert six_digits(3) == '000003'\n",
    "assert six_digits(123456) == '123456'\n",
    "\n",
    "def increasing(digits):\n",
    "    \"\"\" True if the digits are increasing. \"\"\"\n",
    "    for i in range(5):\n",
    "        if int(digits[i]) > int(digits[i+1]):\n",
    "            return False\n",
    "    return True\n",
    "assert increasing('111111') == True\n",
    "assert increasing('223450') == False\n",
    "assert increasing('123789') == True\n",
    "\n",
    "def doubles(digits):\n",
    "    \"\"\" Return number of adjacent doubles. \"\"\"\n",
    "    count = 0\n",
    "    for i in range(5):\n",
    "        if digits[i] == digits[i+1]:\n",
    "            count += 1\n",
    "    return count\n",
    "assert doubles('111111') == 5\n",
    "assert doubles('223450') == 1\n",
    "assert doubles('123789') == 0\n",
    "\n",
    "def doubles_f(digits):\n",
    "    \"\"\" same - functional version \"\"\"\n",
    "    # ... just for fun. ;)\n",
    "    return length(filter(allsame, pairwise(digits)))\n",
    "assert doubles_f('111111') == 5\n",
    "assert doubles_f('223450') == 1\n",
    "assert doubles_f('123789') == 0\n",
    "\n",
    "def valid(x):\n",
    "    digits = six_digits(x)\n",
    "    return increasing(digits) and doubles(digits) > 0\n",
    "\n",
    "tests = ( (111111, True),\n",
    "          (223450, False),\n",
    "          (123789, False)\n",
    "        )\n",
    "for (number, answer) in tests:\n",
    "    assert valid(number) == answer\n",
    "    \n",
    "def how_many(f=valid, low=day4_low, high=day4_high):\n",
    "    count=0\n",
    "    for i in range(low, high+1):\n",
    "        if f(i):\n",
    "            count += 1\n",
    "    return count\n",
    "\n",
    "print(f\"Day 4 Part 1 is {how_many()}.\")"
   ]
  },
  {
   "cell_type": "markdown",
   "metadata": {},
   "source": [
    "### Day 4 Part 2"
   ]
  },
  {
   "cell_type": "code",
   "execution_count": 13,
   "metadata": {},
   "outputs": [
    {
     "name": "stdout",
     "output_type": "stream",
     "text": [
      "Day 4 Part 2 is 589.\n"
     ]
    }
   ],
   "source": [
    "def exactly_two(digits):\n",
    "    \"\"\" Return number of two same (not part of larger sequence). \"\"\"\n",
    "    count = 0\n",
    "    for i in range(5):\n",
    "        if digits[i] == digits[i+1]:\n",
    "            if i-1 >= 0:\n",
    "                if digits[i-1] == digits[i+1]:\n",
    "                    continue\n",
    "            if i+2 <= 5:\n",
    "                if digits[i+2] == digits[i]:\n",
    "                    continue\n",
    "            count += 1\n",
    "    return count\n",
    "assert exactly_two('111333') == 0\n",
    "assert exactly_two('122233') == 1\n",
    "assert exactly_two('112233') == 3\n",
    "\n",
    "def valid2(xs):\n",
    "    digits = six_digits(xs)\n",
    "    return increasing(digits) and exactly_two(digits) > 0\n",
    "\n",
    "tests2 = ( (112233, True),\n",
    "           (123444, False),\n",
    "           (111122, True)\n",
    "        )\n",
    "for (number, answer) in tests2:\n",
    "    assert valid2(number) == answer\n",
    "    \n",
    "print(f\"Day 4 Part 2 is {how_many(f=valid2)}.\")"
   ]
  },
  {
   "cell_type": "markdown",
   "metadata": {},
   "source": [
    "---\n",
    "## [Day 5](http://adventofcode.com/2019/day/5) : Sunny with a Chance of Asteroids"
   ]
  },
  {
   "cell_type": "code",
   "execution_count": 14,
   "metadata": {},
   "outputs": [
    {
     "name": "stdout",
     "output_type": "stream",
     "text": [
      "The beginning and end of day5_raw is '3,225,1,22' and '23,99,226'.\n",
      "The 678 integers of day5 are [3, 225, 1, 225, 6, 6 ... 1, 223, 4, 223, 99, 226].\n"
     ]
    }
   ],
   "source": [
    "# Same format as Day 2.\n",
    "day5_raw = puzzle_input(5).read()\n",
    "print(f\"The beginning and end of day5_raw is '{day5_raw[:10]}' and '{day5_raw[-10:].strip()}'.\")\n",
    "day5 = [int(s.strip()) for s in day5_raw.split(',')]\n",
    "print(f\"The {len(day5)} integers of day5 are {str(day5[:6])[:-1]} ... {str(day5[-6:])[1:]}.\")"
   ]
  },
  {
   "cell_type": "markdown",
   "metadata": {},
   "source": [
    "### Day 5 Part 1"
   ]
  },
  {
   "cell_type": "code",
   "execution_count": 15,
   "metadata": {},
   "outputs": [
    {
     "name": "stdout",
     "output_type": "stream",
     "text": [
      "Day 5 Part 1 is 16348437.\n"
     ]
    }
   ],
   "source": [
    "# Utilties for extracting opcodes and modes from an instruction : \n",
    "\n",
    "def opcode_modes(instruction):\n",
    "    \"\"\" Return (opcode, (mode_1st, mode_2nd, mode_3rd)) \"\"\"\n",
    "    digits = f\"{instruction:05}\"  # five digits e.g. 101 => '00100'\n",
    "    opcode = int(digits[-2:])\n",
    "    modes = (int(digits[-3]), int(digits[-4]), int(digits[-5]))\n",
    "    return (opcode, modes)\n",
    "assert opcode_modes(199) == (99, (1, 0, 0)) # e.g. ABCDE=00199, return (DE (C,B,A))\n",
    "\n",
    "# The machine state now has more pieces :\n",
    "#   (code,   ip)          list of instructions, address of next to do\n",
    "#   (inputs, in_ptr)      list of inputs, address of the next to read\n",
    "#   output                list of outputs  (next output is appended)\n",
    "# Let's wrap them up in an object.\n",
    "\n",
    "class IntcodeMachine:\n",
    "    def __init__(self, code, inputs):\n",
    "        self.code = code[:]  # work on a copy of intcodes program\n",
    "        self.ip = 0          # instruction pointer = address into code\n",
    "        self.inputs = inputs[:]\n",
    "        self.in_ptr = 0      # pointer into inputs\n",
    "        self.outputs = []\n",
    "        self.opcode = 0      # placeholder ; set while processing instruction\n",
    "        self.modes = (0,0,0) # ditto\n",
    "        self.running = True\n",
    "    def error(self, message):\n",
    "        self.outputs.append('ERROR: ' + message)\n",
    "        self.running = False\n",
    "    def get_code(self, address):\n",
    "        \"\"\" return code[address] \"\"\"\n",
    "        try:\n",
    "            return self.code[address]\n",
    "        except IndexError:\n",
    "            self.error(f\"get code[{address}] out of bounds\")\n",
    "            return 0\n",
    "    def set_code(self, address, value):\n",
    "        try:\n",
    "            self.code[address] = value\n",
    "        except IndexError:\n",
    "            self.error(f\"set code[{address}]={value} out of bounds\")\n",
    "    def nth_value(self, n): \n",
    "        \"\"\" return n'th instruction parameter's value \"\"\"\n",
    "        assert n in (1, 2)   # Only used for 1st or 2nd parameter\n",
    "        parameter = self.get_code(self.ip + n)\n",
    "        mode = self.modes[n - 1]\n",
    "        if mode == 1:\n",
    "            return parameter                # immediate mode\n",
    "        elif mode == 0:\n",
    "            return self.get_code(parameter) # address mode\n",
    "        else:\n",
    "            self.error(f\"unknown mode={mode}\")\n",
    "            return 0\n",
    "    def set_opcode_modes(self):\n",
    "        \"\"\" Set current opcode and modes from code at ip. \"\"\"\n",
    "        instruction = self.get_code(self.ip)\n",
    "        (self.opcode, self.modes) = opcode_modes(instruction)\n",
    "    def run(self):\n",
    "        while self.running:\n",
    "            IM_step(self)\n",
    "        return self.outputs\n",
    "    \n",
    "def IM_add(self):\n",
    "    \"\"\" IntcodeMachine addition operation. \"\"\"\n",
    "    values = (self.nth_value(1), self.nth_value(2))\n",
    "    address = self.get_code(self.ip + 3)   # parameter 3 is address\n",
    "    self.set_code(address, values[0] + values[1])\n",
    "    self.ip += 4  # skip past (instruction, param_1, param_2, param_3)\n",
    "    \n",
    "def IM_multiply(self):\n",
    "    \"\"\" IntcodeMachine multiplication operation. \"\"\"\n",
    "    values = (self.nth_value(1), self.nth_value(2))\n",
    "    address = self.get_code(self.ip + 3)   # parameter 3 is address\n",
    "    self.set_code(address, values[0] * values[1])\n",
    "    self.ip += 4  # skip past (instruction, param_1, param_2, param_3)\n",
    "    \n",
    "def IM_read(self):\n",
    "    \"\"\" IntcodeMachine read from input; put at address in parameter 1 \"\"\"\n",
    "    address = self.get_code(self.ip + 1)   # 1 parameter \n",
    "    self.set_code(address, self.inputs[self.in_ptr])\n",
    "    self.in_ptr += 1    # increment input pointer\n",
    "    self.ip += 2        # skip past (instruction, param_1)\n",
    "    \n",
    "def IM_write(self):\n",
    "    \"\"\" IntcodeMachine append to outputs[] the value given by parameter 1 \"\"\"\n",
    "    value = self.nth_value(1)   # value of parameter 1\n",
    "    self.outputs.append(value)  # write to output\n",
    "    self.ip += 2                # skip past (instruction, param_1)\n",
    "    \n",
    "def IM_halt(self):\n",
    "    self.running = False\n",
    "\n",
    "IM_ops = { 1 : IM_add,\n",
    "           2 : IM_multiply,\n",
    "           3 : IM_read,\n",
    "           4 : IM_write,\n",
    "          99 : IM_halt\n",
    "         }\n",
    "\n",
    "def IM_step(self):\n",
    "    \"\"\" Run one step on the IntcodeMachine .\"\"\"\n",
    "    self.set_opcode_modes()\n",
    "    operation = IM_ops[self.opcode]\n",
    "    operation(self)\n",
    "\n",
    "# First example: an intcode program that copies input[0] to output.\n",
    "assert IntcodeMachine([3,0,4,0,99], [1234, 5678]).run() == [1234]\n",
    "\n",
    "# A second example given in the problem statement.\n",
    "im_example_2 = IntcodeMachine([1002,4,3,4,33], [])\n",
    "im_example_2.run()\n",
    "assert im_example_2.outputs == []\n",
    "assert im_example_2.code == [1002, 4, 3, 4, 99]\n",
    "\n",
    "day5_part1_outputs = IntcodeMachine(day5, [1]).run()\n",
    "day5_part1_diagnostic_tests = day5_part1_outputs[:-1]\n",
    "day5_part1_diagnostic_code = day5_part1_outputs[-1]\n",
    "assert all(output==0 for output in day5_part1_diagnostic_tests)\n",
    "print(f\"Day 5 Part 1 is {day5_part1_diagnostic_code}.\")"
   ]
  },
  {
   "cell_type": "markdown",
   "metadata": {},
   "source": [
    "### Day 5 Part 2"
   ]
  },
  {
   "cell_type": "code",
   "execution_count": 16,
   "metadata": {},
   "outputs": [
    {
     "name": "stdout",
     "output_type": "stream",
     "text": [
      "Day 5 Part 2 is 6959377.\n"
     ]
    }
   ],
   "source": [
    "# more opcodes ...\n",
    "\n",
    "def IM_jump_if(self, test_func):\n",
    "    \"\"\" Set ip to value in 2nd_param if test_func(1st_param). \"\"\"\n",
    "    switch = self.nth_value(1)\n",
    "    address = self.nth_value(2)\n",
    "    if test_func(switch):\n",
    "        self.ip = address  # jump to new address\n",
    "    else:\n",
    "        self.ip += 3       # skip past (opcode, param_1, param_2)\n",
    "    \n",
    "def IM_jump_if_true(self):\n",
    "    \"\"\" Set ip to value in 2nd_param if 1st_param is nonzero. \"\"\"\n",
    "    IM_jump_if(self, lambda s: s != 0)\n",
    "\n",
    "def IM_jump_if_false(self):\n",
    "    \"\"\" Set ip to value in 2nd_param if 1st_param is zero. \"\"\"\n",
    "    IM_jump_if(self, lambda s: s == 0)\n",
    "\n",
    "def IM_1_or_0_if(self, comparison):\n",
    "    \"\"\" Store 1 at 3rd_param address if comparison(1st_param, 2nd_param), \n",
    "        store 0 otherwise. \"\"\"\n",
    "    (switch1, switch2) = (self.nth_value(1), self.nth_value(2))\n",
    "    address = self.get_code(self.ip + 3)\n",
    "    if comparison(switch1, switch2):\n",
    "        self.set_code(address, 1)\n",
    "    else:\n",
    "        self.set_code(address, 0)\n",
    "    self.ip += 4  # skip past opcode + 3 parameters\n",
    "    \n",
    "def IM_less_than(self):\n",
    "    \"\"\" Store 1 at 2nd_param address if 1st_param < 2nd_param, \n",
    "        store 0 otherwise \"\"\"\n",
    "    IM_1_or_0_if(self, lambda a,b: a<b)\n",
    "\n",
    "def IM_equals(self):\n",
    "    \"\"\" Store 1 at 2nd_param address if 1st_param == 2nd_param, \n",
    "        store 0 otherwise \"\"\"\n",
    "    IM_1_or_0_if(self, lambda a,b: a==b)\n",
    "\n",
    "IM_ops = { 1 : IM_add,\n",
    "           2 : IM_multiply,\n",
    "           3 : IM_read,\n",
    "           4 : IM_write,\n",
    "           5 : IM_jump_if_true,\n",
    "           6 : IM_jump_if_false,\n",
    "           7 : IM_less_than,\n",
    "           8 : IM_equals,\n",
    "          99 : IM_halt\n",
    "         }\n",
    "\n",
    "# ... and more tests.\n",
    "\n",
    "tests = ( ([3,9,8,9,10,9,4,9,99,-1,8], 8, 1),   # input 8, position\n",
    "          ([3,9,8,9,10,9,4,9,99,-1,8], 9, 0),   # input not 8, position\n",
    "          ([3,3,1108,-1,8,3,4,3,99],   8, 1),   # input 8, immediate\n",
    "          ([3,3,1107,-1,8,3,4,3,99],   8, 0),   # input not 8, immediate\n",
    "          ([3,12,6,12,15,1,13,14,13,4,13,99,-1,0,1,9], 0, 0), # jump position\n",
    "          ([3,12,6,12,15,1,13,14,13,4,13,99,-1,0,1,9], 1, 1), # jump position\n",
    "          ([3,3,1105,-1,9,1101,0,0,12,4,12,99,1], 0, 0),   # jump immediate\n",
    "          ([3,3,1105,-1,9,1101,0,0,12,4,12,99,1], 1, 1),   # jump immediate\n",
    "          ([3,21,1008,21,8,20,1005,20,22,107,8,21,20,1006,20,31,\n",
    "            1106,0,36,98,0,0,1002,21,125,20,4,20,1105,1,46,104,\n",
    "            999,1105,1,46,1101,1000,1,20,4,20,1105,1,46,98,99], 5, 999),    # below 8\n",
    "           ([3,21,1008,21,8,20,1005,20,22,107,8,21,20,1006,20,31,\n",
    "            1106,0,36,98,0,0,1002,21,125,20,4,20,1105,1,46,104,\n",
    "            999,1105,1,46,1101,1000,1,20,4,20,1105,1,46,98,99], 8, 1000),   # equal to 8\n",
    "           ([3,21,1008,21,8,20,1005,20,22,107,8,21,20,1006,20,31,\n",
    "            1106,0,36,98,0,0,1002,21,125,20,4,20,1105,1,46,104,\n",
    "            999,1105,1,46,1101,1000,1,20,4,20,1105,1,46,98,99], 11, 1001)   # greater than 8\n",
    "        )\n",
    "\n",
    "for (intcode, in_value, out_value) in tests:\n",
    "    assert IntcodeMachine(intcode, [in_value]).run() == [out_value], (intcode, out_value)\n",
    "\n",
    "day5_part2_outputs = IntcodeMachine(day5, [5]).run()\n",
    "assert len(day5_part2_outputs) == 1\n",
    "print(f\"Day 5 Part 2 is {day5_part2_outputs[0]}.\")"
   ]
  },
  {
   "cell_type": "markdown",
   "metadata": {},
   "source": [
    "---\n",
    "## [Day 6](http://adventofcode.com/2019/day/6) : Universal Orbit Map"
   ]
  },
  {
   "cell_type": "code",
   "execution_count": 17,
   "metadata": {},
   "outputs": [
    {
     "name": "stdout",
     "output_type": "stream",
     "text": [
      "Puzzle input has 985 edges; first three are (['PJK', 'X3G'], ['ZM3', 'JGN'], ['YYF', '614']).\n",
      "The example has 11 edges; first three are (['COM', 'B'], ['B', 'C'], ['C', 'D']). \n"
     ]
    }
   ],
   "source": [
    "day6_raw = puzzle_input(6).readlines()\n",
    "def parse_day6(lines):\n",
    "    return tuple(line.strip().split(')') for line in lines)\n",
    "day6 = parse_day6(day6_raw)\n",
    "# Each line of the puzzle input is a directed edge in a tree.\n",
    "print(f\"Puzzle input has {len(day6)} edges; \", end='')\n",
    "print(f\"first three are {day6[:3]}.\")\n",
    "\n",
    "example6 = parse_day6(\"COM)B\\nB)C\\nC)D\\nD)E\\nE)F\\nB)G\\nG)H\\nD)I\\nE)J\\nJ)K\\nK)L\".split('\\n'))\n",
    "print(f\"The example has {len(example6)} edges; first three are {example6[:3]}. \")"
   ]
  },
  {
   "cell_type": "code",
   "execution_count": 18,
   "metadata": {},
   "outputs": [
    {
     "data": {
      "image/png": "[encoded data removed]",
      "text/plain": [
       "<Figure size 931x203 with 1 Axes>"
      ]
     },
     "metadata": {
      "needs_background": "light"
     },
     "output_type": "display_data"
    }
   ],
   "source": [
    "def make_graph_png(name, edges, graphtype='digraph', direction='LR'):\n",
    "    \"\"\" Create graph spec name.dot and graph image name.png using graphviz \"\"\"\n",
    "    # command line : \"dot -Tpng day6.dot > day6.png \"\n",
    "    filename = name + '.dot'\n",
    "    with open(filename, 'w') as graphviz:\n",
    "        graphviz.write(f'{graphtype} {{\\n rankdir=\"{direction}\"; \\n')\n",
    "        for (a,b) in edges:\n",
    "            graphviz.write(f' \"{a}\" -> \"{b}\"; \\n')\n",
    "        graphviz.write('}\\n')\n",
    "    dot_command = f\"dot -Tpng {filename} > {name}.png\"\n",
    "    dot_result = subprocess.run(dot_command, shell=True, \n",
    "                                stdout=subprocess.PIPE, stderr=subprocess.PIPE)\n",
    "    if dot_result.returncode != 0:\n",
    "        print(f\"subprocess.run({dot_command})\")\n",
    "        print(f\"  stdout: '{dot_result.stdout}'\")\n",
    "        print(f\"  stdout: '{dot_result.stdout}'\")\n",
    "make_graph_png(name='day6', edges=day6)  # day6.png is too big to show here.\n",
    "make_graph_png(name='day6_example', edges=example6)\n",
    "show_png('day6_example.png')    "
   ]
  },
  {
   "cell_type": "markdown",
   "metadata": {},
   "source": [
    "### Day 6 Part 1"
   ]
  },
  {
   "cell_type": "code",
   "execution_count": 35,
   "metadata": {},
   "outputs": [
    {
     "name": "stdout",
     "output_type": "stream",
     "text": [
      "Number of planets (graph nodes) is 12.\n",
      "Planets without a parent: COM \n",
      "Number without children: 4.\n",
      "Number with more than one parent: 0.\n"
     ]
    }
   ],
   "source": [
    "def get_planet(name, planets):\n",
    "    if not name in planets:\n",
    "        planets[name] = {'name': name, 'orbits':0, 'parents':set(), 'children':set()}\n",
    "    return planets[name]\n",
    "\n",
    "def make_planets(orbits):\n",
    "    planets = {}\n",
    "    for (name_a, name_b) in orbits:\n",
    "        a = get_planet(name_a, planets)\n",
    "        b = get_planet(name_b, planets)\n",
    "        a['children'].add(name_b)\n",
    "        b['parents'].add(name_a)\n",
    "    return planets\n",
    "\n",
    "planets = make_planets(example)\n",
    "        \n",
    "print(f\"Number of planets (graph nodes) is {len(planets)}.\")    \n",
    "\n",
    "print(\"Planets without a parent: \", end='')\n",
    "for name in planets:\n",
    "    if len(planets[name]['parents']) == 0:\n",
    "        print(name+' ', end='')\n",
    "print()\n",
    "\n",
    "kidless=0\n",
    "xtra_parent = 0\n",
    "for name in planets:\n",
    "    if len(planets[name]['children']) == 0:\n",
    "        kidless += 1\n",
    "    if len(planets[name]['parents']) > 1:\n",
    "        xtra_parent += 1\n",
    "print(f\"Number without children: {kidless}.\")\n",
    "print(f\"Number with more than one parent: {xtra_parent}.\")\n",
    "\n",
    "def assign_orbits(name, planets):\n",
    "    print(name)\n",
    "    if planets[name]['parents']:\n",
    "        parent = tuple(planets[name]['parents'])[0]\n",
    "        planets[name]['orbits'] = planets[parent]['orbits'] + 1\n",
    "    else:\n",
    "        planets[name]['orbits'] = 0\n",
    "    for child in planets[name]['children']:\n",
    "        assign_orbits(child, planets)\n",
    "\n",
    "#assign_orbits('COM', planets)\n",
    "#for name in planets:\n",
    "#    print(name, planets[name]['orbits'])\n"
   ]
  },
  {
   "cell_type": "code",
   "execution_count": 36,
   "metadata": {},
   "outputs": [
    {
     "data": {
      "text/plain": [
       "{'COM': {'name': 'COM', 'orbits': 0, 'parents': set(), 'children': {'B'}},\n",
       " 'B': {'name': 'B', 'orbits': 0, 'parents': {'COM'}, 'children': {'C', 'G'}},\n",
       " 'C': {'name': 'C', 'orbits': 0, 'parents': {'B'}, 'children': {'D'}},\n",
       " 'D': {'name': 'D', 'orbits': 0, 'parents': {'C'}, 'children': {'E', 'I'}},\n",
       " 'E': {'name': 'E', 'orbits': 0, 'parents': {'D'}, 'children': {'F', 'J'}},\n",
       " 'F': {'name': 'F', 'orbits': 0, 'parents': {'E'}, 'children': set()},\n",
       " 'G': {'name': 'G', 'orbits': 0, 'parents': {'B'}, 'children': {'H'}},\n",
       " 'H': {'name': 'H', 'orbits': 0, 'parents': {'G'}, 'children': set()},\n",
       " 'I': {'name': 'I', 'orbits': 0, 'parents': {'D'}, 'children': set()},\n",
       " 'J': {'name': 'J', 'orbits': 0, 'parents': {'E'}, 'children': {'K'}},\n",
       " 'K': {'name': 'K', 'orbits': 0, 'parents': {'J'}, 'children': {'L'}},\n",
       " 'L': {'name': 'L', 'orbits': 0, 'parents': {'K'}, 'children': set()}}"
      ]
     },
     "execution_count": 36,
     "metadata": {},
     "output_type": "execute_result"
    }
   ],
   "source": [
    "planets"
   ]
  },
  {
   "cell_type": "code",
   "execution_count": 37,
   "metadata": {},
   "outputs": [
    {
     "name": "stdout",
     "output_type": "stream",
     "text": [
      "COM\n",
      "B\n",
      "G\n",
      "H\n",
      "C\n",
      "D\n",
      "I\n",
      "E\n",
      "J\n",
      "K\n",
      "L\n",
      "F\n"
     ]
    }
   ],
   "source": [
    "assign_orbits('COM', planets)"
   ]
  },
  {
   "cell_type": "code",
   "execution_count": 38,
   "metadata": {},
   "outputs": [
    {
     "data": {
      "text/plain": [
       "{'COM': {'name': 'COM', 'orbits': 0, 'parents': set(), 'children': {'B'}},\n",
       " 'B': {'name': 'B', 'orbits': 1, 'parents': {'COM'}, 'children': {'C', 'G'}},\n",
       " 'C': {'name': 'C', 'orbits': 2, 'parents': {'B'}, 'children': {'D'}},\n",
       " 'D': {'name': 'D', 'orbits': 3, 'parents': {'C'}, 'children': {'E', 'I'}},\n",
       " 'E': {'name': 'E', 'orbits': 4, 'parents': {'D'}, 'children': {'F', 'J'}},\n",
       " 'F': {'name': 'F', 'orbits': 5, 'parents': {'E'}, 'children': set()},\n",
       " 'G': {'name': 'G', 'orbits': 2, 'parents': {'B'}, 'children': {'H'}},\n",
       " 'H': {'name': 'H', 'orbits': 3, 'parents': {'G'}, 'children': set()},\n",
       " 'I': {'name': 'I', 'orbits': 4, 'parents': {'D'}, 'children': set()},\n",
       " 'J': {'name': 'J', 'orbits': 5, 'parents': {'E'}, 'children': {'K'}},\n",
       " 'K': {'name': 'K', 'orbits': 6, 'parents': {'J'}, 'children': {'L'}},\n",
       " 'L': {'name': 'L', 'orbits': 7, 'parents': {'K'}, 'children': set()}}"
      ]
     },
     "execution_count": 38,
     "metadata": {},
     "output_type": "execute_result"
    }
   ],
   "source": [
    "planets"
   ]
  },
  {
   "cell_type": "code",
   "execution_count": 39,
   "metadata": {},
   "outputs": [
    {
     "data": {
      "text/plain": [
       "42"
      ]
     },
     "execution_count": 39,
     "metadata": {},
     "output_type": "execute_result"
    }
   ],
   "source": [
    "sum(planets[name]['orbits'] for name in planets)"
   ]
  },
  {
   "cell_type": "code",
   "execution_count": null,
   "metadata": {},
   "outputs": [],
   "source": []
  },
  {
   "cell_type": "markdown",
   "metadata": {},
   "source": [
    "### Day 6 Part 2"
   ]
  },
  {
   "cell_type": "code",
   "execution_count": null,
   "metadata": {},
   "outputs": [],
   "source": []
  },
  {
   "cell_type": "markdown",
   "metadata": {},
   "source": [
    "----\n",
    "## Explorations"
   ]
  },
  {
   "cell_type": "code",
   "execution_count": null,
   "metadata": {},
   "outputs": [],
   "source": []
  }
 ],
 "metadata": {
  "kernelspec": {
   "display_name": "Python 3",
   "language": "python",
   "name": "python3"
  },
  "language_info": {
   "codemirror_mode": {
    "name": "ipython",
    "version": 3
   },
   "file_extension": ".py",
   "mimetype": "text/x-python",
   "name": "python",
   "nbconvert_exporter": "python",
   "pygments_lexer": "ipython3",
   "version": "3.8.4"
  }
 },
 "nbformat": 4,
 "nbformat_minor": 2
}
