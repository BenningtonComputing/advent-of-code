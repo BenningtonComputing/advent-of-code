{
 "cells": [
  {
   "cell_type": "markdown",
   "metadata": {},
   "source": [
    "# [Advent of Code 2019](http://adventofcode.com/2019)\n",
    "\n",
    "\n",
    "Jim Mahoney | jimmahoney@bennington.edu | cs.bennington.college"
   ]
  },
  {
   "cell_type": "markdown",
   "metadata": {},
   "source": [
    "## Preparations"
   ]
  },
  {
   "cell_type": "code",
   "execution_count": 77,
   "metadata": {},
   "outputs": [],
   "source": [
    "\n",
    "# Some of these are from Peter Norvig's \n",
    "# github.com/norvig/pytudes/blob/master/ipynb/Advent%202017.ipynb\n",
    "\n",
    "import numpy as np\n",
    "from numpy import sin, cos, sqrt, pi\n",
    "import matplotlib.pyplot as plt\n",
    "from statistics import mean, median, stdev\n",
    "\n",
    "# Download puzzle input files into e.g. puzzle_input/1.txt .\n",
    "def puzzle_input(daynumber):\n",
    "    \"\"\" return the open file for given day \"\"\"\n",
    "    filename = f\"puzzle_inputs/{daynumber}.txt\"\n",
    "    try:\n",
    "        return open(filename)\n",
    "    except FileNotFoundError:\n",
    "        print(f\"Oops - couldn't find '{filename}'\")\n",
    "\n",
    "# -- 2D points with vector operations  --\n",
    "#    Using tuples rather than numpy arrays or complex numbers\n",
    "#    keeps integers as integers so grids work without roundoff errors.\n",
    "def point(x, y): return (x, y)\n",
    "def X(p): return p[0]\n",
    "def Y(p): return p[1]\n",
    "def dot(p1, p2): return X(p1)*X(p2) + Y(p1)*Y(p2)\n",
    "def length(p):return sqrt(dot(p, p))\n",
    "def manhattan(p): return abs(X(p)) + abs(Y(p))\n",
    "def add(p1, p2): return point(X(p1) + X(p2), Y(p1) + Y(p2))\n",
    "def scale(s, p): return point(s * X(p), s * Y(p))\n",
    "#    examples :\n",
    "assert X(point(3,4))==3 and Y(point(3,4))==4\n",
    "assert add(point(1,2), point(3,4)) == point(4,6)\n",
    "assert dot(point(1,2), point(10,11)) == 32\n",
    "assert scale(2, point(3,4)) == point(6,8)\n",
    "assert length(point(3,4)) == 5\n",
    "assert manhattan(point(3,-5)) == 8\n",
    "\n",
    "# -- functional utilities\n",
    "def allsame(xs): return len(set(xs))==1\n",
    "def allunique(xs): return len(set(xs))==len(xs)\n",
    "def length(xs): return len(tuple(xs)) # works on filter,map,...\n",
    "identity = lambda x:x\n",
    "def first(xs, default=None): \n",
    "    try:\n",
    "        return (tuple(xs))[0]\n",
    "    except:\n",
    "        return default\n",
    "def nth(xs, n, default=None): \n",
    "    try:\n",
    "        return (tuple(xs))[n]\n",
    "    except:\n",
    "        return default\n",
    "def mapt(f, xs): return tuple(map(f, xs)) # tuple(map())\n",
    "def pairwise(xs): return tuple(zip((tuple(xs))[:-1], (tuple(xs))[1:])) # ((x0,x1), (x1,x2), ...)\n",
    "# -- tests --\n",
    "assert first((1,2))==1\n",
    "assert nth((1,2), 1)==2\n",
    "assert allsame((1,1,1))==True\n",
    "assert allsame((1,1,2))==False\n",
    "assert allunique((1,2,3))==True\n",
    "assert allunique((1,1,2))==False\n",
    "assert mapt(lambda x:2*x, (1,2,3)) == (2,4,6)\n",
    "assert length(filter( lambda x: x<10, range(20))) == 10\n",
    "assert pairwise(range(4)) == ((0,1), (1,2), (2,3))\n",
    "\n",
    "# -- constants --\n",
    "inf = float('inf')\n",
    "assert inf > 1e99"
   ]
  },
  {
   "cell_type": "markdown",
   "metadata": {},
   "source": [
    "---\n",
    "## [Day 1](http://adventofcode.com/2019/day/1) : The Tyranny of the Rocket Equation"
   ]
  },
  {
   "cell_type": "code",
   "execution_count": 22,
   "metadata": {},
   "outputs": [
    {
     "name": "stdout",
     "output_type": "stream",
     "text": [
      "The first few raw lines are : ['85824\\n', '112173\\n', '142065\\n']\n",
      "The number of entries is 100.\n",
      "The first 3 are [85824, 112173, 142065].\n"
     ]
    }
   ],
   "source": [
    "# --- input ---\n",
    "# 85824\n",
    "# 112173\n",
    "# ...\n",
    "\n",
    "day1_raw_lines = puzzle_input(1).readlines()\n",
    "print(f\"The first few raw lines are : {day1_raw_lines[:3]}\")\n",
    "day1 = [int(line.strip()) for line in day1_raw_lines]\n",
    "print(f\"The number of entries is {len(day1)}.\")\n",
    "print(f\"The first 3 are {day1[:3]}.\")"
   ]
  },
  {
   "cell_type": "markdown",
   "metadata": {},
   "source": [
    "### Day 1 Part One"
   ]
  },
  {
   "cell_type": "code",
   "execution_count": 23,
   "metadata": {},
   "outputs": [
    {
     "name": "stdout",
     "output_type": "stream",
     "text": [
      "Day 1 Part 1 is 3453056.\n"
     ]
    }
   ],
   "source": [
    "def calc_fuel(mass):\n",
    "    \"\"\" divide by three, round down, and subtract 2 \"\"\"\n",
    "    return mass // 3 - 2\n",
    "\n",
    "test_masses = (12, 14, 1969, 100756)\n",
    "test_results = (2, 2, 654, 33583)\n",
    "for (mass, result) in zip(test_masses, test_results):\n",
    "    assert result == calc_fuel(mass)\n",
    "\n",
    "day1_part1 = sum([calc_fuel(mass) for mass in day1])        \n",
    "print(f\"Day 1 Part 1 is {day1_part1}.\")"
   ]
  },
  {
   "cell_type": "markdown",
   "metadata": {},
   "source": [
    "### Day 1 Part Two"
   ]
  },
  {
   "cell_type": "code",
   "execution_count": 24,
   "metadata": {},
   "outputs": [
    {
     "name": "stdout",
     "output_type": "stream",
     "text": [
      "Day 1 Part 2 is 5176705.\n"
     ]
    }
   ],
   "source": [
    "def total_fuel(mass, accumulated=0, verbose=False):\n",
    "    \"\"\" repeat and accumulate until not positive \"\"\"\n",
    "    if verbose:\n",
    "        print(f\" mass={mass}, accumulated={accumulated}\")\n",
    "    fuel = calc_fuel(mass)\n",
    "    if fuel < 0:\n",
    "        return accumulated\n",
    "    else:\n",
    "        return total_fuel(fuel, accumulated + fuel, verbose=verbose)\n",
    "\n",
    "test_masses_2 = (14, 1969, 100756)\n",
    "test_results_2 = (2, 966, 50346)\n",
    "for (mass, result) in zip(test_masses_2, test_results_2):\n",
    "    total = total_fuel(mass, verbose=False)\n",
    "    #print(f\"-- assert mass={mass}, want={result}, got={total} --\")\n",
    "    assert result == total\n",
    "    \n",
    "day1_part2 = sum([total_fuel(mass) for mass in day1])        \n",
    "print(f\"Day 1 Part 2 is {day1_part2}.\")"
   ]
  },
  {
   "cell_type": "markdown",
   "metadata": {},
   "source": [
    "---\n",
    "## [Day 2](http://adventofcode.com/2019/day/2) : 1202 Program Alarm"
   ]
  },
  {
   "cell_type": "code",
   "execution_count": 25,
   "metadata": {},
   "outputs": [
    {
     "name": "stdout",
     "output_type": "stream",
     "text": [
      "The beginning and end of day2_raw is '1,0,0,3,1,' and ',2,0,14,0'.\n",
      "The 149 integers of day2 are [1, 0, 0, 3, 1, 1 ... 0, 99, 2, 0, 14, 0].\n"
     ]
    }
   ],
   "source": [
    "# -- input --\n",
    "# 1,0,0,3,1,1,2,3,1,3,4,3,1,5,0,3,2,6, ...\n",
    "day2_raw = puzzle_input(2).read()\n",
    "print(f\"The beginning and end of day2_raw is '{day2_raw[:10]}' and '{day2_raw[-10:].strip()}'.\")\n",
    "day2 = [int(s.strip()) for s in day2_raw.split(',')]\n",
    "print(f\"The {len(day2)} integers of day2 are {str(day2[:6])[:-1]} ... {str(day2[-6:])[1:]}.\")"
   ]
  },
  {
   "cell_type": "markdown",
   "metadata": {},
   "source": [
    "### Day 2 Part One"
   ]
  },
  {
   "cell_type": "code",
   "execution_count": 26,
   "metadata": {},
   "outputs": [
    {
     "name": "stdout",
     "output_type": "stream",
     "text": [
      "Day 2 Part 1 is 4090689.\n"
     ]
    }
   ],
   "source": [
    "# The state of the machine is defined by (ip, intcode) where\n",
    "#    ip       :  address of next instruction to be executed\n",
    "#    intcode  :  Intcode program i.e. list of integers \n",
    "\n",
    "def addresses(intcodes, ip):\n",
    "    \"\"\" Return the three address (a, b, c) at positions 1,2,3 past ip. \"\"\"\n",
    "    return intcodes[ip+1 : ip+4]\n",
    "\n",
    "def op_add(intcodes, ip):\n",
    "    (a, b, c) = addresses(intcodes, ip)\n",
    "    intcodes[c] = intcodes[a] + intcodes[b]\n",
    "    return (intcodes, ip + 4)\n",
    "\n",
    "def op_multiply(intcodes, ip):\n",
    "    (a, b, c) = addresses(intcodes, ip)\n",
    "    intcodes[c] = intcodes[a] * intcodes[b]\n",
    "    return (intcodes, ip + 4)\n",
    "\n",
    "def op_halt(intcodes, ip):\n",
    "    return (intcodes, -1)   # signal 'finished' with a negative ip.\n",
    "\n",
    "def reset_1202(intcodes):\n",
    "    \"\"\" reset to 1202 program alarm \"\"\"\n",
    "    intcodes[1] = 12\n",
    "    intcodes[2] = 2\n",
    "    return intcodes\n",
    "\n",
    "operations = { 1 : op_add,\n",
    "               2 : op_multiply,\n",
    "              99 : op_halt\n",
    "             }\n",
    "\n",
    "def run(intcodes, ip=0, reset=True):\n",
    "    \"\"\" Execute the instructions in the intcodes. \"\"\"\n",
    "    intcodes = intcodes[:] # work on a copy\n",
    "    ip = 0\n",
    "    if reset:\n",
    "        intcodes = reset_1202(intcodes)\n",
    "    while True:\n",
    "        op = operations[intcodes[ip]]\n",
    "        (intcodes, ip) = op(intcodes, ip)\n",
    "        if ip < 0:\n",
    "            return intcodes\n",
    "\n",
    "test_inputs = ([1,9,10,3,2,3,11,0,99,30,40,50],\n",
    "               [1,0,0,0,99],\n",
    "               [2,3,0,3,99],\n",
    "               [2,4,4,5,99,0],\n",
    "               [1,1,1,4,99,5,6,0,99]\n",
    "              )\n",
    "\n",
    "test_outputs = ([3500,9,10,70, 2,3,11,0, 99, 30,40,50],\n",
    "                [2,0,0,0,99],\n",
    "                [2,3,0,6,99],\n",
    "                [2,4,4,5,99,9801],\n",
    "                [30,1,1,4,2,5,6,0,99]\n",
    "               )\n",
    "\n",
    "for (test_in, test_out) in zip(test_inputs, test_outputs):\n",
    "    assert run(test_in, reset=False) == test_out\n",
    "    \n",
    "day_2_part_1 = run(day2)[0]\n",
    "print(f\"Day 2 Part 1 is {day_2_part_1}.\")"
   ]
  },
  {
   "cell_type": "markdown",
   "metadata": {},
   "source": [
    "### Day 2 Part 2"
   ]
  },
  {
   "cell_type": "code",
   "execution_count": 27,
   "metadata": {},
   "outputs": [
    {
     "name": "stdout",
     "output_type": "stream",
     "text": [
      "Day 2 Part 2 is 7733.\n"
     ]
    }
   ],
   "source": [
    "def run2(*inputs, intcodes=day2):\n",
    "    \"\"\" Run the intcodes code with initial values (noun, verb) \"\"\"\n",
    "    intcodes = intcodes[:]     # Work on a copy, not the original.\n",
    "    assert len(inputs) == 2    # Make sure we have two input values.\n",
    "    intcodes[1:3] = inputs     # Replace intcodes[1] and intcodes[2].\n",
    "    ip = 0                     # Initialize instruction pointer.\n",
    "    while True:\n",
    "        op = operations[intcodes[ip]]           # Get operation at address ip.\n",
    "        (intcodes, ip) = op(intcodes, ip)       # Get new state by doing it.\n",
    "        if ip < 0:                              # Done?\n",
    "            return intcodes[0]\n",
    "\n",
    "assert run2(12, 2) == 4090689                   # Test that this still gives part 1.\n",
    "\n",
    "for noun in range(100):\n",
    "    for verb in range(100):\n",
    "        if run2(noun, verb) == 19690720:            \n",
    "            #print(f\"noun={noun}, verb={verb}\")\n",
    "            print(f\"Day 2 Part 2 is {100*noun+verb}.\")\n",
    "            break"
   ]
  },
  {
   "cell_type": "markdown",
   "metadata": {},
   "source": [
    "---\n",
    "## [Day 3](http://adventofcode.com/2019/day/3) : Crossed Wires"
   ]
  },
  {
   "cell_type": "code",
   "execution_count": 8,
   "metadata": {},
   "outputs": [
    {
     "name": "stdout",
     "output_type": "stream",
     "text": [
      "day3_wire1 : length 1471, starts 'R1005,U370,L' , ends '61,D849,R379'.\n",
      "day3_wire2 : length 1475, starts 'L998,U242,R3' , ends '71,D912,R227'.\n"
     ]
    }
   ],
   "source": [
    "day3_raw = puzzle_input(3).read()\n",
    "#day3_raw\n",
    "(day3_wire1, day3_wire2) = ( wire.strip() for wire in puzzle_input(3).readlines() )\n",
    "print(f\"day3_wire1 : length {len(day3_wire1)}, starts '{day3_wire1[:12]}' , ends '{day3_wire1[-12:]}'.\")\n",
    "print(f\"day3_wire2 : length {len(day3_wire2)}, starts '{day3_wire2[:12]}' , ends '{day3_wire2[-12:]}'.\")"
   ]
  },
  {
   "cell_type": "markdown",
   "metadata": {},
   "source": [
    "### Day 3 Part 1"
   ]
  },
  {
   "cell_type": "code",
   "execution_count": 15,
   "metadata": {},
   "outputs": [
    {
     "name": "stdout",
     "output_type": "stream",
     "text": [
      " . . . . . . . . . . . . .\n",
      " . . . . . . . . . . . . .\n",
      " . . n n n n n n n . . . .\n",
      " . . n . . . . . n . . . .\n",
      " . . n . . m m m X m m . .\n",
      " . . n . . m . . n . m . .\n",
      " . . n . n X n n n . m . .\n",
      " . . n . . m . . . . m . .\n",
      " . . n . . . . . . . m . .\n",
      " . . 0 m m m m m m m m . .\n",
      " . . . . . . . . . . . . .\n",
      " . . . . . . . . . . . . .\n",
      "\n",
      "Day 3 Part 1 answer is 1626.\n"
     ]
    }
   ],
   "source": [
    "directions = {'R': point(1,0),    # Right\n",
    "              'L': point(-1,0),   # Left\n",
    "              'U': point(0,1),    # Up\n",
    "              'D': point(0,-1)    # Down\n",
    "             }\n",
    "\n",
    "def point_set(wire):\n",
    "    \"\"\" Return set of points that the wire (e.g. 'L23,R10,U10') goes through \"\"\"\n",
    "    result = set()\n",
    "    location = point(0,0)\n",
    "    for segment in wire.split(','):\n",
    "        direction = directions[segment[0]]\n",
    "        distance = int(segment[1:])\n",
    "        for d in range(distance):\n",
    "            location = add(location, direction)  # Here \"add\" means geometric vector add.\n",
    "            result.add(location)                 # Here \"add\" means append to set.\n",
    "    return result\n",
    "\n",
    "def draw(w1, w2):\n",
    "    \"\"\" Draw two wires \"\"\"\n",
    "    points1 = point_set(w1)\n",
    "    points2 = point_set(w2)\n",
    "    all_points = points1.union(points2)\n",
    "    shared_points = points1.intersection(points2)\n",
    "    xmax = max( X(p) for p in all_points ) + 2\n",
    "    xmin = min( X(p) for p in all_points ) - 2\n",
    "    ymax = max( Y(p) for p in all_points ) + 2\n",
    "    ymin = min( Y(p) for p in all_points ) - 2\n",
    "    origin = point(0,0)\n",
    "    for y in range(ymax, ymin-1, -1):\n",
    "        for x in range(xmin, xmax+1):\n",
    "            p = point(x,y)\n",
    "            if p == origin:\n",
    "                symbol = '0'\n",
    "            elif p in shared_points:\n",
    "                symbol = 'X'     # X marks the spot(s)\n",
    "            elif p in points1:\n",
    "                symbol = 'm'\n",
    "            elif p in points2:\n",
    "                symbol = 'n'\n",
    "            else:\n",
    "                symbol = '.'\n",
    "            print(' ' + symbol, end='')\n",
    "        print()\n",
    "\n",
    "draw('R8,U5,L5,D3', 'U7,R6,D4,L4')  # Illustrated in the problem statement.\n",
    "\n",
    "def closest(w1, w2):\n",
    "    \"\"\" Manhatten distance to closest crossing \"\"\"\n",
    "    return min(manhattan(p) for p in point_set(w1).intersection(point_set(w2)))\n",
    "\n",
    "tests = ( ('R8,U5,L5,D3', \n",
    "           'U7,R6,D4,L4',                              6),\n",
    "          ('R75,D30,R83,U83,L12,D49,R71,U7,L72', \n",
    "           'U62,R66,U55,R34,D71,R55,D58,R83',         159),\n",
    "          ('R98,U47,R26,D63,R33,U87,L62,D20,R33,U53,R51', \n",
    "           'U98,R91,D20,R16,D67,R40,U7,R15,U6,R7',    135)\n",
    "        )\n",
    "for (wire1, wire2, answer) in tests:\n",
    "    assert closest(wire1, wire2) == answer\n",
    "\n",
    "print()\n",
    "print(f\"Day 3 Part 1 answer is {closest(day3_wire1, day3_wire2)}.\")"
   ]
  },
  {
   "cell_type": "markdown",
   "metadata": {},
   "source": [
    "### Day 3 Part 2"
   ]
  },
  {
   "cell_type": "code",
   "execution_count": 20,
   "metadata": {},
   "outputs": [
    {
     "name": "stdout",
     "output_type": "stream",
     "text": [
      "Day 3 Part 2 is 27330.\n"
     ]
    }
   ],
   "source": [
    "def point_steps(wire):\n",
    "    \"\"\" Return dict of {point:steps} for a wire (e.g. 'L23,R10,U10') \"\"\"\n",
    "    result = {}\n",
    "    location = point(0,0)\n",
    "    steps = 0\n",
    "    for segment in wire.split(','):\n",
    "        direction = directions[segment[0]]\n",
    "        distance = int(segment[1:])\n",
    "        for d in range(distance):\n",
    "            steps += 1\n",
    "            location = add(location, direction)\n",
    "            if location not in result:\n",
    "                # only set steps if this is first visit to this location\n",
    "                result[location] = steps\n",
    "    return result\n",
    "\n",
    "def smallest_total(wire1, wire2):\n",
    "    \"\"\" Return smallest sum of steps at an intersection \"\"\"\n",
    "    ps1 = point_steps(wire1)\n",
    "    ps2 = point_steps(wire2)\n",
    "    crossings = set(ps1).intersection(set(ps2))\n",
    "    return min(ps1[point] + ps2[point] for point in crossings)\n",
    "\n",
    "tests2 = ( ('R8,U5,L5,D3', \n",
    "            'U7,R6,D4,L4',                                 30),\n",
    "           ('R75,D30,R83,U83,L12,D49,R71,U7,L72', \n",
    "            'U62,R66,U55,R34,D71,R55,D58,R83',            610),\n",
    "           ('R98,U47,R26,D63,R33,U87,L62,D20,R33,U53,R51', \n",
    "            'U98,R91,D20,R16,D67,R40,U7,R15,U6,R7',       410)\n",
    "         )\n",
    "\n",
    "for (wire1, wire2, answer) in tests2:\n",
    "    assert smallest_total(wire1, wire2) == answer\n",
    "\n",
    "print(f\"Day 3 Part 2 is {smallest_total(day3_wire1, day3_wire2)}.\")"
   ]
  },
  {
   "cell_type": "markdown",
   "metadata": {},
   "source": [
    "---\n",
    "## [Day 4](http://adventofcode.com/2019/day/4) : Secure Container"
   ]
  },
  {
   "cell_type": "code",
   "execution_count": 38,
   "metadata": {},
   "outputs": [
    {
     "name": "stdout",
     "output_type": "stream",
     "text": [
      "The range is 307237 to 769058.\n"
     ]
    }
   ],
   "source": [
    "(day4_low, day4_high) = (int(x) for x in puzzle_input(4).read().strip().split('-'))\n",
    "print(f\"The range is {day4_low} to {day4_high}.\")"
   ]
  },
  {
   "cell_type": "markdown",
   "metadata": {},
   "source": [
    "### Day 4 Part 1"
   ]
  },
  {
   "cell_type": "code",
   "execution_count": 83,
   "metadata": {},
   "outputs": [
    {
     "name": "stdout",
     "output_type": "stream",
     "text": [
      "Day 4 Part 1 is 889.\n"
     ]
    }
   ],
   "source": [
    "def six_digits(x):\n",
    "    \"\"\" Return string of six digits. \"\"\"\n",
    "    return f\"{x:06}\"\n",
    "assert six_digits(3) == '000003'\n",
    "assert six_digits(123456) == '123456'\n",
    "\n",
    "def increasing(digits):\n",
    "    \"\"\" True if the digits are increasing. \"\"\"\n",
    "    for i in range(5):\n",
    "        if int(digits[i]) > int(digits[i+1]):\n",
    "            return False\n",
    "    return True\n",
    "assert increasing('111111') == True\n",
    "assert increasing('223450') == False\n",
    "assert increasing('123789') == True\n",
    "\n",
    "def doubles(digits):\n",
    "    \"\"\" Return number of adjacent doubles. \"\"\"\n",
    "    count = 0\n",
    "    for i in range(5):\n",
    "        if digits[i] == digits[i+1]:\n",
    "            count += 1\n",
    "    return count\n",
    "assert doubles('111111') == 5\n",
    "assert doubles('223450') == 1\n",
    "assert doubles('123789') == 0\n",
    "\n",
    "def doubles_f(digits):\n",
    "    \"\"\" same - functional version \"\"\"\n",
    "    # ... just for fun. ;)\n",
    "    return length(filter(allsame, pairwise(digits)))\n",
    "assert doubles_f('111111') == 5\n",
    "assert doubles_f('223450') == 1\n",
    "assert doubles_f('123789') == 0\n",
    "\n",
    "def valid(x):\n",
    "    digits = six_digits(x)\n",
    "    return increasing(digits) and doubles(digits) > 0\n",
    "\n",
    "tests = ( (111111, True),\n",
    "          (223450, False),\n",
    "          (123789, False)\n",
    "        )\n",
    "for (number, answer) in tests:\n",
    "    assert valid(number) == answer\n",
    "    \n",
    "def how_many(f=valid, low=day4_low, high=day4_high):\n",
    "    count=0\n",
    "    for i in range(low, high+1):\n",
    "        if f(i):\n",
    "            count += 1\n",
    "    return count\n",
    "\n",
    "print(f\"Day 4 Part 1 is {how_many()}.\")"
   ]
  },
  {
   "cell_type": "markdown",
   "metadata": {},
   "source": [
    "### Day 4 Part 2"
   ]
  },
  {
   "cell_type": "code",
   "execution_count": 90,
   "metadata": {},
   "outputs": [
    {
     "name": "stdout",
     "output_type": "stream",
     "text": [
      "Day 4 Part 2 is 589.\n"
     ]
    }
   ],
   "source": [
    "def exactly_two(digits):\n",
    "    \"\"\" Return number of two same (not part of larger sequence). \"\"\"\n",
    "    count = 0\n",
    "    for i in range(5):\n",
    "        if digits[i] == digits[i+1]:\n",
    "            if i-1 >= 0:\n",
    "                if digits[i-1] == digits[i+1]:\n",
    "                    continue\n",
    "            if i+2 <= 5:\n",
    "                if digits[i+2] == digits[i]:\n",
    "                    continue\n",
    "            count += 1\n",
    "    return count\n",
    "assert exactly_two('111333') == 0\n",
    "assert exactly_two('122233') == 1\n",
    "assert exactly_two('112233') == 3\n",
    "\n",
    "def valid2(xs):\n",
    "    digits = six_digits(xs)\n",
    "    return increasing(digits) and exactly_two(digits) > 0\n",
    "\n",
    "tests2 = ( (112233, True),\n",
    "           (123444, False),\n",
    "           (111122, True)\n",
    "        )\n",
    "for (number, answer) in tests2:\n",
    "    assert valid2(number) == answer\n",
    "    \n",
    "print(f\"Day 4 Part 2 is {how_many(f=valid2)}.\")"
   ]
  },
  {
   "cell_type": "markdown",
   "metadata": {},
   "source": [
    "---\n",
    "## [Day 5](http://adventofcode.com/2019/day/5) : Sunny with a Chance of Asteroids"
   ]
  },
  {
   "cell_type": "code",
   "execution_count": 94,
   "metadata": {},
   "outputs": [
    {
     "name": "stdout",
     "output_type": "stream",
     "text": [
      "The beginning and end of day5_raw is '3,225,1,22' and '23,99,226'.\n",
      "The 678 integers of day5 are [3, 225, 1, 225, 6, 6 ... 1, 223, 4, 223, 99, 226].\n"
     ]
    }
   ],
   "source": [
    "# Same format as Day 2.\n",
    "day5_raw = puzzle_input(5).read()\n",
    "print(f\"The beginning and end of day5_raw is '{day5_raw[:10]}' and '{day5_raw[-10:].strip()}'.\")\n",
    "day5 = [int(s.strip()) for s in day5_raw.split(',')]\n",
    "print(f\"The {len(day5)} integers of day5 are {str(day5[:6])[:-1]} ... {str(day5[-6:])[1:]}.\")"
   ]
  },
  {
   "cell_type": "markdown",
   "metadata": {},
   "source": [
    "### Day 5 Part 1"
   ]
  },
  {
   "cell_type": "code",
   "execution_count": null,
   "metadata": {},
   "outputs": [],
   "source": []
  },
  {
   "cell_type": "code",
   "execution_count": null,
   "metadata": {},
   "outputs": [],
   "source": []
  },
  {
   "cell_type": "code",
   "execution_count": null,
   "metadata": {},
   "outputs": [],
   "source": []
  },
  {
   "cell_type": "code",
   "execution_count": null,
   "metadata": {},
   "outputs": [],
   "source": []
  },
  {
   "cell_type": "code",
   "execution_count": null,
   "metadata": {},
   "outputs": [],
   "source": []
  },
  {
   "cell_type": "markdown",
   "metadata": {},
   "source": [
    "----\n",
    "## Explorations"
   ]
  },
  {
   "cell_type": "code",
   "execution_count": null,
   "metadata": {},
   "outputs": [],
   "source": []
  }
 ],
 "metadata": {
  "kernelspec": {
   "display_name": "Python 3",
   "language": "python",
   "name": "python3"
  },
  "language_info": {
   "codemirror_mode": {
    "name": "ipython",
    "version": 3
   },
   "file_extension": ".py",
   "mimetype": "text/x-python",
   "name": "python",
   "nbconvert_exporter": "python",
   "pygments_lexer": "ipython3",
   "version": "3.8.4"
  }
 },
 "nbformat": 4,
 "nbformat_minor": 2
}
